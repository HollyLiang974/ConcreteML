{
 "cells": [
  {
   "cell_type": "markdown",
   "source": [
    "# 量化矩阵相乘"
   ],
   "metadata": {
    "collapsed": false
   }
  },
  {
   "cell_type": "code",
   "execution_count": 34,
   "outputs": [],
   "source": [
    "import numpy as np\n",
    "from concrete.ml.quantization.quantizers import(\n",
    "    QuantizedArray,\n",
    "    MinMaxQuantizationStats,\n",
    "    QuantizationOptions,\n",
    ")"
   ],
   "metadata": {
    "collapsed": false,
    "ExecuteTime": {
     "start_time": "2023-10-02T15:56:21.317193Z",
     "end_time": "2023-10-02T15:56:21.383368Z"
    }
   }
  },
  {
   "cell_type": "markdown",
   "source": [
    "## 创建两个矩阵"
   ],
   "metadata": {
    "collapsed": false
   }
  },
  {
   "cell_type": "code",
   "execution_count": 35,
   "outputs": [
    {
     "name": "stdout",
     "output_type": "stream",
     "text": [
      "矩阵1:\n",
      "[[1. 2.]\n",
      " [3. 4.]]\n",
      "\n",
      "矩阵2:\n",
      "[[5. 6.]\n",
      " [7. 8.]]\n"
     ]
    }
   ],
   "source": [
    "# 创建两个浮点数矩阵\n",
    "matrix1 = np.array([[1.0, 2.0], [3.0, 4.0]], dtype=np.float64)\n",
    "matrix2 = np.array([[5.0, 6.0], [7.0, 8.0]], dtype=np.float64)\n",
    "\n",
    "# 使用numpy.dot函数计算矩阵相乘的结果\n",
    "result_dot = np.dot(matrix1, matrix2)\n",
    "\n",
    "# 或者使用@运算符计算矩阵相乘的结果\n",
    "result_at = matrix1 @ matrix2\n",
    "\n",
    "print(\"矩阵1:\")\n",
    "print(matrix1)\n",
    "\n",
    "print(\"\\n矩阵2:\")\n",
    "print(matrix2)"
   ],
   "metadata": {
    "collapsed": false,
    "ExecuteTime": {
     "start_time": "2023-10-02T15:56:21.333264Z",
     "end_time": "2023-10-02T15:56:21.433501Z"
    }
   }
  },
  {
   "cell_type": "markdown",
   "source": [
    "## 将矩阵1和矩阵2量化"
   ],
   "metadata": {
    "collapsed": false
   }
  },
  {
   "cell_type": "code",
   "execution_count": 36,
   "outputs": [
    {
     "name": "stdout",
     "output_type": "stream",
     "text": [
      "q_matrix1: [[ 32  64]\n",
      " [ 95 127]]\n",
      "q_matrix2: [[ 79  95]\n",
      " [111 127]]\n"
     ]
    }
   ],
   "source": [
    "options=QuantizationOptions(8,is_symmetric=True,is_signed=True)\n",
    "q_matrix1 = QuantizedArray(8,matrix1,options=options)\n",
    "q_matrix2 = QuantizedArray(8,matrix2,options=options)\n",
    "print(\"q_matrix1:\",q_matrix1.qvalues)\n",
    "print(\"q_matrix2:\",q_matrix2.qvalues)"
   ],
   "metadata": {
    "collapsed": false,
    "ExecuteTime": {
     "start_time": "2023-10-02T15:56:21.341257Z",
     "end_time": "2023-10-02T15:56:21.434504Z"
    }
   }
  },
  {
   "cell_type": "markdown",
   "source": [
    "矩阵量化参数"
   ],
   "metadata": {
    "collapsed": false
   }
  },
  {
   "cell_type": "code",
   "execution_count": 37,
   "outputs": [
    {
     "name": "stdout",
     "output_type": "stream",
     "text": [
      "q_matrix1: {'n_bits': 8, 'is_signed': True, 'is_symmetric': True, 'is_qat': False, 'is_narrow': False, 'is_precomputed_qat': False, 'rmax': 4.0, 'rmin': 1.0, 'uvalues': array([1., 2., 3., 4.]), 'scale': 0.031496062992125984, 'zero_point': 0, 'offset': 128, 'no_clipping': False}\n",
      "****************************************************************************************************\n",
      "q_matrix2: {'n_bits': 8, 'is_signed': True, 'is_symmetric': True, 'is_qat': False, 'is_narrow': False, 'is_precomputed_qat': False, 'rmax': 8.0, 'rmin': 5.0, 'uvalues': array([5., 6., 7., 8.]), 'scale': 0.06299212598425197, 'zero_point': 0, 'offset': 128, 'no_clipping': False}\n"
     ]
    }
   ],
   "source": [
    "print(\"q_matrix1:\",q_matrix1.quantizer.dump_dict())\n",
    "print(\"*\"*100)\n",
    "print(\"q_matrix2:\",q_matrix2.quantizer.dump_dict())"
   ],
   "metadata": {
    "collapsed": false,
    "ExecuteTime": {
     "start_time": "2023-10-02T15:56:21.357299Z",
     "end_time": "2023-10-02T15:56:21.435507Z"
    }
   }
  },
  {
   "cell_type": "markdown",
   "source": [
    "## 量化矩阵相乘"
   ],
   "metadata": {
    "collapsed": false
   }
  },
  {
   "cell_type": "code",
   "execution_count": 38,
   "outputs": [
    {
     "name": "stdout",
     "output_type": "stream",
     "text": [
      "q_result: [[ 9632 11168]\n",
      " [21602 25154]]\n"
     ]
    }
   ],
   "source": [
    "q_result = q_matrix1.qvalues @ q_matrix2.qvalues\n",
    "print(\"q_result:\",q_result)"
   ],
   "metadata": {
    "collapsed": false,
    "ExecuteTime": {
     "start_time": "2023-10-02T15:56:21.370337Z",
     "end_time": "2023-10-02T15:56:21.436509Z"
    }
   }
  },
  {
   "cell_type": "markdown",
   "source": [
    "## 反量化矩阵相乘的结果"
   ],
   "metadata": {
    "collapsed": false
   }
  },
  {
   "cell_type": "code",
   "execution_count": 39,
   "outputs": [
    {
     "name": "stdout",
     "output_type": "stream",
     "text": [
      "result: [[19.10992622 22.15735631]\n",
      " [42.85845372 49.90563581]]\n"
     ]
    }
   ],
   "source": [
    "result = q_result*q_matrix1.quantizer.scale * q_matrix2.quantizer.scale\n",
    "print(\"result:\",result)"
   ],
   "metadata": {
    "collapsed": false,
    "ExecuteTime": {
     "start_time": "2023-10-02T15:56:21.371361Z",
     "end_time": "2023-10-02T15:56:21.437512Z"
    }
   }
  },
  {
   "cell_type": "markdown",
   "source": [
    "量化矩阵相乘的结果"
   ],
   "metadata": {
    "collapsed": false
   }
  },
  {
   "cell_type": "code",
   "execution_count": 40,
   "outputs": [
    {
     "name": "stdout",
     "output_type": "stream",
     "text": [
      "real_result: [[19. 22.]\n",
      " [43. 50.]]\n"
     ]
    }
   ],
   "source": [
    "print(\"real_result:\",q_matrix1.values @ q_matrix2.values)"
   ],
   "metadata": {
    "collapsed": false,
    "ExecuteTime": {
     "start_time": "2023-10-02T15:56:21.381365Z",
     "end_time": "2023-10-02T15:56:21.444532Z"
    }
   }
  },
  {
   "cell_type": "markdown",
   "source": [
    "## 使用QuantizedMatMul计算矩阵相乘"
   ],
   "metadata": {
    "collapsed": false
   }
  },
  {
   "cell_type": "code",
   "execution_count": 41,
   "outputs": [],
   "source": [
    "from concrete.ml.quantization.quantized_ops import (\n",
    "    QuantizedMatMul,\n",
    ")"
   ],
   "metadata": {
    "collapsed": false,
    "ExecuteTime": {
     "start_time": "2023-10-02T15:56:21.425483Z",
     "end_time": "2023-10-02T15:56:21.444532Z"
    }
   }
  },
  {
   "cell_type": "code",
   "execution_count": 42,
   "outputs": [
    {
     "name": "stdout",
     "output_type": "stream",
     "text": [
      "expected_gemm_outputs: [[19. 22.]\n",
      " [43. 50.]]\n",
      "actual_gemm_outputs: [[18.96470588 22.00392157]\n",
      " [42.91372549 49.96470588]]\n"
     ]
    }
   ],
   "source": [
    "q_mm=QuantizedMatMul(\n",
    "    8,\n",
    "    \"Test_\"+\"QuantizedMatmul\",\n",
    "    int_input_names={\"0\"},\n",
    "    constant_inputs={\"b\": q_matrix2},\n",
    ")\n",
    "expected_mm_outputs = q_mm.calibrate(matrix1)\n",
    "print(\"expected_gemm_outputs:\",expected_mm_outputs)\n",
    "actual_mm_outputs = q_mm(q_matrix1)\n",
    "print(\"actual_gemm_outputs:\",actual_mm_outputs.dequant())"
   ],
   "metadata": {
    "collapsed": false,
    "ExecuteTime": {
     "start_time": "2023-10-02T15:56:21.426487Z",
     "end_time": "2023-10-02T15:56:21.445537Z"
    }
   }
  },
  {
   "cell_type": "markdown",
   "source": [
    "## 使用QuantizedGemm计算矩阵相乘"
   ],
   "metadata": {
    "collapsed": false
   }
  },
  {
   "cell_type": "code",
   "execution_count": 43,
   "outputs": [],
   "source": [
    "from concrete.ml.quantization.quantized_ops import (\n",
    "    QuantizedGemm,\n",
    ")"
   ],
   "metadata": {
    "collapsed": false,
    "ExecuteTime": {
     "start_time": "2023-10-02T15:56:21.426487Z",
     "end_time": "2023-10-02T15:56:21.445537Z"
    }
   }
  },
  {
   "cell_type": "code",
   "execution_count": 44,
   "outputs": [
    {
     "name": "stdout",
     "output_type": "stream",
     "text": [
      "expected_gemm_outputs: [[19. 22.]\n",
      " [43. 50.]]\n",
      "actual_gemm_outputs: [[18.96470588 22.00392157]\n",
      " [42.91372549 49.96470588]]\n"
     ]
    }
   ],
   "source": [
    "q_gemm = QuantizedGemm(\n",
    "        8,\n",
    "        \"Test_\" + \"QuantizedGemm\",\n",
    "        int_input_names={\"0\"},\n",
    "        constant_inputs={\"b\": q_matrix2},\n",
    "    )\n",
    "expected_gemm_outputs = q_gemm.calibrate(matrix1)\n",
    "print(\"expected_gemm_outputs:\",expected_gemm_outputs)\n",
    "actual_gemm_outputs = q_gemm(q_matrix1)\n",
    "print(\"actual_gemm_outputs:\",actual_gemm_outputs.dequant())"
   ],
   "metadata": {
    "collapsed": false,
    "ExecuteTime": {
     "start_time": "2023-10-02T15:56:21.426487Z",
     "end_time": "2023-10-02T15:56:21.445537Z"
    }
   }
  },
  {
   "cell_type": "markdown",
   "source": [
    "## 将矩阵相乘编译成电路"
   ],
   "metadata": {
    "collapsed": false
   }
  },
  {
   "cell_type": "code",
   "execution_count": 46,
   "outputs": [],
   "source": [
    "from concrete import fhe\n",
    "import numpy as np"
   ],
   "metadata": {
    "collapsed": false,
    "ExecuteTime": {
     "start_time": "2023-10-02T16:00:27.879330Z",
     "end_time": "2023-10-02T16:00:27.923624Z"
    }
   }
  },
  {
   "cell_type": "code",
   "execution_count": 49,
   "outputs": [
    {
     "name": "stdout",
     "output_type": "stream",
     "text": [
      "weight: [[0.95465017 0.58393463 0.35734682 ... 0.22489583 0.55098736 0.3623464 ]\n",
      " [0.09161431 0.89189404 0.83573627 ... 0.88843133 0.26682027 0.2463664 ]\n",
      " [0.97754837 0.10080221 0.95624031 ... 0.45348708 0.82623286 0.94490637]\n",
      " ...\n",
      " [0.842556   0.22946084 0.27145455 ... 0.20887805 0.39179828 0.47013186]\n",
      " [0.39623873 0.51532867 0.94003651 ... 0.09512315 0.75648157 0.0526663 ]\n",
      " [0.73702707 0.34416041 0.74220157 ... 0.87376436 0.88828931 0.03447776]]\n",
      "bias: [0.6076683  0.18899815 0.8529939  0.54036791 0.09063075 0.18266463\n",
      " 0.17376126 0.96365516 0.70750656 0.1754963 ]\n"
     ]
    }
   ],
   "source": [
    "weight=np.random.rand(576,10)\n",
    "bias=np.random.rand(10)\n",
    "print(\"weight:\",weight)\n",
    "print(\"bias:\",bias)\n"
   ],
   "metadata": {
    "collapsed": false,
    "ExecuteTime": {
     "start_time": "2023-10-02T16:10:11.645869Z",
     "end_time": "2023-10-02T16:10:11.688982Z"
    }
   }
  },
  {
   "cell_type": "code",
   "execution_count": 50,
   "outputs": [
    {
     "name": "stdout",
     "output_type": "stream",
     "text": [
      "q_weight: [[121  74  45 ...  29  70  46]\n",
      " [ 12 113 106 ... 113  34  31]\n",
      " [124  13 121 ...  58 105 120]\n",
      " ...\n",
      " [107  29  34 ...  27  50  60]\n",
      " [ 50  65 119 ...  12  96   7]\n",
      " [ 94  44  94 ... 111 113   4]]\n",
      "q_bias: [1354175006  421178079 1900877544 1204197616  201968565  407063984\n",
      "  387223020 2147483647 1576662297  391089526]\n"
     ]
    }
   ],
   "source": [
    "options=QuantizationOptions(8,is_symmetric=True,is_signed=True)\n",
    "q_weight=QuantizedArray(8,weight,options=options)\n",
    "q_bias=QuantizedArray(32,bias,options=options)\n",
    "print(\"q_weight:\",q_weight.qvalues)\n",
    "print(\"q_bias:\",q_bias.qvalues)"
   ],
   "metadata": {
    "collapsed": false,
    "ExecuteTime": {
     "start_time": "2023-10-02T16:10:16.429672Z",
     "end_time": "2023-10-02T16:10:16.444731Z"
    }
   }
  },
  {
   "cell_type": "code",
   "execution_count": 54,
   "outputs": [],
   "source": [
    "configuration = fhe.Configuration(\n",
    "    enable_unsafe_features=True,\n",
    "    show_mlir=False,\n",
    "    show_graph=True,\n",
    ")\n",
    "@fhe.compiler({\"q_x\": \"encrypted\"})\n",
    "def f_lr(q_x):\n",
    "    res = q_x @ q_weight.qvalues\n",
    "    return res"
   ],
   "metadata": {
    "collapsed": false,
    "ExecuteTime": {
     "start_time": "2023-10-02T16:13:06.409147Z",
     "end_time": "2023-10-02T16:13:06.452108Z"
    }
   }
  },
  {
   "cell_type": "code",
   "execution_count": 63,
   "outputs": [],
   "source": [
    "inputset = [np.random.randint(-128, 128, size=(576,)) for i in range(10000)]"
   ],
   "metadata": {
    "collapsed": false,
    "ExecuteTime": {
     "start_time": "2023-10-02T16:17:55.589584Z",
     "end_time": "2023-10-02T16:17:56.374426Z"
    }
   }
  },
  {
   "cell_type": "code",
   "execution_count": 64,
   "outputs": [
    {
     "name": "stdout",
     "output_type": "stream",
     "text": [
      "\n",
      "Computation Graph\n",
      "--------------------------------------------------------------------------------\n",
      "%0 = q_x                              # EncryptedTensor<int9, shape=(576,)>        ∈ [-128, 255]\n",
      "%1 = [[121  74  ...  113   4]]        # ClearTensor<uint7, shape=(576, 10)>        ∈ [0, 127]\n",
      "%2 = matmul(%0, %1)                   # EncryptedTensor<int24, shape=(10,)>        ∈ [-537182, 5391143]\n",
      "return %2\n",
      "--------------------------------------------------------------------------------\n",
      "\n"
     ]
    }
   ],
   "source": [
    "circuit = f_lr.compile(inputset,configuration=configuration)"
   ],
   "metadata": {
    "collapsed": false,
    "ExecuteTime": {
     "start_time": "2023-10-02T16:17:58.205160Z",
     "end_time": "2023-10-02T16:18:00.477546Z"
    }
   }
  },
  {
   "cell_type": "code",
   "execution_count": 65,
   "outputs": [
    {
     "name": "stdout",
     "output_type": "stream",
     "text": [
      "input: (576,)\n"
     ]
    }
   ],
   "source": [
    "input=np.random.randn(576,)\n",
    "print(\"input:\",input.shape)"
   ],
   "metadata": {
    "collapsed": false,
    "ExecuteTime": {
     "start_time": "2023-10-02T16:18:04.961855Z",
     "end_time": "2023-10-02T16:18:04.972922Z"
    }
   }
  },
  {
   "cell_type": "code",
   "execution_count": 66,
   "outputs": [
    {
     "name": "stdout",
     "output_type": "stream",
     "text": [
      "q_input: [ -60    4  -39   66  -43  -17   -4  -68   -5  -12  -71  -13   35  -52\n",
      "    0  -54   -3  -72   10   -7   52  -47  -54    3   37  -45   42   51\n",
      "   29  102  -21  -15   45   69  -65   46   -3   79   23   40   66   27\n",
      "   52   77   32   13   14  -40  -45   20  -33  -43   -6  -23    1   42\n",
      "    9    1  -55   49   -7   19  -58   30  -78   37   43  -16  -30   22\n",
      "   28   -5  -13   22   37  -60    7  -29   24   31   25   43  -58   93\n",
      "   20   13  -87  -11   56  -44   31  -53  -21   -2    4   37  -15   19\n",
      "  -10   36  -52  -48   11   -1  -73  -17   52  -35    5  -44  -16   37\n",
      "   58  -53   48  -16    8  -54  -24  -13  -64  -31   -7   -2  -80    8\n",
      "   12   -7  -37   -2  -16    6   47   25    2  -38   -5  -71  -35   44\n",
      "  -70   15  -52   41   67   -1   10   74   -5   73  -75   -3  -33  -67\n",
      "    5   27   45   20    4  -10   44    2  -18   40  -54   30  -21   -1\n",
      "   57   77    3  -33   18  -44   55   16    5   34   10   50   -1   81\n",
      "   21   -7  -52   33    4  -75  -84   24  -83   51  125  -32   20  -14\n",
      "   26   27  -71   87  -12   22  -47   18  -22   35  -40   21  -61    5\n",
      "   22  -50  -32   25    4 -127   30   80   22   21   14  -26  -38  -30\n",
      "    0   -3   41   17  -25  -48  -24   24   -1   -3  -19   36   22  -10\n",
      "  -24   17   30  -55    9   68   38   35   79  -24  -11  -11  -12   24\n",
      "   35   12   25  -12  -90   22  -10    6  -37   14   78  -51  -60   61\n",
      "  -27  -11   23  -14   21  -35    6    1   20   35  -57   44   29   -2\n",
      "   35    9    9   64  -33   21  -49   25  -73   29   68  -29  -13  -42\n",
      "   36  -16  -76   12  -13    3  -36   55   80  -11   23   39  -88   -9\n",
      "    2   -2  -35   33   21   -7    0   61  -20   10  -46  -92  -25  -15\n",
      "   27   27   63  -10  -36   -7   23  -63   68  -41  -14   39   -3   -6\n",
      "  -40  -30    0   49   22  -57  -30   14  -55  -69   11   45   21  -35\n",
      "   74   37   23   32   13   51   14   19  -16    3  -75   32   33  -76\n",
      "    5   46  -17  -32  -16   62  -34  -10   -9   85   81  -31   50  -17\n",
      "  -10  -33  109   60  -23  -15   -9   29  -79   13  -16   20   45   23\n",
      " -120   63  -38   14   33  -37  -53   34   43   24   78    3   -9   23\n",
      "    8    8   26  -27  114    1  -16  -62  -24    3   42   17   45   61\n",
      "   -3  -24   -5  -28   26  -22  -32   -9   11  -22  -43  -41    9  -82\n",
      "  -29   24   40   11  -10   15  101   15  -44  -11  -21   25  -58  -23\n",
      "   33   -8  -20   14  -28  -68  -25   -3   12   24    9  -40    0   22\n",
      "  -15   11  -24  -73  -68  -10   -2  -50   25  -35   40    1  -14   17\n",
      "   24   19  -37  -34  -80   44    2  -79  -35   51 -108    0    6  -45\n",
      "    8    2   39   17   66  -48   58  -78  -48  -18    7  -71   15  -29\n",
      "   40  -15   18   -1    1  -31   -3   39   17   -3   24   30   33   12\n",
      "   38  -50   20   -7  -15  -46  -31   95  -33  -12   28    6  -51   27\n",
      "  -16   73   47   11   49  -33   -9   17   15   18  -10   21    5   15\n",
      "  -57  -17  -56  -17  -63   64   22  -65    3   16   18  -10  -23   -7\n",
      "   21  -24  -31  -65  -39   22  -17   24  -33   58   -9  -12   19   43\n",
      "   32  -41]\n"
     ]
    }
   ],
   "source": [
    "q_input=QuantizedArray(8,input,options=options)\n",
    "print(\"q_input:\",q_input.qvalues)"
   ],
   "metadata": {
    "collapsed": false,
    "ExecuteTime": {
     "start_time": "2023-10-02T16:18:06.621871Z",
     "end_time": "2023-10-02T16:18:06.634905Z"
    }
   }
  },
  {
   "cell_type": "code",
   "execution_count": 71,
   "outputs": [
    {
     "name": "stdout",
     "output_type": "stream",
     "text": [
      "deq_result: [ 6.75702657 -5.09449915 -0.69947311  5.48305074  5.34564349 -1.26695502\n",
      " -9.94347059  2.11847878  5.94201101  7.44707173]\n",
      "real_result: [ 6.72275252 -5.09005379 -0.73747859  5.33244733  5.32704307 -1.14732623\n",
      " -9.94018604  2.0951329   5.84514328  7.3201499 ]\n"
     ]
    }
   ],
   "source": [
    "q_result=circuit.encrypt_run_decrypt(q_input.qvalues)\n",
    "deq_result=q_result*q_weight.quantizer.scale*q_input.quantizer.scale\n",
    "print(\"deq_result:\",deq_result)\n",
    "print(\"real_result:\",input@weight)"
   ],
   "metadata": {
    "collapsed": false,
    "ExecuteTime": {
     "start_time": "2023-10-02T16:20:31.339217Z",
     "end_time": "2023-10-02T16:20:31.386341Z"
    }
   }
  }
 ],
 "metadata": {
  "kernelspec": {
   "display_name": "Python 3",
   "language": "python",
   "name": "python3"
  },
  "language_info": {
   "codemirror_mode": {
    "name": "ipython",
    "version": 2
   },
   "file_extension": ".py",
   "mimetype": "text/x-python",
   "name": "python",
   "nbconvert_exporter": "python",
   "pygments_lexer": "ipython2",
   "version": "2.7.6"
  }
 },
 "nbformat": 4,
 "nbformat_minor": 0
}
