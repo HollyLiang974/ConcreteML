{
 "cells": [
  {
   "cell_type": "markdown",
   "source": [
    "# 量化矩阵相乘"
   ],
   "metadata": {
    "collapsed": false
   }
  },
  {
   "cell_type": "code",
   "execution_count": 1,
   "outputs": [],
   "source": [
    "import numpy as np\n",
    "from concrete.ml.quantization.quantizers import(\n",
    "    QuantizedArray,\n",
    "    MinMaxQuantizationStats,\n",
    "    QuantizationOptions,\n",
    "    UniformQuantizationParameters\n",
    ")"
   ],
   "metadata": {
    "collapsed": false,
    "ExecuteTime": {
     "start_time": "2023-10-26T16:59:09.281571Z",
     "end_time": "2023-10-26T16:59:41.136681Z"
    }
   }
  },
  {
   "cell_type": "markdown",
   "source": [
    "## 创建两个矩阵"
   ],
   "metadata": {
    "collapsed": false
   }
  },
  {
   "cell_type": "code",
   "execution_count": 3,
   "outputs": [
    {
     "name": "stdout",
     "output_type": "stream",
     "text": [
      "矩阵1:\n",
      "[[1. 2.]\n",
      " [3. 4.]]\n",
      "\n",
      "矩阵2:\n",
      "[[5. 6.]\n",
      " [7. 8.]]\n"
     ]
    }
   ],
   "source": [
    "# 创建两个浮点数矩阵\n",
    "matrix1 = np.array([[1.0, 2.0], [3.0, 4.0]], dtype=np.float64)\n",
    "matrix2 = np.array([[5.0, 6.0], [7.0, 8.0]], dtype=np.float64)\n",
    "\n",
    "# 使用numpy.dot函数计算矩阵相乘的结果\n",
    "result_dot = np.dot(matrix1, matrix2)\n",
    "\n",
    "# 或者使用@运算符计算矩阵相乘的结果\n",
    "result_at = matrix1 @ matrix2\n",
    "\n",
    "print(\"矩阵1:\")\n",
    "print(matrix1)\n",
    "\n",
    "print(\"\\n矩阵2:\")\n",
    "print(matrix2)"
   ],
   "metadata": {
    "collapsed": false,
    "ExecuteTime": {
     "start_time": "2023-10-09T21:22:12.837634Z",
     "end_time": "2023-10-09T21:22:12.838636Z"
    }
   }
  },
  {
   "cell_type": "markdown",
   "source": [
    "## 将矩阵1和矩阵2量化"
   ],
   "metadata": {
    "collapsed": false
   }
  },
  {
   "cell_type": "code",
   "execution_count": 4,
   "outputs": [
    {
     "name": "stdout",
     "output_type": "stream",
     "text": [
      "q_matrix1: [[ 32  64]\n",
      " [ 95 127]]\n",
      "q_matrix2: [[ 79  95]\n",
      " [111 127]]\n"
     ]
    }
   ],
   "source": [
    "options=QuantizationOptions(8,is_symmetric=True,is_signed=True)\n",
    "q_matrix1 = QuantizedArray(8,matrix1,options=options)\n",
    "q_matrix2 = QuantizedArray(8,matrix2,options=options)\n",
    "print(\"q_matrix1:\",q_matrix1.qvalues)\n",
    "print(\"q_matrix2:\",q_matrix2.qvalues)"
   ],
   "metadata": {
    "collapsed": false,
    "ExecuteTime": {
     "start_time": "2023-10-09T21:22:12.837634Z",
     "end_time": "2023-10-09T21:22:12.838636Z"
    }
   }
  },
  {
   "cell_type": "markdown",
   "source": [
    "矩阵量化参数"
   ],
   "metadata": {
    "collapsed": false
   }
  },
  {
   "cell_type": "code",
   "execution_count": 5,
   "outputs": [
    {
     "name": "stdout",
     "output_type": "stream",
     "text": [
      "q_matrix1: {'n_bits': 8, 'is_signed': True, 'is_symmetric': True, 'is_qat': False, 'is_narrow': False, 'is_precomputed_qat': False, 'rmax': 4.0, 'rmin': 1.0, 'uvalues': array([1., 2., 3., 4.]), 'scale': 0.031496062992125984, 'zero_point': 0, 'offset': 128, 'no_clipping': False}\n",
      "****************************************************************************************************\n",
      "q_matrix2: {'n_bits': 8, 'is_signed': True, 'is_symmetric': True, 'is_qat': False, 'is_narrow': False, 'is_precomputed_qat': False, 'rmax': 8.0, 'rmin': 5.0, 'uvalues': array([5., 6., 7., 8.]), 'scale': 0.06299212598425197, 'zero_point': 0, 'offset': 128, 'no_clipping': False}\n"
     ]
    }
   ],
   "source": [
    "print(\"q_matrix1:\",q_matrix1.quantizer.dump_dict())\n",
    "print(\"*\"*100)\n",
    "print(\"q_matrix2:\",q_matrix2.quantizer.dump_dict())"
   ],
   "metadata": {
    "collapsed": false,
    "ExecuteTime": {
     "start_time": "2023-10-09T21:22:12.837634Z",
     "end_time": "2023-10-09T21:22:12.838636Z"
    }
   }
  },
  {
   "cell_type": "markdown",
   "source": [
    "## 量化矩阵相乘"
   ],
   "metadata": {
    "collapsed": false
   }
  },
  {
   "cell_type": "code",
   "execution_count": 6,
   "outputs": [
    {
     "name": "stdout",
     "output_type": "stream",
     "text": [
      "q_result: [[ 9632 11168]\n",
      " [21602 25154]]\n"
     ]
    }
   ],
   "source": [
    "q_result = q_matrix1.qvalues @ q_matrix2.qvalues\n",
    "print(\"q_result:\",q_result)"
   ],
   "metadata": {
    "collapsed": false,
    "ExecuteTime": {
     "start_time": "2023-10-09T21:22:12.838636Z",
     "end_time": "2023-10-09T21:22:12.838636Z"
    }
   }
  },
  {
   "cell_type": "markdown",
   "source": [
    "## 反量化矩阵相乘的结果"
   ],
   "metadata": {
    "collapsed": false
   }
  },
  {
   "cell_type": "code",
   "execution_count": 7,
   "outputs": [
    {
     "name": "stdout",
     "output_type": "stream",
     "text": [
      "result: [[19.10992622 22.15735631]\n",
      " [42.85845372 49.90563581]]\n"
     ]
    }
   ],
   "source": [
    "result = q_result*q_matrix1.quantizer.scale * q_matrix2.quantizer.scale\n",
    "print(\"result:\",result)"
   ],
   "metadata": {
    "collapsed": false,
    "ExecuteTime": {
     "start_time": "2023-10-09T21:22:12.838636Z",
     "end_time": "2023-10-09T21:22:12.843677Z"
    }
   }
  },
  {
   "cell_type": "markdown",
   "source": [
    "量化矩阵相乘的结果"
   ],
   "metadata": {
    "collapsed": false
   }
  },
  {
   "cell_type": "code",
   "execution_count": 8,
   "outputs": [
    {
     "name": "stdout",
     "output_type": "stream",
     "text": [
      "real_result: [[19. 22.]\n",
      " [43. 50.]]\n"
     ]
    }
   ],
   "source": [
    "print(\"real_result:\",q_matrix1.values @ q_matrix2.values)"
   ],
   "metadata": {
    "collapsed": false,
    "ExecuteTime": {
     "start_time": "2023-10-09T21:22:12.890774Z",
     "end_time": "2023-10-09T21:22:12.944917Z"
    }
   }
  },
  {
   "cell_type": "markdown",
   "source": [
    "## 使用QuantizedMatMul计算矩阵相乘"
   ],
   "metadata": {
    "collapsed": false
   }
  },
  {
   "cell_type": "code",
   "execution_count": 9,
   "outputs": [],
   "source": [
    "from concrete.ml.quantization.quantized_ops import (\n",
    "    QuantizedMatMul,\n",
    ")"
   ],
   "metadata": {
    "collapsed": false,
    "ExecuteTime": {
     "start_time": "2023-10-09T21:22:12.890774Z",
     "end_time": "2023-10-09T21:22:12.944917Z"
    }
   }
  },
  {
   "cell_type": "code",
   "execution_count": 10,
   "outputs": [
    {
     "name": "stdout",
     "output_type": "stream",
     "text": [
      "expected_gemm_outputs: [[19. 22.]\n",
      " [43. 50.]]\n",
      "actual_gemm_outputs: [[18.96470588 22.00392157]\n",
      " [42.91372549 49.96470588]]\n"
     ]
    }
   ],
   "source": [
    "q_mm=QuantizedMatMul(\n",
    "    8,\n",
    "    \"Test_\"+\"QuantizedMatmul\",\n",
    "    int_input_names={\"0\"},\n",
    "    constant_inputs={\"b\": q_matrix2},\n",
    ")\n",
    "expected_mm_outputs = q_mm.calibrate(matrix1)\n",
    "print(\"expected_gemm_outputs:\",expected_mm_outputs)\n",
    "actual_mm_outputs = q_mm(q_matrix1)\n",
    "print(\"actual_gemm_outputs:\",actual_mm_outputs.dequant())"
   ],
   "metadata": {
    "collapsed": false,
    "ExecuteTime": {
     "start_time": "2023-10-09T21:22:12.890774Z",
     "end_time": "2023-10-09T21:22:12.944917Z"
    }
   }
  },
  {
   "cell_type": "markdown",
   "source": [
    "## 使用QuantizedGemm计算矩阵相乘"
   ],
   "metadata": {
    "collapsed": false
   }
  },
  {
   "cell_type": "code",
   "execution_count": 11,
   "outputs": [],
   "source": [
    "from concrete.ml.quantization.quantized_ops import (\n",
    "    QuantizedGemm,\n",
    ")"
   ],
   "metadata": {
    "collapsed": false,
    "ExecuteTime": {
     "start_time": "2023-10-09T21:22:12.890774Z",
     "end_time": "2023-10-09T21:22:12.944917Z"
    }
   }
  },
  {
   "cell_type": "code",
   "execution_count": 12,
   "outputs": [
    {
     "name": "stdout",
     "output_type": "stream",
     "text": [
      "expected_gemm_outputs: [[19. 22.]\n",
      " [43. 50.]]\n",
      "actual_gemm_outputs: [[18.96470588 22.00392157]\n",
      " [42.91372549 49.96470588]]\n"
     ]
    }
   ],
   "source": [
    "q_gemm = QuantizedGemm(\n",
    "        8,\n",
    "        \"Test_\" + \"QuantizedGemm\",\n",
    "        int_input_names={\"0\"},\n",
    "        constant_inputs={\"b\": q_matrix2},\n",
    "    )\n",
    "expected_gemm_outputs = q_gemm.calibrate(matrix1)\n",
    "print(\"expected_gemm_outputs:\",expected_gemm_outputs)\n",
    "actual_gemm_outputs = q_gemm(q_matrix1)\n",
    "print(\"actual_gemm_outputs:\",actual_gemm_outputs.dequant())"
   ],
   "metadata": {
    "collapsed": false,
    "ExecuteTime": {
     "start_time": "2023-10-09T21:22:12.890774Z",
     "end_time": "2023-10-09T21:22:12.944917Z"
    }
   }
  },
  {
   "cell_type": "markdown",
   "source": [
    "## 将矩阵相乘编译成电路"
   ],
   "metadata": {
    "collapsed": false
   }
  },
  {
   "cell_type": "code",
   "execution_count": 13,
   "outputs": [],
   "source": [
    "from concrete import fhe\n",
    "import numpy as np"
   ],
   "metadata": {
    "collapsed": false,
    "ExecuteTime": {
     "start_time": "2023-10-09T21:22:12.937923Z",
     "end_time": "2023-10-09T21:22:12.945923Z"
    }
   }
  },
  {
   "cell_type": "code",
   "execution_count": 14,
   "outputs": [
    {
     "name": "stdout",
     "output_type": "stream",
     "text": [
      "weight: [[0.29866332 0.53118062 0.21773419 ... 0.29728277 0.88437553 0.46548094]\n",
      " [0.80666771 0.2900616  0.76745915 ... 0.09926808 0.81027607 0.43771638]\n",
      " [0.07560522 0.09372396 0.21049474 ... 0.66247873 0.00188731 0.90234339]\n",
      " ...\n",
      " [0.59346738 0.72741228 0.11590441 ... 0.64907804 0.78052024 0.69502247]\n",
      " [0.66344919 0.95057771 0.93593391 ... 0.69857797 0.0895137  0.67533205]\n",
      " [0.07059111 0.1754342  0.97671722 ... 0.50604694 0.02302833 0.878599  ]]\n",
      "bias: [0.77533138 0.6681513  0.95731044 0.18328553 0.1158954  0.09975622\n",
      " 0.86337917 0.134197   0.11127182 0.2222513 ]\n"
     ]
    }
   ],
   "source": [
    "weight=np.random.rand(576,10)\n",
    "bias=np.random.rand(10)\n",
    "print(\"weight:\",weight)\n",
    "print(\"bias:\",bias)\n"
   ],
   "metadata": {
    "collapsed": false,
    "ExecuteTime": {
     "start_time": "2023-10-09T21:22:12.937923Z",
     "end_time": "2023-10-09T21:22:12.945923Z"
    }
   }
  },
  {
   "cell_type": "code",
   "execution_count": 15,
   "outputs": [
    {
     "name": "stdout",
     "output_type": "stream",
     "text": [
      "q_weight: [[ 38  67  28 ...  38 112  59]\n",
      " [102  37  97 ...  13 103  56]\n",
      " [ 10  12  27 ...  84   0 115]\n",
      " ...\n",
      " [ 75  92  15 ...  82  99  88]\n",
      " [ 84 121 119 ...  89  11  86]\n",
      " [  9  22 124 ...  64   3 112]]\n"
     ]
    }
   ],
   "source": [
    "options=QuantizationOptions(8,is_symmetric=True,is_signed=True)\n",
    "q_weight=QuantizedArray(8,weight,options=options)\n",
    "print(\"q_weight:\",q_weight.qvalues)"
   ],
   "metadata": {
    "collapsed": false,
    "ExecuteTime": {
     "start_time": "2023-10-09T21:22:12.937923Z",
     "end_time": "2023-10-09T21:22:12.945923Z"
    }
   }
  },
  {
   "cell_type": "code",
   "execution_count": 16,
   "outputs": [],
   "source": [
    "configuration = fhe.Configuration(\n",
    "    enable_unsafe_features=True,\n",
    "    show_mlir=False,\n",
    "    show_graph=True,\n",
    ")\n",
    "@fhe.compiler({\"q_x\": \"encrypted\"})\n",
    "def f_lr(q_x):\n",
    "    res = q_x @ q_weight.qvalues\n",
    "    return res"
   ],
   "metadata": {
    "collapsed": false,
    "ExecuteTime": {
     "start_time": "2023-10-09T21:22:12.937923Z",
     "end_time": "2023-10-09T21:22:12.945923Z"
    }
   }
  },
  {
   "cell_type": "code",
   "execution_count": 17,
   "outputs": [],
   "source": [
    "inputset = [np.random.randint(-128, 128, size=(576,)) for i in range(10000)]"
   ],
   "metadata": {
    "collapsed": false,
    "ExecuteTime": {
     "start_time": "2023-10-09T21:22:12.938902Z",
     "end_time": "2023-10-09T21:22:13.489987Z"
    }
   }
  },
  {
   "cell_type": "code",
   "execution_count": 18,
   "outputs": [
    {
     "name": "stdout",
     "output_type": "stream",
     "text": [
      "\n",
      "Computation Graph\n",
      "--------------------------------------------------------------------------------\n",
      "%0 = q_x                              # EncryptedTensor<int8, shape=(576,)>        ∈ [-128, 127]\n",
      "%1 = [[ 38  67  ...    3 112]]        # ClearTensor<uint7, shape=(576, 10)>        ∈ [0, 127]\n",
      "%2 = matmul(%0, %1)                   # EncryptedTensor<int21, shape=(10,)>        ∈ [-594815, 555436]\n",
      "return %2\n",
      "--------------------------------------------------------------------------------\n",
      "\n"
     ]
    }
   ],
   "source": [
    "circuit = f_lr.compile(inputset,configuration=configuration)"
   ],
   "metadata": {
    "collapsed": false,
    "ExecuteTime": {
     "start_time": "2023-10-09T21:22:13.497007Z",
     "end_time": "2023-10-09T21:22:14.763262Z"
    }
   }
  },
  {
   "cell_type": "code",
   "execution_count": 19,
   "outputs": [
    {
     "name": "stdout",
     "output_type": "stream",
     "text": [
      "input: (576,)\n"
     ]
    }
   ],
   "source": [
    "input=np.random.randn(576,)\n",
    "print(\"input:\",input.shape)"
   ],
   "metadata": {
    "collapsed": false,
    "ExecuteTime": {
     "start_time": "2023-10-09T21:22:14.769562Z",
     "end_time": "2023-10-09T21:22:14.774574Z"
    }
   }
  },
  {
   "cell_type": "code",
   "execution_count": 20,
   "outputs": [
    {
     "name": "stdout",
     "output_type": "stream",
     "text": [
      "q_input: [  -8   26    4   -5  -77   14  -35   29  -56   27    3    2  -31  -10\n",
      "  -26   -6   43  -15   11   11  -57   19   18   -8    5   81  -18   -7\n",
      "  -13 -103   31   27   11   15  -71  -26  -19   14  -69   73  -15   36\n",
      "  -33  -63   -6  -37   72   22    9  -28  -78  -25  -29  -52  -39  -15\n",
      "   25  -26  -21  -20    4   -1  -37   65   -3   43   37    8  -56  -17\n",
      "  -33  -53  -43  -70  -20   11    6   19   64   23  -29   47  -60  -37\n",
      "  -46   18    3   22   -4   -1   53   64  -52  -13   24   -9   16  -12\n",
      "   -8  -10   11  -28  -56  -55    6  -83    0  -21   82   12    8   -9\n",
      "  -20  -15    7   24   -5  -29  -14    5   34  -10   34   41    0  -44\n",
      "  -54   60   -4  -23  -56  -82   20  -11  -26   45    9   15  -63  -20\n",
      "   10   36   35    9  -28   73  -40   -3  -29   13  -25   17    3   37\n",
      "    6  -91   -2  -40   67    7   19   22  -27   17  -83    6   -3  -40\n",
      "    3 -115   32   56  -33   31  -52    9   67   18 -120  -24   25    8\n",
      "  -21   21  -10  -15   29   13    1   21   30  -19   22  -33  -70    2\n",
      "   27  -33  -82   47  -48  -67  125  -32  -47  -64  -98   16    5   68\n",
      "  -38  -62    5    2   -3   78   -1  -11  -18  -27  -54   11   65    8\n",
      "   12  -26   37   -3   -6   -1   -3  -60   -6   -4   19  -38   77   -6\n",
      "  -11   12   44   70   -8   51  -23   17  -10   20  -19    3   -3  -25\n",
      "  -43   38  -14   56   35   44  -59   12   63  -40   59   39  -33   42\n",
      "   27    5   36  -43  -44  -70  -13  -28   25    2    7  -47   39   84\n",
      "  -29  -12  -10   27  -30   23  -37   35  -41   17  -87  -46  -42   -2\n",
      "  -13   32   51   -2  -23  -30    2   21    2  -19  -31  -31  -51   35\n",
      "   -3   25  -24   56   27   26   58   26    0  -44  -20  -17   26  -53\n",
      "    9  -15  -12    7   -7  -79   32  -19    3   37   13    7   18    2\n",
      "  -59  -11  127   19   21  -11  -97  -18   27  -63  -56  -19  -57    9\n",
      "  -20  -51    1  -25    0    2  -47   18  -50  -14   21   -8   88   -7\n",
      "   13  -11   95  -68   -7   -5  -30  -12   51   26   51  -13  100    7\n",
      "  -48  -19   58    6   34   88   -6  -38  -19  -27  -16   34  -75   27\n",
      "    0   69    1   56   45  -15  -20  -43  -14   34   -2  -19  -34  -20\n",
      "   11   19  -50    2   17   -1   40  -37   22   32   33   28  -18  -41\n",
      "   27   68  -11    3  -17   20  -21  -48   29   36  -32  -18   32  -53\n",
      "  -42  103  -12   20   27   39   -6   48  -48   31  -70   24  -59   72\n",
      "  -10  -50   27    0   26   15    2   18  -19  -45  -89   44    5   16\n",
      "   47   23   46    6  -33   35   51   -4   45   -6  -30    5   30  -99\n",
      "   -1  -52   11  -30   19   42  -35  -24   25   24   65  -22  -36   41\n",
      "   24  -23  -34  -28  -32   59   16   22   55   -2    4  -11  -23   14\n",
      "   28  -18  -20  -96   -8   24  -18  -45  -20  -19   -4   60   17    5\n",
      "   75  -55  -25  -24   21  -70  -25   69   -1    8  -35  -14  -26  -57\n",
      "  -28  -70  -46   42   38   45  -34   -2  -55   37  -12  -65   -7   -2\n",
      "   10   15  -17  -28  -13   -7 -125   -7   23   17  -97  -12   42   61\n",
      " -118   15  -51   28  -20 -111   38  -37  -34  -16  -32  -14    2    1\n",
      "  -34   19]\n"
     ]
    }
   ],
   "source": [
    "q_input=QuantizedArray(8,input,options=options)\n",
    "print(\"q_input:\",q_input.qvalues)"
   ],
   "metadata": {
    "collapsed": false,
    "ExecuteTime": {
     "start_time": "2023-10-09T21:22:14.779585Z",
     "end_time": "2023-10-09T21:22:14.824705Z"
    }
   }
  },
  {
   "cell_type": "code",
   "execution_count": 35,
   "outputs": [
    {
     "name": "stdout",
     "output_type": "stream",
     "text": [
      "time 0.029926538467407227\n",
      "deq_result: [-21.91856705 -33.19481763 -31.41169982 -31.54911328 -27.04134096\n",
      " -30.13080276 -31.79055382 -31.19204185 -17.91321907 -26.98332194]\n",
      "real_result: [-22.02448833 -33.28010295 -31.24053553 -31.28968421 -27.15589172\n",
      " -30.02334052 -31.76845443 -31.15041306 -17.93298441 -26.89012417]\n"
     ]
    }
   ],
   "source": [
    "import time\n",
    "start=time.time()\n",
    "q_result=circuit.encrypt_run_decrypt(q_input.qvalues)\n",
    "end=time.time()\n",
    "print(\"time\",end-start)\n",
    "deq_result=q_result*q_weight.quantizer.scale*q_input.quantizer.scale\n",
    "print(\"deq_result:\",deq_result)\n",
    "print(\"real_result:\",input@weight)"
   ],
   "metadata": {
    "collapsed": false,
    "ExecuteTime": {
     "start_time": "2023-10-09T21:36:48.405898Z",
     "end_time": "2023-10-09T21:36:48.455023Z"
    }
   }
  },
  {
   "cell_type": "markdown",
   "source": [
    "## 添加偏置"
   ],
   "metadata": {
    "collapsed": false
   }
  },
  {
   "cell_type": "code",
   "execution_count": null,
   "outputs": [],
   "source": [
    "stats=MinMaxQuantizationStats()\n",
    "stats.compute_quantization_stats(input@weight)\n",
    "options=QuantizationOptions(8,is_symmetric=True,is_signed=True)\n",
    "q_bias=QuantizedArray(8,bias,options=options,stats=stats)\n",
    "print(\"q_bias:\",q_bias.quantizer.dump_dict())"
   ],
   "metadata": {
    "collapsed": false,
    "ExecuteTime": {
     "start_time": "2023-10-06T17:21:28.644534Z",
     "end_time": "2023-10-06T17:21:28.686643Z"
    }
   }
  },
  {
   "cell_type": "code",
   "execution_count": null,
   "outputs": [],
   "source": [
    "q_result2=q_input.qvalues@q_weight.qvalues+q_bias.qvalues\n",
    "print(q_result2)\n",
    "deq_result2=q_result2*q_weight.quantizer.scale*q_input.quantizer.scale\n",
    "print(deq_result2)\n",
    "print(input@weight+bias)"
   ],
   "metadata": {
    "collapsed": false,
    "ExecuteTime": {
     "start_time": "2023-10-06T17:21:13.528784Z",
     "end_time": "2023-10-06T17:21:13.572463Z"
    }
   }
  },
  {
   "cell_type": "code",
   "execution_count": null,
   "outputs": [],
   "source": [],
   "metadata": {
    "collapsed": false
   }
  },
  {
   "cell_type": "markdown",
   "source": [
    "## 溢出问题\n",
    "在计算矩阵相乘时，元素会经历相乘和相加两个操作，这两个操作都可能导致溢出。在量化矩阵相乘时，我们需要考虑溢出问题。所以在进行量化之前应该输入一个校准数据集，来确定量化参数。"
   ],
   "metadata": {
    "collapsed": false
   }
  },
  {
   "cell_type": "code",
   "execution_count": null,
   "outputs": [],
   "source": [
    "options=QuantizationOptions(8,is_symmetric=True,is_signed=True)\n",
    "calibration_datasets=inputset@weight\n",
    "quantized_samples = QuantizedArray(8,calibration_datasets,options=options)\n",
    "\n",
    "params = quantized_samples.quantizer.quant_params\n",
    "stats = quantized_samples.quantizer.quant_stats\n"
   ],
   "metadata": {
    "collapsed": false,
    "ExecuteTime": {
     "start_time": "2023-10-06T17:15:07.629039Z",
     "end_time": "2023-10-06T17:15:07.869662Z"
    }
   }
  },
  {
   "cell_type": "code",
   "execution_count": null,
   "outputs": [],
   "source": [
    "q_weight=QuantizedArray(8,weight,options=options,params=params,stats=stats)\n",
    "q_bias=QuantizedArray(8,bias,options=options,params=params,stats=stats)\n",
    "print(\"q_weight:\",q_weight.qvalues)\n",
    "print(\"q_bias:\",q_bias.qvalues)"
   ],
   "metadata": {
    "collapsed": false,
    "ExecuteTime": {
     "start_time": "2023-10-06T17:15:08.502517Z",
     "end_time": "2023-10-06T17:15:08.511534Z"
    }
   }
  },
  {
   "cell_type": "code",
   "execution_count": null,
   "outputs": [],
   "source": [],
   "metadata": {
    "collapsed": false,
    "ExecuteTime": {
     "start_time": "2023-10-06T14:52:17.373017Z",
     "end_time": "2023-10-06T14:52:17.399089Z"
    }
   }
  }
 ],
 "metadata": {
  "kernelspec": {
   "display_name": "Python 3",
   "language": "python",
   "name": "python3"
  },
  "language_info": {
   "codemirror_mode": {
    "name": "ipython",
    "version": 2
   },
   "file_extension": ".py",
   "mimetype": "text/x-python",
   "name": "python",
   "nbconvert_exporter": "python",
   "pygments_lexer": "ipython2",
   "version": "2.7.6"
  }
 },
 "nbformat": 4,
 "nbformat_minor": 0
}
