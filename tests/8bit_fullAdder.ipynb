{
 "cells": [
  {
   "cell_type": "markdown",
   "source": [
    "# 1. 半加器\n",
    "半加器是指对两个输入数据位相加，输出一个本位S（结果位）和进位S，没有进位输入的加法器电路。 是实现两个一位二进制数的加法运算电路。"
   ],
   "metadata": {
    "collapsed": false
   }
  },
  {
   "cell_type": "code",
   "execution_count": 1,
   "outputs": [
    {
     "name": "stdout",
     "output_type": "stream",
     "text": [
      "(1, 0)\n"
     ]
    }
   ],
   "source": [
    "import numpy as np\n",
    "class HalfAdder:\n",
    "    \"\"\"半加器\"\"\"\n",
    "    def __init__(self, n, pinA=None, pinB=None):\n",
    "        self.label = n\n",
    "        self.pinA = pinA    # 接收输入值pinA\n",
    "        self.pinB = pinB    # 接收输入值pinB\n",
    "        self.S = None\n",
    "        self.C = None\n",
    "\n",
    "    def label(self):\n",
    "        return self.label\n",
    "\n",
    "    def getoutput(self):    # 将pinA、pinB作为XOR和AND的输入值\n",
    "        n1 = np.bitwise_xor(self.pinA, self.pinB)\n",
    "        self.S = n1    # 异或门的输出值即为本位S\n",
    "        n2 = np.bitwise_and(self.pinA, self.pinB)\n",
    "        self.C = n2    # 与门的输出值即为进位C\n",
    "        return self.C, self.S\n",
    "\n",
    "# 测试\n",
    "h1 = HalfAdder(\"h1\", 1, 1)\n",
    "print(h1.getoutput())\n",
    "# 输出结果为(1,0)"
   ],
   "metadata": {
    "collapsed": false,
    "ExecuteTime": {
     "start_time": "2023-10-26T16:27:19.168280Z",
     "end_time": "2023-10-26T16:27:19.293405Z"
    }
   }
  },
  {
   "cell_type": "markdown",
   "source": [
    "# 2.全加器 （FullAdder）\n",
    "全加器是用门电路实现两个二进制数相加并求出和的组合线路，称为一位全加器。一位全加器可以处理低位进位，并输出本位S和进位C"
   ],
   "metadata": {
    "collapsed": false
   }
  },
  {
   "cell_type": "code",
   "execution_count": 17,
   "outputs": [
    {
     "name": "stdout",
     "output_type": "stream",
     "text": [
      "1 1\n"
     ]
    }
   ],
   "source": [
    "class FullAdder:\n",
    "    \"\"\"全加器\"\"\"\n",
    "    def __init__(self, n, pinA=None, pinB=None, pinC=None):\n",
    "        self.label = n\n",
    "        self.pinA = pinA    # 接收输入值pinA\n",
    "        self.pinB = pinB    # 接收输入值pinB\n",
    "        self.pinC = pinC    # 接收输入值pinC\n",
    "        self.S = None\n",
    "        self.C = None\n",
    "\n",
    "    def label(self):\n",
    "        return self.label\n",
    "\n",
    "    def getoutput(self):    # 将pinA、pinB、pinC作为两个半加器的输入值\n",
    "        h1 = HalfAdder(\"h1\", self.pinA, self.pinB)\n",
    "        h1.getoutput()\n",
    "        h2 = HalfAdder(\"h2\", h1.S, self.pinC)\n",
    "        h2.getoutput()\n",
    "        self.S = h2.S    # 两个半加器的输出值的第二个值即为本位S\n",
    "        self.C = np.bitwise_or(h1.C, h2.C)    # 两个半加器的输出值的第一个值的或运算即为进位C\n",
    "        return self.C, self.S\n",
    "\n",
    "# 测试\n",
    "f1 = FullAdder(\"f1\", 1, 1, 1)\n",
    "f1.getoutput()\n",
    "print(f1.S, f1.C)\n"
   ],
   "metadata": {
    "collapsed": false,
    "ExecuteTime": {
     "start_time": "2023-10-12T09:43:36.044376Z",
     "end_time": "2023-10-12T09:43:36.055406Z"
    }
   }
  },
  {
   "cell_type": "markdown",
   "source": [
    "## 3.二位全加器（Bi-FullAdder）\n",
    "通过串联两个全加器，来实现二位全加器。将全加器f1的进位C1传递给全加器f2。\n",
    "\n",
    "欲实现二进制数A、B的相加，则输入数A的第一位A1作为f1的pinA，输入数B的第一位B1作为f1的pinB；输入数A的第二位A2作为f2的pinA，输入数B的第二位B2作为f2的pinB"
   ],
   "metadata": {
    "collapsed": false
   }
  },
  {
   "cell_type": "code",
   "execution_count": 26,
   "outputs": [
    {
     "name": "stdout",
     "output_type": "stream",
     "text": [
      "(1, 0, 1)\n"
     ]
    }
   ],
   "source": [
    "class BiFullAdder:\n",
    "    \"\"\"二位全加器\"\"\"\n",
    "    def __init__(self, n, pinA1=None, pinB1=None,pinA2=None, pinB2=None):\n",
    "        self.label = n\n",
    "        self.pinA1 = pinA1    # 接收输入值pinA1\n",
    "        self.pinB1 = pinB1    # 接收输入值pinB1\n",
    "        self.pinA2 = pinA2    # 接收输入值pinA2\n",
    "        self.pinB2 = pinB2    # 接收输入值pinB2\n",
    "        self.S = None\n",
    "        self.C = None\n",
    "\n",
    "    def label(self):\n",
    "        return self.label\n",
    "\n",
    "    def getoutput(self):    # 将pinA、pinB作为两个全加器的输入值\n",
    "        f1 = FullAdder(\"f1\", self.pinA1, self.pinB1, 0)\n",
    "        f1.getoutput()\n",
    "        f2 = FullAdder(\"f2\", self.pinA2, self.pinB2, f1.C)\n",
    "        f2.getoutput()\n",
    "        self.S = f2.S    # 两个全加器的输出值的第二个值即为本位S\n",
    "        self.C = f2.C    # 两个全加器的输出值的第一个值即为进位C\n",
    "        return self.C, self.S, f1.S\n",
    "# 测试\n",
    "bf1 = BiFullAdder(\"bf1\", 1, 0, 1, 1)\n",
    "print(bf1.getoutput())\n"
   ],
   "metadata": {
    "collapsed": false,
    "ExecuteTime": {
     "start_time": "2023-10-12T10:26:29.651928Z",
     "end_time": "2023-10-12T10:26:29.692851Z"
    }
   }
  },
  {
   "cell_type": "markdown",
   "source": [
    "## 4.八位全加器（O-FullAdder）\n",
    "同理串联8个全加器实现八位全加器。"
   ],
   "metadata": {
    "collapsed": false
   }
  },
  {
   "cell_type": "code",
   "execution_count": 25,
   "outputs": [
    {
     "name": "stdout",
     "output_type": "stream",
     "text": [
      "(1, 1, 0, 0, 1, 1, 1, 0, 1)\n"
     ]
    }
   ],
   "source": [
    "class OFullAdder:\n",
    "    \"\"\"八位全加器\"\"\"\n",
    "    def __init__(self, n, pinA=None, pinB=None):\n",
    "        self.label = n\n",
    "        self.pinA = pinA    # 接收输入值pinA\n",
    "        self.pinB = pinB    # 接收输入值pinB\n",
    "        self.S = None\n",
    "        self.C = None\n",
    "\n",
    "    def label(self):\n",
    "        return self.label\n",
    "\n",
    "    def getoutput(self):    # 将pinA、pinB作为两个全加器的输入值\n",
    "       f1=FullAdder(\"f1\", self.pinA[-1], self.pinB[-1], 0)\n",
    "       f1.getoutput()\n",
    "       f2=FullAdder(\"f2\", self.pinA[-2], self.pinB[-2], f1.C)\n",
    "       f2.getoutput()\n",
    "       f3=FullAdder(\"f3\", self.pinA[-3], self.pinB[-3], f2.C)\n",
    "       f3.getoutput()\n",
    "       f4=FullAdder(\"f4\", self.pinA[-4], self.pinB[-4], f3.C)\n",
    "       f4.getoutput()\n",
    "       f5=FullAdder(\"f5\", self.pinA[-5], self.pinB[-5], f4.C)\n",
    "       f5.getoutput()\n",
    "       f6=FullAdder(\"f6\", self.pinA[-6], self.pinB[-6], f5.C)\n",
    "       f6.getoutput()\n",
    "       f7=FullAdder(\"f7\", self.pinA[-7], self.pinB[-7], f6.C)\n",
    "       f7.getoutput()\n",
    "       f8=FullAdder(\"f8\", self.pinA[-8], self.pinB[-8], f7.C)\n",
    "       f8.getoutput()\n",
    "       self.C = f8.C\n",
    "       self.S = f8.S\n",
    "       return self.C, self.S, f7.S, f6.S, f5.S, f4.S, f3.S, f2.S, f1.S\n",
    "\n",
    "\n",
    "# “”“测试”“”\n",
    "of = OFullAdder(\"of\", [1,1,1,0,1,1,0,1], [1,0,1,1,0,0,0,0])\n",
    "print(of.getoutput())\n",
    "# 输出结果为(1, 1, 0, 0, 1, 1, 1, 0, 1)\n",
    "\n"
   ],
   "metadata": {
    "collapsed": false,
    "ExecuteTime": {
     "start_time": "2023-10-12T10:25:21.569627Z",
     "end_time": "2023-10-12T10:25:21.701561Z"
    }
   }
  },
  {
   "cell_type": "code",
   "execution_count": 27,
   "outputs": [],
   "source": [
    "import numpy as np\n",
    "from concrete import fhe\n",
    "\n",
    "@fhe.compiler({\"x\": \"encrypted\", \"y\": \"encrypted\"})\n",
    "def f(x, y):\n",
    "    return fhe.array([x, y])\n",
    "\n",
    "inputset = [(3, 2), (7, 0), (0, 7), (4, 2)]\n",
    "circuit = f.compile(inputset)\n",
    "\n",
    "\n",
    "sample = (3, 4)\n",
    "assert np.array_equal(circuit.encrypt_run_decrypt(*sample), f(*sample))"
   ],
   "metadata": {
    "collapsed": false,
    "ExecuteTime": {
     "start_time": "2023-10-12T10:53:54.240517Z",
     "end_time": "2023-10-12T10:54:08.398201Z"
    }
   }
  },
  {
   "cell_type": "code",
   "execution_count": 28,
   "outputs": [
    {
     "name": "stdout",
     "output_type": "stream",
     "text": [
      "3 4\n"
     ]
    }
   ],
   "source": [
    "sample = (3, 4)\n",
    "print(*sample)"
   ],
   "metadata": {
    "collapsed": false,
    "ExecuteTime": {
     "start_time": "2023-10-12T11:13:34.757904Z",
     "end_time": "2023-10-12T11:13:34.802022Z"
    }
   }
  },
  {
   "cell_type": "code",
   "execution_count": 29,
   "outputs": [
    {
     "name": "stdout",
     "output_type": "stream",
     "text": [
      "[3 4]\n"
     ]
    }
   ],
   "source": [
    "print(circuit.encrypt_run_decrypt(*sample))"
   ],
   "metadata": {
    "collapsed": false,
    "ExecuteTime": {
     "start_time": "2023-10-12T11:15:05.797317Z",
     "end_time": "2023-10-12T11:15:05.838748Z"
    }
   }
  },
  {
   "cell_type": "code",
   "execution_count": 30,
   "outputs": [
    {
     "name": "stdout",
     "output_type": "stream",
     "text": [
      "%0 = x                      # EncryptedScalar<uint3>                    ∈ [0, 7]\n",
      "%1 = y                      # EncryptedScalar<uint3>                    ∈ [0, 7]\n",
      "%2 = array([%0, %1])        # EncryptedTensor<uint3, shape=(2,)>        ∈ [0, 7]\n",
      "return %2\n"
     ]
    }
   ],
   "source": [
    "print(circuit)"
   ],
   "metadata": {
    "collapsed": false,
    "ExecuteTime": {
     "start_time": "2023-10-12T11:44:59.227820Z",
     "end_time": "2023-10-12T11:44:59.282985Z"
    }
   }
  },
  {
   "cell_type": "code",
   "execution_count": 31,
   "outputs": [
    {
     "name": "stdout",
     "output_type": "stream",
     "text": [
      "对40右移位2位:\n",
      "10\n",
      "\n",
      "\n",
      "40的二进制:\n",
      "00101000\n",
      "\n",
      "\n",
      "10的二进制:\n",
      "00001010\n"
     ]
    }
   ],
   "source": [
    "import numpy as np\n",
    "\n",
    "print ('对40右移位2位:')\n",
    "print (np.right_shift(40,2))\n",
    "print ('\\n' )\n",
    "\n",
    "print ('40的二进制:' )\n",
    "print (np.binary_repr(40, width = 8) )\n",
    "print ('\\n' )\n",
    "\n",
    "print ('10的二进制:' )\n",
    "print (np.binary_repr(10, width = 8))\n",
    "\n"
   ],
   "metadata": {
    "collapsed": false,
    "ExecuteTime": {
     "start_time": "2023-10-12T16:24:48.511353Z",
     "end_time": "2023-10-12T16:24:48.555496Z"
    }
   }
  },
  {
   "cell_type": "code",
   "execution_count": 34,
   "outputs": [
    {
     "name": "stdout",
     "output_type": "stream",
     "text": [
      "[5] + [3] = [8]\n"
     ]
    }
   ],
   "source": [
    "import numpy as np\n",
    "\n",
    "def binary_add_numpy(x, y):\n",
    "    carry = np.zeros_like(x)\n",
    "    result = np.zeros_like(x)\n",
    "    bit_position = 1\n",
    "\n",
    "    while np.any(x) or np.any(y):\n",
    "        bit_x = x & 1\n",
    "        bit_y = y & 1\n",
    "\n",
    "        bit_sum = np.logical_xor(np.logical_xor(bit_x, bit_y), carry)\n",
    "\n",
    "        carry = np.logical_or(np.logical_and(bit_x, bit_y), np.logical_and(carry, np.logical_xor(bit_x, bit_y)))\n",
    "\n",
    "        result = np.add(result, np.multiply(bit_sum, bit_position))\n",
    "\n",
    "        bit_position = np.left_shift(bit_position, 1)\n",
    "        x = np.right_shift(x, 1)\n",
    "        y = np.right_shift(y, 1)\n",
    "\n",
    "    result = np.add(result, np.multiply(carry, bit_position))\n",
    "\n",
    "    return result\n",
    "\n",
    "# 示例\n",
    "x = np.array([5], dtype=np.uint8)\n",
    "y = np.array([3], dtype=np.uint8)\n",
    "sum_result = binary_add_numpy(x, y)\n",
    "print(f\"{x} + {y} = {sum_result}\")\n"
   ],
   "metadata": {
    "collapsed": false,
    "ExecuteTime": {
     "start_time": "2023-10-12T16:43:06.484246Z",
     "end_time": "2023-10-12T16:43:06.530226Z"
    }
   }
  },
  {
   "cell_type": "code",
   "execution_count": 53,
   "outputs": [
    {
     "name": "stdout",
     "output_type": "stream",
     "text": [
      "5 * 3 = 0\n"
     ]
    }
   ],
   "source": [
    "import numpy as np\n",
    "\n",
    "def binary_multiply_numpy(x, y):\n",
    "    result = 0\n",
    "\n",
    "    for i in range(4):\n",
    "        if y & 1:\n",
    "            result = binary_add_numpy(result, x)\n",
    "        # result= result+y&1*x\n",
    "\n",
    "        x = np.left_shift(x, 1)\n",
    "        y = np.right_shift(y, 1)\n",
    "\n",
    "    return result\n",
    "\n",
    "# 示例\n",
    "x = np.uint8(5)\n",
    "y = np.uint8(3)\n",
    "product = binary_multiply_numpy(x, y)\n",
    "print(f\"{x} * {y} = {product}\")"
   ],
   "metadata": {
    "collapsed": false,
    "ExecuteTime": {
     "start_time": "2023-10-12T19:48:18.870798Z",
     "end_time": "2023-10-12T19:48:18.886836Z"
    }
   }
  },
  {
   "cell_type": "markdown",
   "source": [
    "## 转电路"
   ],
   "metadata": {
    "collapsed": false
   }
  },
  {
   "cell_type": "code",
   "execution_count": 59,
   "outputs": [
    {
     "name": "stdout",
     "output_type": "stream",
     "text": [
      "  %0 = x                              # EncryptedScalar<uint1>         ∈ [0, 0]\n",
      "  %1 = y                              # EncryptedScalar<uint16>        ∈ [65535, 65535]\n",
      "  %2 = 1                              # ClearScalar<uint1>             ∈ [1, 1]\n",
      "  %3 = bitwise_and(%1, %2)            # EncryptedScalar<uint1>         ∈ [1, 1]\n",
      "  %4 = multiply(%3, %0)               # EncryptedScalar<uint1>         ∈ [0, 0]\n",
      "  %5 = 0                              # ClearScalar<uint1>             ∈ [0, 0]\n",
      "  %6 = add(%5, %4)                    # EncryptedScalar<uint1>         ∈ [0, 0]\n",
      "  %7 = 1                              # ClearScalar<uint1>             ∈ [1, 1]\n",
      "  %8 = left_shift(%0, %7)             # EncryptedScalar<uint1>         ∈ [0, 0]\n",
      "  %9 = 1                              # ClearScalar<uint1>             ∈ [1, 1]\n",
      " %10 = right_shift(%1, %9)            # EncryptedScalar<uint15>        ∈ [32767, 32767]\n",
      " %11 = 1                              # ClearScalar<uint1>             ∈ [1, 1]\n",
      " %12 = bitwise_and(%10, %11)          # EncryptedScalar<uint1>         ∈ [1, 1]\n",
      " %13 = multiply(%12, %8)              # EncryptedScalar<uint1>         ∈ [0, 0]\n",
      " %14 = add(%6, %13)                   # EncryptedScalar<uint1>         ∈ [0, 0]\n",
      " %15 = 1                              # ClearScalar<uint1>             ∈ [1, 1]\n",
      " %16 = left_shift(%8, %15)            # EncryptedScalar<uint1>         ∈ [0, 0]\n",
      " %17 = 1                              # ClearScalar<uint1>             ∈ [1, 1]\n",
      " %18 = right_shift(%10, %17)          # EncryptedScalar<uint14>        ∈ [16383, 16383]\n",
      " %19 = 1                              # ClearScalar<uint1>             ∈ [1, 1]\n",
      " %20 = bitwise_and(%18, %19)          # EncryptedScalar<uint1>         ∈ [1, 1]\n",
      " %21 = multiply(%20, %16)             # EncryptedScalar<uint1>         ∈ [0, 0]\n",
      " %22 = add(%14, %21)                  # EncryptedScalar<uint1>         ∈ [0, 0]\n",
      " %23 = 1                              # ClearScalar<uint1>             ∈ [1, 1]\n",
      " %24 = left_shift(%16, %23)           # EncryptedScalar<uint1>         ∈ [0, 0]\n",
      " %25 = 1                              # ClearScalar<uint1>             ∈ [1, 1]\n",
      " %26 = right_shift(%18, %25)          # EncryptedScalar<uint13>        ∈ [8191, 8191]\n",
      " %27 = 1                              # ClearScalar<uint1>             ∈ [1, 1]\n",
      " %28 = bitwise_and(%26, %27)          # EncryptedScalar<uint1>         ∈ [1, 1]\n",
      " %29 = multiply(%28, %24)             # EncryptedScalar<uint1>         ∈ [0, 0]\n",
      " %30 = add(%22, %29)                  # EncryptedScalar<uint1>         ∈ [0, 0]\n",
      " %31 = 1                              # ClearScalar<uint1>             ∈ [1, 1]\n",
      " %32 = left_shift(%24, %31)           # EncryptedScalar<uint1>         ∈ [0, 0]\n",
      " %33 = 1                              # ClearScalar<uint1>             ∈ [1, 1]\n",
      " %34 = right_shift(%26, %33)          # EncryptedScalar<uint12>        ∈ [4095, 4095]\n",
      " %35 = 1                              # ClearScalar<uint1>             ∈ [1, 1]\n",
      " %36 = bitwise_and(%34, %35)          # EncryptedScalar<uint1>         ∈ [1, 1]\n",
      " %37 = multiply(%36, %32)             # EncryptedScalar<uint1>         ∈ [0, 0]\n",
      " %38 = add(%30, %37)                  # EncryptedScalar<uint1>         ∈ [0, 0]\n",
      " %39 = 1                              # ClearScalar<uint1>             ∈ [1, 1]\n",
      " %40 = left_shift(%32, %39)           # EncryptedScalar<uint1>         ∈ [0, 0]\n",
      " %41 = 1                              # ClearScalar<uint1>             ∈ [1, 1]\n",
      " %42 = right_shift(%34, %41)          # EncryptedScalar<uint11>        ∈ [2047, 2047]\n",
      " %43 = 1                              # ClearScalar<uint1>             ∈ [1, 1]\n",
      " %44 = bitwise_and(%42, %43)          # EncryptedScalar<uint1>         ∈ [1, 1]\n",
      " %45 = multiply(%44, %40)             # EncryptedScalar<uint1>         ∈ [0, 0]\n",
      " %46 = add(%38, %45)                  # EncryptedScalar<uint1>         ∈ [0, 0]\n",
      " %47 = 1                              # ClearScalar<uint1>             ∈ [1, 1]\n",
      " %48 = left_shift(%40, %47)           # EncryptedScalar<uint1>         ∈ [0, 0]\n",
      " %49 = 1                              # ClearScalar<uint1>             ∈ [1, 1]\n",
      " %50 = right_shift(%42, %49)          # EncryptedScalar<uint10>        ∈ [1023, 1023]\n",
      " %51 = 1                              # ClearScalar<uint1>             ∈ [1, 1]\n",
      " %52 = bitwise_and(%50, %51)          # EncryptedScalar<uint1>         ∈ [1, 1]\n",
      " %53 = multiply(%52, %48)             # EncryptedScalar<uint1>         ∈ [0, 0]\n",
      " %54 = add(%46, %53)                  # EncryptedScalar<uint1>         ∈ [0, 0]\n",
      " %55 = 1                              # ClearScalar<uint1>             ∈ [1, 1]\n",
      " %56 = left_shift(%48, %55)           # EncryptedScalar<uint1>         ∈ [0, 0]\n",
      " %57 = 1                              # ClearScalar<uint1>             ∈ [1, 1]\n",
      " %58 = right_shift(%50, %57)          # EncryptedScalar<uint9>         ∈ [511, 511]\n",
      " %59 = 1                              # ClearScalar<uint1>             ∈ [1, 1]\n",
      " %60 = bitwise_and(%58, %59)          # EncryptedScalar<uint1>         ∈ [1, 1]\n",
      " %61 = multiply(%60, %56)             # EncryptedScalar<uint1>         ∈ [0, 0]\n",
      " %62 = add(%54, %61)                  # EncryptedScalar<uint1>         ∈ [0, 0]\n",
      " %63 = 1                              # ClearScalar<uint1>             ∈ [1, 1]\n",
      " %64 = left_shift(%56, %63)           # EncryptedScalar<uint1>         ∈ [0, 0]\n",
      " %65 = 1                              # ClearScalar<uint1>             ∈ [1, 1]\n",
      " %66 = right_shift(%58, %65)          # EncryptedScalar<uint8>         ∈ [255, 255]\n",
      " %67 = 1                              # ClearScalar<uint1>             ∈ [1, 1]\n",
      " %68 = bitwise_and(%66, %67)          # EncryptedScalar<uint1>         ∈ [1, 1]\n",
      " %69 = multiply(%68, %64)             # EncryptedScalar<uint1>         ∈ [0, 0]\n",
      " %70 = add(%62, %69)                  # EncryptedScalar<uint1>         ∈ [0, 0]\n",
      " %71 = 1                              # ClearScalar<uint1>             ∈ [1, 1]\n",
      " %72 = left_shift(%64, %71)           # EncryptedScalar<uint1>         ∈ [0, 0]\n",
      " %73 = 1                              # ClearScalar<uint1>             ∈ [1, 1]\n",
      " %74 = right_shift(%66, %73)          # EncryptedScalar<uint7>         ∈ [127, 127]\n",
      " %75 = 1                              # ClearScalar<uint1>             ∈ [1, 1]\n",
      " %76 = bitwise_and(%74, %75)          # EncryptedScalar<uint1>         ∈ [1, 1]\n",
      " %77 = multiply(%76, %72)             # EncryptedScalar<uint1>         ∈ [0, 0]\n",
      " %78 = add(%70, %77)                  # EncryptedScalar<uint1>         ∈ [0, 0]\n",
      " %79 = 1                              # ClearScalar<uint1>             ∈ [1, 1]\n",
      " %80 = left_shift(%72, %79)           # EncryptedScalar<uint1>         ∈ [0, 0]\n",
      " %81 = 1                              # ClearScalar<uint1>             ∈ [1, 1]\n",
      " %82 = right_shift(%74, %81)          # EncryptedScalar<uint6>         ∈ [63, 63]\n",
      " %83 = 1                              # ClearScalar<uint1>             ∈ [1, 1]\n",
      " %84 = bitwise_and(%82, %83)          # EncryptedScalar<uint1>         ∈ [1, 1]\n",
      " %85 = multiply(%84, %80)             # EncryptedScalar<uint1>         ∈ [0, 0]\n",
      " %86 = add(%78, %85)                  # EncryptedScalar<uint1>         ∈ [0, 0]\n",
      " %87 = 1                              # ClearScalar<uint1>             ∈ [1, 1]\n",
      " %88 = left_shift(%80, %87)           # EncryptedScalar<uint1>         ∈ [0, 0]\n",
      " %89 = 1                              # ClearScalar<uint1>             ∈ [1, 1]\n",
      " %90 = right_shift(%82, %89)          # EncryptedScalar<uint5>         ∈ [31, 31]\n",
      " %91 = 1                              # ClearScalar<uint1>             ∈ [1, 1]\n",
      " %92 = bitwise_and(%90, %91)          # EncryptedScalar<uint1>         ∈ [1, 1]\n",
      " %93 = multiply(%92, %88)             # EncryptedScalar<uint1>         ∈ [0, 0]\n",
      " %94 = add(%86, %93)                  # EncryptedScalar<uint1>         ∈ [0, 0]\n",
      " %95 = 1                              # ClearScalar<uint1>             ∈ [1, 1]\n",
      " %96 = left_shift(%88, %95)           # EncryptedScalar<uint1>         ∈ [0, 0]\n",
      " %97 = 1                              # ClearScalar<uint1>             ∈ [1, 1]\n",
      " %98 = right_shift(%90, %97)          # EncryptedScalar<uint4>         ∈ [15, 15]\n",
      " %99 = 1                              # ClearScalar<uint1>             ∈ [1, 1]\n",
      "%100 = bitwise_and(%98, %99)          # EncryptedScalar<uint1>         ∈ [1, 1]\n",
      "%101 = multiply(%100, %96)            # EncryptedScalar<uint1>         ∈ [0, 0]\n",
      "%102 = add(%94, %101)                 # EncryptedScalar<uint1>         ∈ [0, 0]\n",
      "%103 = 1                              # ClearScalar<uint1>             ∈ [1, 1]\n",
      "%104 = left_shift(%96, %103)          # EncryptedScalar<uint1>         ∈ [0, 0]\n",
      "%105 = 1                              # ClearScalar<uint1>             ∈ [1, 1]\n",
      "%106 = right_shift(%98, %105)         # EncryptedScalar<uint3>         ∈ [7, 7]\n",
      "%107 = 1                              # ClearScalar<uint1>             ∈ [1, 1]\n",
      "%108 = bitwise_and(%106, %107)        # EncryptedScalar<uint1>         ∈ [1, 1]\n",
      "%109 = multiply(%108, %104)           # EncryptedScalar<uint1>         ∈ [0, 0]\n",
      "%110 = add(%102, %109)                # EncryptedScalar<uint1>         ∈ [0, 0]\n",
      "%111 = 1                              # ClearScalar<uint1>             ∈ [1, 1]\n",
      "%112 = left_shift(%104, %111)         # EncryptedScalar<uint1>         ∈ [0, 0]\n",
      "%113 = 1                              # ClearScalar<uint1>             ∈ [1, 1]\n",
      "%114 = right_shift(%106, %113)        # EncryptedScalar<uint2>         ∈ [3, 3]\n",
      "%115 = 1                              # ClearScalar<uint1>             ∈ [1, 1]\n",
      "%116 = bitwise_and(%114, %115)        # EncryptedScalar<uint1>         ∈ [1, 1]\n",
      "%117 = multiply(%116, %112)           # EncryptedScalar<uint1>         ∈ [0, 0]\n",
      "%118 = add(%110, %117)                # EncryptedScalar<uint1>         ∈ [0, 0]\n",
      "%119 = 1                              # ClearScalar<uint1>             ∈ [1, 1]\n",
      "%120 = left_shift(%112, %119)         # EncryptedScalar<uint1>         ∈ [0, 0]\n",
      "%121 = 1                              # ClearScalar<uint1>             ∈ [1, 1]\n",
      "%122 = right_shift(%114, %121)        # EncryptedScalar<uint1>         ∈ [1, 1]\n",
      "%123 = 1                              # ClearScalar<uint1>             ∈ [1, 1]\n",
      "%124 = bitwise_and(%122, %123)        # EncryptedScalar<uint1>         ∈ [1, 1]\n",
      "%125 = multiply(%124, %120)           # EncryptedScalar<uint1>         ∈ [0, 0]\n",
      "%126 = add(%118, %125)                # EncryptedScalar<uint1>         ∈ [0, 0]\n",
      "return %126\n"
     ]
    }
   ],
   "source": [
    "from concrete import fhe\n",
    "import numpy as np\n",
    "@fhe.compiler({\"x\": \"encrypted\", \"y\": \"encrypted\"})\n",
    "def enc_binary_multiply_numpy(x,y):\n",
    " result = 0\n",
    " for i in range(16):\n",
    "\n",
    "    result = result+(y&1)*x\n",
    "\n",
    "    x = np.left_shift(x, 1)\n",
    "    y = np.right_shift(y, 1)\n",
    "\n",
    " return result\n",
    "\n",
    "inputset=[(0,65535)]\n",
    "circuit=enc_binary_multiply_numpy.compile(inputset)\n",
    "print(circuit)\n",
    "\n",
    "\n",
    "\n"
   ],
   "metadata": {
    "collapsed": false,
    "ExecuteTime": {
     "start_time": "2023-10-12T19:56:22.816884Z",
     "end_time": "2023-10-12T19:57:31.486240Z"
    }
   }
  },
  {
   "cell_type": "code",
   "execution_count": 61,
   "outputs": [
    {
     "name": "stdout",
     "output_type": "stream",
     "text": [
      "6\n"
     ]
    }
   ],
   "source": [
    "result=circuit.encrypt_run_decrypt(3,2)\n",
    "print(result)"
   ],
   "metadata": {
    "collapsed": false,
    "ExecuteTime": {
     "start_time": "2023-10-12T20:07:07.653923Z",
     "end_time": "2023-10-12T20:12:35.809993Z"
    }
   }
  }
 ],
 "metadata": {
  "kernelspec": {
   "display_name": "Python 3",
   "language": "python",
   "name": "python3"
  },
  "language_info": {
   "codemirror_mode": {
    "name": "ipython",
    "version": 2
   },
   "file_extension": ".py",
   "mimetype": "text/x-python",
   "name": "python",
   "nbconvert_exporter": "python",
   "pygments_lexer": "ipython2",
   "version": "2.7.6"
  }
 },
 "nbformat": 4,
 "nbformat_minor": 0
}
