{
 "cells": [
  {
   "cell_type": "markdown",
   "source": [
    "# client端"
   ],
   "metadata": {
    "collapsed": false
   }
  },
  {
   "cell_type": "code",
   "execution_count": 5,
   "outputs": [],
   "source": [
    "import numpy\n",
    "from concrete import fhe\n",
    "from concrete.ml.quantization import QuantizedArray\n",
    "from concrete.ml.quantization.quantizers import(\n",
    "    QuantizedArray,\n",
    "    MinMaxQuantizationStats,\n",
    ")\n",
    "from concrete.ml.quantization.quantized_ops import (\n",
    "    QuantizationOptions,\n",
    ")\n",
    "import numpy as np\n",
    "from sklearn import datasets\n",
    "from sklearn.model_selection import train_test_split\n",
    "from sklearn.preprocessing import StandardScaler\n",
    "from sklearn.preprocessing import OneHotEncoder\n",
    "\n",
    "# 加载Iris数据集\n",
    "iris = datasets.load_iris()\n",
    "X = iris.data\n",
    "y = iris.target\n",
    "\n",
    "# 将输出标签进行独热编码\n",
    "encoder = OneHotEncoder(sparse=False)\n",
    "y_one_hot = encoder.fit_transform(y.reshape(-1, 1))\n",
    "\n",
    "# 数据标准化\n",
    "scaler = StandardScaler()\n",
    "X = scaler.fit_transform(X)\n",
    "\n",
    "# 划分训练集和测试集\n",
    "X_train, X_test, y_train, y_test = train_test_split(X, y_one_hot, test_size=0.2, random_state=42)\n"
   ],
   "metadata": {
    "collapsed": false,
    "ExecuteTime": {
     "start_time": "2023-10-15T15:14:35.063149Z",
     "end_time": "2023-10-15T15:14:35.104688Z"
    }
   }
  },
  {
   "cell_type": "code",
   "execution_count": 6,
   "outputs": [],
   "source": [
    "# 定义一个类来表示NumPy版的FFNN模型\n",
    "class NumPyFFNN:\n",
    "    def __init__(self, input_dim, hidden_dim, output_dim):\n",
    "        self.input_dim = input_dim\n",
    "        self.hidden_dim = hidden_dim\n",
    "        self.output_dim = output_dim\n",
    "        self.weights1 = np.random.randn(input_dim, hidden_dim)\n",
    "        self.bias1 = np.zeros(hidden_dim)\n",
    "        self.weights2 = np.random.randn(hidden_dim, output_dim)\n",
    "        self.bias2 = np.zeros(output_dim)\n",
    "        self.relu_circuit=None\n",
    "\n",
    "    def q_relu(self, n_bits:int,input:numpy.ndarray):\n",
    "        options=QuantizationOptions(n_bits,is_symmetric=True,is_signed=True)\n",
    "        stats=MinMaxQuantizationStats(n_bits)\n",
    "        stats.compute_quantization_stats(input)\n",
    "        # Quantize the inputs with n_bits\n",
    "        q_inputs = QuantizedArray(n_bits, input,options=options,stats=stats)\n",
    "        @fhe.compiler({\"q_inputs\":\"encrypted\"})\n",
    "        def q_relu_impl(q_inputs):\n",
    "            return np.maximum(q_inputs, 0)\n",
    "        inputset=[np.random.randint(-128, 128, size=input.size)\n",
    "                  for i in range(10000)]\n",
    "        circuit=q_relu_impl.compile(inputset)\n",
    "        circuit.keygen()\n",
    "        self.relu_circuit=circuit\n",
    "        return circuit\n",
    "\n",
    "    def q_sub(self, n_bits:int,input_0 :numpy.ndarray, input_1:numpy.ndarray):\n",
    "\n",
    "        options=QuantizationOptions(n_bits,is_symmetric=True,is_signed=True)\n",
    "        stats=MinMaxQuantizationStats(n_bits)\n",
    "        stats.compute_quantization_stats(np.hstack((input_0, input_1)))\n",
    "        # Quantize the inputs with n_bits\n",
    "        q_inputs_0 = QuantizedArray(n_bits, input_0,options=options,stats=stats)\n",
    "        q_inputs_1 = QuantizedArray(n_bits, input_1,options=options,stats=stats)\n",
    "        @fhe.compiler({\"q_inputs_0\":\"encrypted\",\"q_inputs_1\":\"encrypted\"})\n",
    "        def q_sub_impl(q_inputs_0,q_inputs_1):\n",
    "            return q_inputs_0-q_inputs_1\n",
    "        inputset=[(np.random.randint(-128, 128, size=input_0.size),np.random.randint(-128, 128, size=input_1.size))\n",
    "                  for i in range(10000)]\n",
    "        circuit=q_sub_impl.compile(inputset)\n",
    "        q_result=circuit.encrypt_run_decrypt(q_inputs_0.qvalues,q_inputs_1.qvalues)\n",
    "        return q_result*q_inputs_0.quantizer.scale\n",
    "\n",
    "    def q_add(self, n_bits:int,input_0 :numpy.ndarray, input_1:numpy.ndarray):\n",
    "\n",
    "        options=QuantizationOptions(n_bits,is_symmetric=True,is_signed=True)\n",
    "        stats=MinMaxQuantizationStats(n_bits)\n",
    "        stats.compute_quantization_stats(np.hstack((input_0, input_1)))\n",
    "        # Quantize the inputs with n_bits\n",
    "        q_inputs_0 = QuantizedArray(n_bits, input_0,options=options,stats=stats)\n",
    "        q_inputs_1 = QuantizedArray(n_bits, input_1,options=options,stats=stats)\n",
    "        @fhe.compiler({\"q_inputs_0\":\"encrypted\",\"q_inputs_1\":\"encrypted\"})\n",
    "        def q_add_impl(q_inputs_0,q_inputs_1):\n",
    "            return q_inputs_0+q_inputs_1\n",
    "        inputset=[(np.random.randint(-128, 128, size=input_0.size),np.random.randint(-128, 128, size=input_1.size))\n",
    "                  for i in range(10000)]\n",
    "        circuit=q_add_impl.compile(inputset)\n",
    "        q_result=circuit.encrypt_run_decrypt(q_inputs_0.qvalues,q_inputs_1.qvalues)\n",
    "        return q_result*q_inputs_0.quantizer.scale\n",
    "\n",
    "    def q_mul(self, n_bits:int,input_0 :numpy.ndarray, input_1:numpy.ndarray):\n",
    "        options=QuantizationOptions(n_bits,is_symmetric=True,is_signed=True)\n",
    "        q_inputs_0 = QuantizedArray(n_bits, input_0, is_signed=True,options=options)\n",
    "        q_inputs_1 = QuantizedArray(n_bits, input_1, is_signed=True,options=options)\n",
    "        @fhe.compiler({\"q_inputs_0\":\"encrypted\",\"q_inputs_1\":\"encrypted\"})\n",
    "        def q_mul_impl(q_inputs_0,q_inputs_1):\n",
    "            return q_inputs_0*q_inputs_1\n",
    "        inputset=[(np.random.randint(-128, 128, size=input_0.size),np.random.randint(-128, 128, size=input_1.size))\n",
    "                  for i in range(10000)]\n",
    "        circuit=q_mul_impl.compile(inputset)\n",
    "        q_result=circuit.encrypt_run_decrypt(q_inputs_0.qvalues,q_inputs_1.qvalues)\n",
    "        return q_result*q_inputs_0.quantizer.scale*q_inputs_1.quantizer.scale\n",
    "\n",
    "    def q_div(self, n_bits:int,input_0 :numpy.ndarray, input_1:numpy.ndarray):\n",
    "        options=QuantizationOptions(n_bits,is_symmetric=True,is_signed=True)\n",
    "        q_inputs_0 = QuantizedArray(n_bits, input_0, is_signed=True,options=options)\n",
    "        q_inputs_1 = QuantizedArray(n_bits, input_1, is_signed=True,options=options)\n",
    "        @fhe.compiler({\"q_inputs_0\":\"encrypted\"})\n",
    "        def q_div_impl(q_inputs_0):\n",
    "            return numpy.floor_divide(q_inputs_0,q_inputs_1.qvalues)\n",
    "        inputset=[np.random.randint(-128, 128, size=input_0.size)\n",
    "                  for i in range(10000)]\n",
    "        circuit=q_div_impl.compile(inputset)\n",
    "        print(circuit)\n",
    "        q_result=circuit.encrypt_run_decrypt(q_inputs_0.qvalues)\n",
    "        print(q_result)\n",
    "        return q_result*q_inputs_0.quantizer.scale/q_inputs_1.quantizer.scale\n",
    "\n",
    "    def q_matmul_(\n",
    "        self,\n",
    "        n_bits: int,\n",
    "        inputs: numpy.ndarray,\n",
    "        weights: numpy.ndarray,\n",
    "    ):\n",
    "        options=QuantizationOptions(n_bits,is_symmetric=True,is_signed=True)\n",
    "        q_inputs = QuantizedArray(n_bits, inputs,is_signed=True,options=options)\n",
    "        q_weights = QuantizedArray(n_bits, weights,is_signed=True,options=options)\n",
    "\n",
    "        @fhe.compiler({\"q_inputs\":\"encrypted\",\"q_weights\":\"clear\"})\n",
    "        def q_matmul_impl(q_inputs,q_weights):\n",
    "            return q_inputs@q_weights\n",
    "        inputset=[(np.random.randint(-128, 128, size=inputs.shape),np.random.randint(-128, 128, size=weights.shape))\n",
    "                  for i in range(10000)]\n",
    "        circuit=q_matmul_impl.compile(inputset)\n",
    "        q_result=circuit.encrypt_run_decrypt(q_inputs.qvalues,q_weights.qvalues)\n",
    "        return q_result*q_inputs.quantizer.scale*q_weights.quantizer.scale\n",
    "\n",
    "\n",
    "\n",
    "    def forward(self, x):\n",
    "        out1 = np.dot(x, self.weights1) + self.bias1\n",
    "        # out1 = np.maximum(out1, 0)  # ReLU activation function\n",
    "        out1[out1 < 0] = 0\n",
    "        out2 = np.dot(out1, self.weights2) + self.bias2\n",
    "        return out2\n",
    "\n",
    "    def q_forward(self, x):\n",
    "        n_bits=8\n",
    "        # 线性层\n",
    "        out1 = self.q_matmul_(n_bits,x,self.weights1)+self.bias1\n",
    "        # 激活层\n",
    "        # 执行激活函数需要判断tlu是否存在\n",
    "        if self.relu_circuit is None:\n",
    "            out1_relu = self.q_relu(n_bits,out1)  # ReLU activation function\n",
    "        else:\n",
    "            out1_relu=self.relu_circuit.encrypt_run_decrypt(out1)\n",
    "\n",
    "        out2=self.q_matmul_(n_bits,out1_relu, self.weights2)\n",
    "        return out2\n",
    "\n",
    "    def backward(self, x, y, learning_rate):\n",
    "        # 前向传播\n",
    "        out1 = np.dot(x, self.weights1) + self.bias1\n",
    "        out1 = np.maximum(out1, 0)  # ReLU activation function\n",
    "        out2 = np.dot(out1, self.weights2) + self.bias2\n",
    "        loss = np.mean((out2 - y) ** 2)  # 均方误差损失\n",
    "\n",
    "        # 反向传播\n",
    "        delta_out2 = 2 * (out2 - y) / len(x)\n",
    "        delta_weights2 = np.dot(out1.T, delta_out2)\n",
    "        delta_bias2 = np.sum(delta_out2, axis=0)\n",
    "        delta_out1 = np.dot(delta_out2, self.weights2.T)\n",
    "        # delta_out1[out1 <= 0] = 0  # ReLU反向传播\n",
    "        delta_relu_out = np.where(out1 <= 0, 0, delta_out1) #不使用密文，直接算\n",
    "        delta_weights1 = np.dot(x.T, delta_relu_out)\n",
    "        delta_bias1 = np.sum(delta_relu_out, axis=0)\n",
    "\n",
    "        # 更新参数\n",
    "        self.weights2 -= learning_rate * delta_weights2\n",
    "        self.bias2 -= learning_rate * delta_bias2\n",
    "        self.weights1 -= learning_rate * delta_weights1\n",
    "        self.bias1 -= learning_rate * delta_bias1\n",
    "\n",
    "        return loss\n",
    "\n",
    "    def q_backward(self, x, y, learning_rate):\n",
    "        n_bits = 8\n",
    "        # 前向传播\n",
    "        out1 = self.q_matmul_(n_bits, x, self.weights1)+self.bias1\n",
    "        # 执行激活函数需要判断tlu是否存在\n",
    "        if self.relu_circuit is None:\n",
    "            out1_relu = self.q_relu(n_bits,out1)  # ReLU activation function\n",
    "        else:\n",
    "            out1_relu=self.relu_circuit.encrypt_run_decrypt(out1)\n",
    "\n",
    "        out2 = self.q_matmul_(n_bits, out1_relu, self.weights2)+ self.bias2\n",
    "        loss = np.mean((out2 - y) ** 2)  # 均方误差损失\n",
    "\n",
    "        # 反向传播\n",
    "        delta_out2=self.q_div(n_bits,self.q_mul(n_bits,self.q_sub(n_bits,out2,y),2),len(x))\n",
    "        delta_weights2=self.q_matmul_(n_bits,out1_relu.T,delta_out2)  # 密文和密文矩阵乘法不能超过16位\n",
    "        delta_bias2 = np.sum(delta_out2, axis=0) #delta_out2是密文，所以delta_bias2是密文\n",
    "        delta_out1=self.q_matmul_(n_bits,delta_out2,self.weights2.T)\n",
    "        delta_out1_sigmoid=self.q_mul(n_bits,self.q_mul(n_bits,delta_out1,out1_relu),self.q_sub(n_bits,1,out1_relu))\n",
    "        delta_weights1=self.q_mul(n_bits,x.T,delta_out1_sigmoid)\n",
    "        delta_bias1 = np.sum(delta_out1_sigmoid, axis=0)\n",
    "\n",
    "        # 更新参数\n",
    "        self.weights2 -= learning_rate * delta_weights2\n",
    "        self.bias2 -= learning_rate * delta_bias2\n",
    "        self.weights1 -= learning_rate * delta_weights1\n",
    "        self.bias1 -= learning_rate * delta_bias1\n",
    "\n",
    "        return loss\n",
    "\n",
    "\n",
    "# 模型参数\n",
    "input_dim = X_train.shape[1]\n",
    "hidden_dim = 64\n",
    "output_dim = y_train.shape[1]\n"
   ],
   "metadata": {
    "collapsed": false,
    "ExecuteTime": {
     "start_time": "2023-10-15T15:14:38.296125Z",
     "end_time": "2023-10-15T15:14:38.329162Z"
    }
   }
  },
  {
   "cell_type": "code",
   "execution_count": 7,
   "outputs": [],
   "source": [
    "# 创建NumPy模型实例\n",
    "numpy_model = NumPyFFNN(input_dim, hidden_dim, output_dim)"
   ],
   "metadata": {
    "collapsed": false,
    "ExecuteTime": {
     "start_time": "2023-10-15T15:14:47.378538Z",
     "end_time": "2023-10-15T15:14:47.420608Z"
    }
   }
  },
  {
   "cell_type": "code",
   "execution_count": 8,
   "outputs": [],
   "source": [
    "# 随机选择一批训练数据\n",
    "batch_indices = np.random.choice(len(X_train), 32, replace=False)\n",
    "x_batch = X_train[batch_indices]\n",
    "y_batch = y_train[batch_indices]"
   ],
   "metadata": {
    "collapsed": false,
    "ExecuteTime": {
     "start_time": "2023-10-15T15:14:51.837691Z",
     "end_time": "2023-10-15T15:14:51.847743Z"
    }
   }
  },
  {
   "cell_type": "code",
   "execution_count": 9,
   "outputs": [],
   "source": [
    "#量化x_batch,和weights\n",
    "n_bits=8\n",
    "inputs=x_batch\n",
    "weights=numpy_model.weights1\n",
    "options=QuantizationOptions(n_bits,is_symmetric=True,is_signed=True)\n",
    "q_inputs = QuantizedArray(n_bits, inputs,is_signed=True,options=options)\n",
    "q_weights = QuantizedArray(n_bits, weights,is_signed=True,options=options)"
   ],
   "metadata": {
    "collapsed": false,
    "ExecuteTime": {
     "start_time": "2023-10-15T15:14:55.586591Z",
     "end_time": "2023-10-15T15:14:55.591576Z"
    }
   }
  },
  {
   "cell_type": "code",
   "execution_count": 10,
   "outputs": [],
   "source": [
    "# 创建电路\n",
    "@fhe.compiler({\"q_inputs\":\"encrypted\",\"q_weights\":\"clear\"})\n",
    "def q_matmul_impl(q_inputs,q_weights):\n",
    "    return q_inputs@q_weights\n",
    "inputset=[(np.random.randint(-128, 128, size=inputs.shape),np.random.randint(-128, 128, size=weights.shape))\n",
    "          for i in range(10000)]\n",
    "circuit=q_matmul_impl.compile(inputset)"
   ],
   "metadata": {
    "collapsed": false,
    "ExecuteTime": {
     "start_time": "2023-10-15T15:15:40.126597Z",
     "end_time": "2023-10-15T15:15:41.723974Z"
    }
   }
  },
  {
   "cell_type": "code",
   "execution_count": 11,
   "outputs": [],
   "source": [
    "circuit.server.save(\"server.zip\")"
   ],
   "metadata": {
    "collapsed": false,
    "ExecuteTime": {
     "start_time": "2023-10-15T15:15:45.917481Z",
     "end_time": "2023-10-15T15:15:45.928538Z"
    }
   }
  },
  {
   "cell_type": "code",
   "execution_count": 31,
   "outputs": [
    {
     "name": "stdout",
     "output_type": "stream",
     "text": [
      "<concrete.fhe.compilation.server.Server object at 0x7f24474a5430>\n"
     ]
    }
   ],
   "source": [
    "# Setting up a server\n",
    "server = fhe.Server.load(\"server.zip\")\n",
    "print(server)"
   ],
   "metadata": {
    "collapsed": false,
    "ExecuteTime": {
     "start_time": "2023-10-15T15:43:02.786228Z",
     "end_time": "2023-10-15T15:43:02.827359Z"
    }
   }
  },
  {
   "cell_type": "code",
   "execution_count": 14,
   "outputs": [
    {
     "name": "stdout",
     "output_type": "stream",
     "text": [
      "<concrete.fhe.compilation.client.Client object at 0x7f2447d1a0a0>\n"
     ]
    }
   ],
   "source": [
    "# Setting up clients\n",
    "client=circuit.client\n",
    "print(client)"
   ],
   "metadata": {
    "collapsed": false,
    "ExecuteTime": {
     "start_time": "2023-10-15T15:24:00.372957Z",
     "end_time": "2023-10-15T15:24:00.382009Z"
    }
   }
  },
  {
   "cell_type": "code",
   "execution_count": 15,
   "outputs": [],
   "source": [
    "# Generating keys (on the client)\n",
    "client.keys.generate()"
   ],
   "metadata": {
    "collapsed": false,
    "ExecuteTime": {
     "start_time": "2023-10-15T15:24:24.342693Z",
     "end_time": "2023-10-15T15:24:24.382927Z"
    }
   }
  },
  {
   "cell_type": "code",
   "execution_count": 19,
   "outputs": [],
   "source": [
    "# After serialization, send the evaluation keys to the server.\n",
    "serialized_evaluation_keys: bytes = client.evaluation_keys.serialize()"
   ],
   "metadata": {
    "collapsed": false,
    "ExecuteTime": {
     "start_time": "2023-10-15T15:33:22.420735Z",
     "end_time": "2023-10-15T15:33:22.463935Z"
    }
   }
  },
  {
   "cell_type": "code",
   "execution_count": 32,
   "outputs": [],
   "source": [
    "# The next step is to encrypt your inputs and request the server to perform some computation.\n",
    "# This can be done in the following way:\n",
    "arg: fhe.Value = client.encrypt(q_inputs.qvalues,q_weights.qvalues)\n",
    "serialized_arg0: bytes = arg[0].serialize()\n",
    "serialized_arg1: bytes = arg[1].serialize()"
   ],
   "metadata": {
    "collapsed": false,
    "ExecuteTime": {
     "start_time": "2023-10-15T15:43:22.828738Z",
     "end_time": "2023-10-15T15:43:22.871853Z"
    }
   }
  },
  {
   "cell_type": "code",
   "execution_count": 34,
   "outputs": [],
   "source": [
    "# Performing computation (on the server)\n",
    "deserialized_evaluation_keys = fhe.EvaluationKeys.deserialize(serialized_evaluation_keys)\n",
    "deserialized_arg0 = fhe.Value.deserialize(serialized_arg0)\n",
    "deserialized_arg1 = fhe.Value.deserialize(serialized_arg1)\n",
    "result: fhe.Value = server.run(deserialized_arg0,deserialized_arg1, evaluation_keys=deserialized_evaluation_keys)\n",
    "serialized_result: bytes = result.serialize()"
   ],
   "metadata": {
    "collapsed": false,
    "ExecuteTime": {
     "start_time": "2023-10-15T15:46:21.646188Z",
     "end_time": "2023-10-15T15:46:21.966036Z"
    }
   }
  },
  {
   "cell_type": "code",
   "execution_count": 35,
   "outputs": [
    {
     "name": "stdout",
     "output_type": "stream",
     "text": [
      "[[  674  5465  5215 ...   441 -3618  2834]\n",
      " [  148 -1090 -1508 ...  -413 -3053 -5110]\n",
      " [ 1997 -4304  1624 ...  2308 10210 13405]\n",
      " ...\n",
      " [  346  2329  1289 ...  -348 -5751 -4436]\n",
      " [ -696  4120   734 ... -1121 -3879 -3254]\n",
      " [ -580 -5161 -4189 ...   -62  3429 -1810]]\n"
     ]
    }
   ],
   "source": [
    "# Decrypting the result (on the client)\n",
    "deserialized_result = fhe.Value.deserialize(serialized_result)\n",
    "decrypted_result = client.decrypt(deserialized_result)\n",
    "print(decrypted_result)"
   ],
   "metadata": {
    "collapsed": false,
    "ExecuteTime": {
     "start_time": "2023-10-15T15:46:46.781275Z",
     "end_time": "2023-10-15T15:46:46.822242Z"
    }
   }
  },
  {
   "cell_type": "code",
   "execution_count": 36,
   "outputs": [
    {
     "name": "stdout",
     "output_type": "stream",
     "text": [
      "[[ 0.30637847  2.48421117  2.37056931 ...  0.20046425 -1.64462507\n",
      "   1.28824418]\n",
      " [ 0.06727598 -0.49547853 -0.68548773 ... -0.18773636 -1.38779446\n",
      "  -2.32283972]\n",
      " [ 0.90777122 -1.95645835  0.73821756 ...  1.0491417   4.64113377\n",
      "   6.09347681]\n",
      " ...\n",
      " [ 0.15728034  1.05868762  0.58593746 ... -0.15818948 -2.61421746\n",
      "  -2.01646125]\n",
      " [-0.31637895  1.87281794  0.33365252 ... -0.50957012 -1.76326718\n",
      "  -1.47916252]\n",
      " [-0.26364913 -2.34602266 -1.90418309 ... -0.02818318  1.55871182\n",
      "  -0.8227671 ]]\n"
     ]
    }
   ],
   "source": [
    "#反量化+bias（on the client）\n",
    "out1=decrypted_result*q_inputs.quantizer.scale*q_weights.quantizer.scale+numpy_model.bias1"
   ],
   "metadata": {
    "collapsed": false,
    "ExecuteTime": {
     "start_time": "2023-10-15T15:48:57.534283Z",
     "end_time": "2023-10-15T15:48:57.576043Z"
    }
   }
  },
  {
   "cell_type": "code",
   "execution_count": null,
   "outputs": [],
   "source": [
    "#量化out\n",
    "options=QuantizationOptions(n_bits,is_symmetric=True,is_signed=True)\n",
    "q_out1 = QuantizedArray(n_bits, inputs,is_signed=True,options=options)"
   ],
   "metadata": {
    "collapsed": false
   }
  },
  {
   "cell_type": "code",
   "execution_count": 39,
   "outputs": [],
   "source": [
    "#编译电路\n",
    "@fhe.compiler({\"q_inputs\":\"encrypted\"})\n",
    "def q_relu_impl(q_inputs):\n",
    "    return np.maximum(q_inputs, 0)\n",
    "inputset=[np.random.randint(-128, 128, size=out1.size)for i in range(10000)]\n",
    "circuit=q_relu_impl.compile(inputset)\n",
    "circuit.server.save(\"server.zip\")"
   ],
   "metadata": {
    "collapsed": false,
    "ExecuteTime": {
     "start_time": "2023-10-15T15:57:51.333253Z",
     "end_time": "2023-10-15T15:57:52.942533Z"
    }
   }
  },
  {
   "cell_type": "code",
   "execution_count": 40,
   "outputs": [],
   "source": [
    "# Setting up a server\n",
    "server = fhe.Server.load(\"server.zip\")"
   ],
   "metadata": {
    "collapsed": false,
    "ExecuteTime": {
     "start_time": "2023-10-15T15:58:47.036629Z",
     "end_time": "2023-10-15T15:58:47.075890Z"
    }
   }
  },
  {
   "cell_type": "code",
   "execution_count": null,
   "outputs": [],
   "source": [
    "# Setting up clients\n",
    "client=circuit.client\n",
    "# 生成密钥\n",
    "client.keys.generate()\n",
    "serialized_evaluation_keys: bytes = client.evaluation_keys.serialize()\n",
    "# 加密输入数据\n",
    "arg: fhe.Value = client.encrypt(q_out1.qvalues)\n",
    "serialized_arg: bytes = arg.serialize()\n"
   ],
   "metadata": {
    "collapsed": false
   }
  },
  {
   "cell_type": "code",
   "execution_count": null,
   "outputs": [],
   "source": [
    "# Performing computation (on the server)\n",
    "deserialized_evaluation_keys = fhe.EvaluationKeys.deserialize(serialized_evaluation_keys)\n",
    "deserialized_arg = fhe.Value.deserialize(serialized_arg0)\n",
    "result: fhe.Value = server.run(deserialized_arg0, evaluation_keys=deserialized_evaluation_keys)\n",
    "serialized_result: bytes = result.serialize()"
   ],
   "metadata": {
    "collapsed": false
   }
  },
  {
   "cell_type": "code",
   "execution_count": null,
   "outputs": [],
   "source": [
    "# Decrypting the result (on the client)\n",
    "deserialized_result = fhe.Value.deserialize(serialized_result)\n",
    "decrypted_result = client.decrypt(deserialized_result)\n",
    "print(decrypted_result)"
   ],
   "metadata": {
    "collapsed": false
   }
  },
  {
   "cell_type": "code",
   "execution_count": null,
   "outputs": [],
   "source": [],
   "metadata": {
    "collapsed": false
   }
  }
 ],
 "metadata": {
  "kernelspec": {
   "display_name": "Python 3",
   "language": "python",
   "name": "python3"
  },
  "language_info": {
   "codemirror_mode": {
    "name": "ipython",
    "version": 2
   },
   "file_extension": ".py",
   "mimetype": "text/x-python",
   "name": "python",
   "nbconvert_exporter": "python",
   "pygments_lexer": "ipython2",
   "version": "2.7.6"
  }
 },
 "nbformat": 4,
 "nbformat_minor": 0
}
