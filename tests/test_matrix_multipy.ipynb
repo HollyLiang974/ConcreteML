{
 "cells": [
  {
   "cell_type": "markdown",
   "source": [
    "# 量化矩阵相乘"
   ],
   "metadata": {
    "collapsed": false
   }
  },
  {
   "cell_type": "code",
   "execution_count": 2,
   "outputs": [],
   "source": [
    "import numpy as np\n",
    "from concrete.ml.quantization.quantizers import(\n",
    "    QuantizedArray,\n",
    "    MinMaxQuantizationStats,\n",
    "    QuantizationOptions,\n",
    "    UniformQuantizationParameters\n",
    ")"
   ],
   "metadata": {
    "collapsed": false,
    "ExecuteTime": {
     "start_time": "2023-10-06T14:51:53.716582Z",
     "end_time": "2023-10-06T14:52:13.183816Z"
    }
   }
  },
  {
   "cell_type": "markdown",
   "source": [
    "## 创建两个矩阵"
   ],
   "metadata": {
    "collapsed": false
   }
  },
  {
   "cell_type": "code",
   "execution_count": 3,
   "outputs": [
    {
     "name": "stdout",
     "output_type": "stream",
     "text": [
      "矩阵1:\n",
      "[[1. 2.]\n",
      " [3. 4.]]\n",
      "\n",
      "矩阵2:\n",
      "[[5. 6.]\n",
      " [7. 8.]]\n"
     ]
    }
   ],
   "source": [
    "# 创建两个浮点数矩阵\n",
    "matrix1 = np.array([[1.0, 2.0], [3.0, 4.0]], dtype=np.float64)\n",
    "matrix2 = np.array([[5.0, 6.0], [7.0, 8.0]], dtype=np.float64)\n",
    "\n",
    "# 使用numpy.dot函数计算矩阵相乘的结果\n",
    "result_dot = np.dot(matrix1, matrix2)\n",
    "\n",
    "# 或者使用@运算符计算矩阵相乘的结果\n",
    "result_at = matrix1 @ matrix2\n",
    "\n",
    "print(\"矩阵1:\")\n",
    "print(matrix1)\n",
    "\n",
    "print(\"\\n矩阵2:\")\n",
    "print(matrix2)"
   ],
   "metadata": {
    "collapsed": false,
    "ExecuteTime": {
     "start_time": "2023-10-06T14:52:13.233993Z",
     "end_time": "2023-10-06T14:52:13.234997Z"
    }
   }
  },
  {
   "cell_type": "markdown",
   "source": [
    "## 将矩阵1和矩阵2量化"
   ],
   "metadata": {
    "collapsed": false
   }
  },
  {
   "cell_type": "code",
   "execution_count": 4,
   "outputs": [
    {
     "name": "stdout",
     "output_type": "stream",
     "text": [
      "q_matrix1: [[ 32  64]\n",
      " [ 95 127]]\n",
      "q_matrix2: [[ 79  95]\n",
      " [111 127]]\n"
     ]
    }
   ],
   "source": [
    "options=QuantizationOptions(8,is_symmetric=True,is_signed=True)\n",
    "q_matrix1 = QuantizedArray(8,matrix1,options=options)\n",
    "q_matrix2 = QuantizedArray(8,matrix2,options=options)\n",
    "print(\"q_matrix1:\",q_matrix1.qvalues)\n",
    "print(\"q_matrix2:\",q_matrix2.qvalues)"
   ],
   "metadata": {
    "collapsed": false,
    "ExecuteTime": {
     "start_time": "2023-10-06T14:52:13.234997Z",
     "end_time": "2023-10-06T14:52:13.242014Z"
    }
   }
  },
  {
   "cell_type": "markdown",
   "source": [
    "矩阵量化参数"
   ],
   "metadata": {
    "collapsed": false
   }
  },
  {
   "cell_type": "code",
   "execution_count": 5,
   "outputs": [
    {
     "name": "stdout",
     "output_type": "stream",
     "text": [
      "q_matrix1: {'n_bits': 8, 'is_signed': True, 'is_symmetric': True, 'is_qat': False, 'is_narrow': False, 'is_precomputed_qat': False, 'rmax': 4.0, 'rmin': 1.0, 'uvalues': array([1., 2., 3., 4.]), 'scale': 0.031496062992125984, 'zero_point': 0, 'offset': 128, 'no_clipping': False}\n",
      "****************************************************************************************************\n",
      "q_matrix2: {'n_bits': 8, 'is_signed': True, 'is_symmetric': True, 'is_qat': False, 'is_narrow': False, 'is_precomputed_qat': False, 'rmax': 8.0, 'rmin': 5.0, 'uvalues': array([5., 6., 7., 8.]), 'scale': 0.06299212598425197, 'zero_point': 0, 'offset': 128, 'no_clipping': False}\n"
     ]
    }
   ],
   "source": [
    "print(\"q_matrix1:\",q_matrix1.quantizer.dump_dict())\n",
    "print(\"*\"*100)\n",
    "print(\"q_matrix2:\",q_matrix2.quantizer.dump_dict())"
   ],
   "metadata": {
    "collapsed": false,
    "ExecuteTime": {
     "start_time": "2023-10-06T14:52:13.242014Z",
     "end_time": "2023-10-06T14:52:13.315486Z"
    }
   }
  },
  {
   "cell_type": "markdown",
   "source": [
    "## 量化矩阵相乘"
   ],
   "metadata": {
    "collapsed": false
   }
  },
  {
   "cell_type": "code",
   "execution_count": 6,
   "outputs": [
    {
     "name": "stdout",
     "output_type": "stream",
     "text": [
      "q_result: [[ 9632 11168]\n",
      " [21602 25154]]\n"
     ]
    }
   ],
   "source": [
    "q_result = q_matrix1.qvalues @ q_matrix2.qvalues\n",
    "print(\"q_result:\",q_result)"
   ],
   "metadata": {
    "collapsed": false,
    "ExecuteTime": {
     "start_time": "2023-10-06T14:52:13.251069Z",
     "end_time": "2023-10-06T14:52:13.328518Z"
    }
   }
  },
  {
   "cell_type": "markdown",
   "source": [
    "## 反量化矩阵相乘的结果"
   ],
   "metadata": {
    "collapsed": false
   }
  },
  {
   "cell_type": "code",
   "execution_count": 7,
   "outputs": [
    {
     "name": "stdout",
     "output_type": "stream",
     "text": [
      "result: [[19.10992622 22.15735631]\n",
      " [42.85845372 49.90563581]]\n"
     ]
    }
   ],
   "source": [
    "result = q_result*q_matrix1.quantizer.scale * q_matrix2.quantizer.scale\n",
    "print(\"result:\",result)"
   ],
   "metadata": {
    "collapsed": false,
    "ExecuteTime": {
     "start_time": "2023-10-06T14:52:13.300441Z",
     "end_time": "2023-10-06T14:52:13.329523Z"
    }
   }
  },
  {
   "cell_type": "markdown",
   "source": [
    "量化矩阵相乘的结果"
   ],
   "metadata": {
    "collapsed": false
   }
  },
  {
   "cell_type": "code",
   "execution_count": 8,
   "outputs": [
    {
     "name": "stdout",
     "output_type": "stream",
     "text": [
      "real_result: [[19. 22.]\n",
      " [43. 50.]]\n"
     ]
    }
   ],
   "source": [
    "print(\"real_result:\",q_matrix1.values @ q_matrix2.values)"
   ],
   "metadata": {
    "collapsed": false,
    "ExecuteTime": {
     "start_time": "2023-10-06T14:52:13.300441Z",
     "end_time": "2023-10-06T14:52:13.329523Z"
    }
   }
  },
  {
   "cell_type": "markdown",
   "source": [
    "## 使用QuantizedMatMul计算矩阵相乘"
   ],
   "metadata": {
    "collapsed": false
   }
  },
  {
   "cell_type": "code",
   "execution_count": 9,
   "outputs": [],
   "source": [
    "from concrete.ml.quantization.quantized_ops import (\n",
    "    QuantizedMatMul,\n",
    ")"
   ],
   "metadata": {
    "collapsed": false,
    "ExecuteTime": {
     "start_time": "2023-10-06T14:52:13.300441Z",
     "end_time": "2023-10-06T14:52:13.330535Z"
    }
   }
  },
  {
   "cell_type": "code",
   "execution_count": 10,
   "outputs": [
    {
     "name": "stdout",
     "output_type": "stream",
     "text": [
      "expected_gemm_outputs: [[19. 22.]\n",
      " [43. 50.]]\n",
      "actual_gemm_outputs: [[18.96470588 22.00392157]\n",
      " [42.91372549 49.96470588]]\n"
     ]
    }
   ],
   "source": [
    "q_mm=QuantizedMatMul(\n",
    "    8,\n",
    "    \"Test_\"+\"QuantizedMatmul\",\n",
    "    int_input_names={\"0\"},\n",
    "    constant_inputs={\"b\": q_matrix2},\n",
    ")\n",
    "expected_mm_outputs = q_mm.calibrate(matrix1)\n",
    "print(\"expected_gemm_outputs:\",expected_mm_outputs)\n",
    "actual_mm_outputs = q_mm(q_matrix1)\n",
    "print(\"actual_gemm_outputs:\",actual_mm_outputs.dequant())"
   ],
   "metadata": {
    "collapsed": false,
    "ExecuteTime": {
     "start_time": "2023-10-06T14:52:13.300441Z",
     "end_time": "2023-10-06T14:52:13.330535Z"
    }
   }
  },
  {
   "cell_type": "markdown",
   "source": [
    "## 使用QuantizedGemm计算矩阵相乘"
   ],
   "metadata": {
    "collapsed": false
   }
  },
  {
   "cell_type": "code",
   "execution_count": 11,
   "outputs": [],
   "source": [
    "from concrete.ml.quantization.quantized_ops import (\n",
    "    QuantizedGemm,\n",
    ")"
   ],
   "metadata": {
    "collapsed": false,
    "ExecuteTime": {
     "start_time": "2023-10-06T14:52:13.343558Z",
     "end_time": "2023-10-06T14:52:13.408268Z"
    }
   }
  },
  {
   "cell_type": "code",
   "execution_count": 12,
   "outputs": [
    {
     "name": "stdout",
     "output_type": "stream",
     "text": [
      "expected_gemm_outputs: [[19. 22.]\n",
      " [43. 50.]]\n",
      "actual_gemm_outputs: [[18.96470588 22.00392157]\n",
      " [42.91372549 49.96470588]]\n"
     ]
    }
   ],
   "source": [
    "q_gemm = QuantizedGemm(\n",
    "        8,\n",
    "        \"Test_\" + \"QuantizedGemm\",\n",
    "        int_input_names={\"0\"},\n",
    "        constant_inputs={\"b\": q_matrix2},\n",
    "    )\n",
    "expected_gemm_outputs = q_gemm.calibrate(matrix1)\n",
    "print(\"expected_gemm_outputs:\",expected_gemm_outputs)\n",
    "actual_gemm_outputs = q_gemm(q_matrix1)\n",
    "print(\"actual_gemm_outputs:\",actual_gemm_outputs.dequant())"
   ],
   "metadata": {
    "collapsed": false,
    "ExecuteTime": {
     "start_time": "2023-10-06T14:52:13.343558Z",
     "end_time": "2023-10-06T14:52:13.419297Z"
    }
   }
  },
  {
   "cell_type": "markdown",
   "source": [
    "## 将矩阵相乘编译成电路"
   ],
   "metadata": {
    "collapsed": false
   }
  },
  {
   "cell_type": "code",
   "execution_count": 13,
   "outputs": [],
   "source": [
    "from concrete import fhe\n",
    "import numpy as np"
   ],
   "metadata": {
    "collapsed": false,
    "ExecuteTime": {
     "start_time": "2023-10-06T14:52:13.343558Z",
     "end_time": "2023-10-06T14:52:13.420300Z"
    }
   }
  },
  {
   "cell_type": "code",
   "execution_count": 14,
   "outputs": [
    {
     "name": "stdout",
     "output_type": "stream",
     "text": [
      "weight: [[0.98842096 0.08765085 0.26070036 ... 0.0389806  0.44675294 0.09080959]\n",
      " [0.59623538 0.82786726 0.29212342 ... 0.44835206 0.76161856 0.58008714]\n",
      " [0.55646692 0.42872063 0.16046165 ... 0.80671794 0.01174179 0.50573076]\n",
      " ...\n",
      " [0.33913304 0.26573855 0.49188787 ... 0.87890236 0.54885496 0.10563837]\n",
      " [0.42444985 0.60750798 0.93760933 ... 0.86801    0.44521928 0.34956334]\n",
      " [0.11571159 0.1570743  0.30780795 ... 0.12707277 0.45624764 0.26753028]]\n",
      "bias: [0.86136278 0.57887083 0.30488831 0.07688525 0.30086415 0.21278767\n",
      " 0.35213633 0.20966626 0.1043467  0.46128351]\n"
     ]
    }
   ],
   "source": [
    "weight=np.random.rand(576,10)\n",
    "bias=np.random.rand(10)\n",
    "print(\"weight:\",weight)\n",
    "print(\"bias:\",bias)\n"
   ],
   "metadata": {
    "collapsed": false,
    "ExecuteTime": {
     "start_time": "2023-10-06T14:52:13.343558Z",
     "end_time": "2023-10-06T14:52:13.420300Z"
    }
   }
  },
  {
   "cell_type": "code",
   "execution_count": 46,
   "outputs": [
    {
     "name": "stdout",
     "output_type": "stream",
     "text": [
      "q_weight: [[126  11  33 ...   5  57  12]\n",
      " [ 76 105  37 ...  57  97  74]\n",
      " [ 71  54  20 ... 102   1  64]\n",
      " ...\n",
      " [ 43  34  62 ... 112  70  13]\n",
      " [ 54  77 119 ... 110  57  44]\n",
      " [ 15  20  39 ...  16  58  34]]\n"
     ]
    }
   ],
   "source": [
    "options=QuantizationOptions(8,is_symmetric=True,is_signed=True)\n",
    "q_weight=QuantizedArray(8,weight,options=options)\n",
    "print(\"q_weight:\",q_weight.qvalues)"
   ],
   "metadata": {
    "collapsed": false,
    "ExecuteTime": {
     "start_time": "2023-10-06T17:09:33.006765Z",
     "end_time": "2023-10-06T17:09:33.046870Z"
    }
   }
  },
  {
   "cell_type": "code",
   "execution_count": 47,
   "outputs": [],
   "source": [
    "configuration = fhe.Configuration(\n",
    "    enable_unsafe_features=True,\n",
    "    show_mlir=False,\n",
    "    show_graph=True,\n",
    ")\n",
    "@fhe.compiler({\"q_x\": \"encrypted\"})\n",
    "def f_lr(q_x):\n",
    "    res = q_x @ q_weight.qvalues\n",
    "    return res"
   ],
   "metadata": {
    "collapsed": false,
    "ExecuteTime": {
     "start_time": "2023-10-06T17:09:37.950938Z",
     "end_time": "2023-10-06T17:09:37.961990Z"
    }
   }
  },
  {
   "cell_type": "code",
   "execution_count": 48,
   "outputs": [],
   "source": [
    "inputset = [np.random.randint(-128, 128, size=(576,)) for i in range(10000)]"
   ],
   "metadata": {
    "collapsed": false,
    "ExecuteTime": {
     "start_time": "2023-10-06T17:09:39.987593Z",
     "end_time": "2023-10-06T17:09:40.532545Z"
    }
   }
  },
  {
   "cell_type": "code",
   "execution_count": 49,
   "outputs": [
    {
     "name": "stdout",
     "output_type": "stream",
     "text": [
      "\n",
      "Computation Graph\n",
      "--------------------------------------------------------------------------------\n",
      "%0 = q_x                              # EncryptedTensor<int8, shape=(576,)>        ∈ [-128, 127]\n",
      "%1 = [[126  11  ...   58  34]]        # ClearTensor<uint7, shape=(576, 10)>        ∈ [0, 127]\n",
      "%2 = matmul(%0, %1)                   # EncryptedTensor<int21, shape=(10,)>        ∈ [-721833, 607319]\n",
      "return %2\n",
      "--------------------------------------------------------------------------------\n",
      "\n"
     ]
    }
   ],
   "source": [
    "circuit = f_lr.compile(inputset,configuration=configuration)"
   ],
   "metadata": {
    "collapsed": false,
    "ExecuteTime": {
     "start_time": "2023-10-06T17:09:40.663485Z",
     "end_time": "2023-10-06T17:09:42.121189Z"
    }
   }
  },
  {
   "cell_type": "code",
   "execution_count": 50,
   "outputs": [
    {
     "name": "stdout",
     "output_type": "stream",
     "text": [
      "input: (576,)\n"
     ]
    }
   ],
   "source": [
    "input=np.random.randn(576,)\n",
    "print(\"input:\",input.shape)"
   ],
   "metadata": {
    "collapsed": false,
    "ExecuteTime": {
     "start_time": "2023-10-06T17:10:12.974068Z",
     "end_time": "2023-10-06T17:10:12.984068Z"
    }
   }
  },
  {
   "cell_type": "code",
   "execution_count": 51,
   "outputs": [
    {
     "name": "stdout",
     "output_type": "stream",
     "text": [
      "q_input: [ -53   58  -17  -72  -28   37   15  -26  -12   75   43   34  -50  -43\n",
      "   -4   24  -36  -32    9  -16   65   37   69   14  -13  -57   52  -20\n",
      "   33   -5  -46  118  -33  -67  -33    1   16  -17   34   16   25    0\n",
      "   71  -41   16   42   52  -73  -21  -29  -58   24   -6  -92   67  -23\n",
      "  -18  -19  108   27   24  -99  -14  -20   81  -41    9  -16   -2   20\n",
      "   12  -26   24   18   73   70  -69   67  -38  -11   15    4    5   18\n",
      "  -32   49  -51   42   10   35   12   22  -25  -51  -24   37  -38   10\n",
      "  -18  -10  -34  -22  -68   30  -83   20   19  -66   15   18    4  -39\n",
      "   11   59  -17  -23   29  -33   25  -62  -14   18   -2    8   29  -10\n",
      "   25  -15   24   -8  -26  -12   30   30  -40   23   -2  -79   42   37\n",
      "  -60  -21   61   32  -66   -1  -18    2  -11   14    8  -47   -5   52\n",
      "    2  -29   29   89   42   25   -8   28    1  -14   34   54   41   88\n",
      "   42   21    2   47   14  -10  -21   76  -75  -56    3  -38   34  -16\n",
      "   42   -3    4   98  -43   16  -35   28   19  -41   65  -14   26  -22\n",
      "   30   -2  -18    0   67  -34   23   -5   15 -113   37  -60   28  -67\n",
      "   65  -22  -67   18   -6   19  -16   40   30   42  -19  -17   21    5\n",
      "   43   36   -9   36    1   32   17    5   74  -50  -28  -29   -8  -11\n",
      "   -1   31    7  -15   44    3   13   19   45  -19   10  -12    0    1\n",
      "   15  -27  -19    2  -18   -4  -63    5  -43  -45  -96   -5  -45  -39\n",
      "  -74   12  -28   46   68  -29  -55   -9  -25   25  -27  -91  -32   29\n",
      "   36  -75   90   -3  -72   63  -37    7   -5   11  -98    9   41  -31\n",
      "   -6  -10  -65  -67   25  -39  -10  -18   28 -122  -41  -52  -26  -13\n",
      "  -55  -21   27   21  -48  -28  -77    8    0   69   30  -66  -29   20\n",
      "   12  -42  -71   25   26    8   49   65   81  -68  -53   -4    1   -1\n",
      "   -1  -20  -10   22   55    5  -43  -26  -60  -45    2  -54  -49  -59\n",
      "   34   58   10  -11  -21  -68  -93   56  107   59   15   43    0   27\n",
      "   22   30   -7   14  -56  -14    5   23  -53   39    3    2   13  -32\n",
      "  -11  -63  -17   -8   -8   37  -18   76   22   57  -18  -33   23  -42\n",
      "   14  -51  -25  -15  -83   36  -78    5  -24   31   99   17   15  -67\n",
      "  -75   52  -14   35   -9  -51  -20   36  -32  -19    2  -85   -7   19\n",
      "  -27    2   15  -40  -54   14    8   50   13   -5  -22 -115  -35  107\n",
      "  -37    8  127  -38  -14  -25   63   47   41  -49    4   -1   35  -63\n",
      "  -40   28  -40   13  -85  -46  -27  -28   12   30   -9   32  -18   36\n",
      "   77   15  -15   36   31  -21   38   63   20  111   31   29  -23   48\n",
      "   66   10  -35   37   -7  104  -16  -71   -4  -19  -43  -17    2  -35\n",
      "  -22  -13   -6    9  -20  -18    4  -20  -66  -50   -5   99  -36    2\n",
      "  -14  -40    2  -45   10    3   32    1    8   55    5  -48  -39   71\n",
      "  -62   50  -33    8   61  -30   29  -23  -24  -16    5  -24   31    2\n",
      "   60   33  -37  -40 -104  -17  -29   13  -28  -41    1  -58   47  -30\n",
      "  -35    7   27  -19   29   -4   18   -3  -68   16  -35   18    5   -3\n",
      "  -17    8   54  -22   29   -2   13    6  -67   32   -1   27  -29   -5\n",
      "   43  -25]\n"
     ]
    }
   ],
   "source": [
    "q_input=QuantizedArray(8,input,options=options)\n",
    "print(\"q_input:\",q_input.qvalues)"
   ],
   "metadata": {
    "collapsed": false,
    "ExecuteTime": {
     "start_time": "2023-10-06T17:10:14.551332Z",
     "end_time": "2023-10-06T17:10:14.559622Z"
    }
   }
  },
  {
   "cell_type": "code",
   "execution_count": 52,
   "outputs": [
    {
     "name": "stdout",
     "output_type": "stream",
     "text": [
      "deq_result: [-12.74770905 -19.73274707 -14.32666489  -0.81009169 -12.97768443\n",
      " -21.16769964   0.46503092  -0.72744123 -16.79035183   3.24720543]\n",
      "real_result: [-12.71593865 -19.60519293 -14.17264809  -0.76435181 -13.06317095\n",
      " -20.97342758   0.54236164  -0.61235716 -16.87038662   3.29810105]\n"
     ]
    }
   ],
   "source": [
    "q_result=circuit.encrypt_run_decrypt(q_input.qvalues)\n",
    "deq_result=q_result*q_weight.quantizer.scale*q_input.quantizer.scale\n",
    "print(\"deq_result:\",deq_result)\n",
    "print(\"real_result:\",input@weight)"
   ],
   "metadata": {
    "collapsed": false,
    "ExecuteTime": {
     "start_time": "2023-10-06T17:10:15.835276Z",
     "end_time": "2023-10-06T17:10:15.840293Z"
    }
   }
  },
  {
   "cell_type": "markdown",
   "source": [
    "## 添加偏置"
   ],
   "metadata": {
    "collapsed": false
   }
  },
  {
   "cell_type": "code",
   "execution_count": 69,
   "outputs": [
    {
     "name": "stdout",
     "output_type": "stream",
     "text": [
      "q_bias: {'n_bits': 8, 'is_signed': True, 'is_symmetric': True, 'is_qat': False, 'is_narrow': False, 'is_precomputed_qat': False, 'rmax': 3.2981010498426007, 'rmin': -20.97342757689982, 'uvalues': array([-20.97, -19.61, -16.87, -14.17, -13.06, -12.72,  -0.76,  -0.61,\n",
      "         0.54,   3.3 ]), 'scale': 0.16514509903070723, 'zero_point': 0, 'offset': 128, 'no_clipping': False}\n"
     ]
    }
   ],
   "source": [
    "stats=MinMaxQuantizationStats()\n",
    "stats.compute_quantization_stats(input@weight)\n",
    "options=QuantizationOptions(8,is_symmetric=True,is_signed=True)\n",
    "q_bias=QuantizedArray(8,bias,options=options,stats=stats)\n",
    "print(\"q_bias:\",q_bias.quantizer.dump_dict())"
   ],
   "metadata": {
    "collapsed": false,
    "ExecuteTime": {
     "start_time": "2023-10-06T17:21:28.644534Z",
     "end_time": "2023-10-06T17:21:28.686643Z"
    }
   }
  },
  {
   "cell_type": "code",
   "execution_count": 68,
   "outputs": [
    {
     "name": "stdout",
     "output_type": "stream",
     "text": [
      "[5 4 2 0 2 1 2 1 1 3]\n",
      "[5.55065957 4.44052765 2.22026383 0.         2.22026383 1.11013191\n",
      " 2.22026383 1.11013191 1.11013191 3.33039574]\n",
      "[-11.85457587 -19.0263221  -13.86775977  -0.68746656 -12.76230681\n",
      " -20.76063991   0.89449797  -0.4026909  -16.76603992   3.75938456]\n"
     ]
    }
   ],
   "source": [
    "q_result2=q_input.qvalues@q_weight.qvalues+q_bias.qvalues\n",
    "print(q_result2)\n",
    "deq_result2=q_result2*q_weight.quantizer.scale*q_input.quantizer.scale\n",
    "print(deq_result2)\n",
    "print(input@weight+bias)"
   ],
   "metadata": {
    "collapsed": false,
    "ExecuteTime": {
     "start_time": "2023-10-06T17:21:13.528784Z",
     "end_time": "2023-10-06T17:21:13.572463Z"
    }
   }
  },
  {
   "cell_type": "code",
   "execution_count": null,
   "outputs": [],
   "source": [],
   "metadata": {
    "collapsed": false
   }
  },
  {
   "cell_type": "markdown",
   "source": [
    "## 溢出问题\n",
    "在计算矩阵相乘时，元素会经历相乘和相加两个操作，这两个操作都可能导致溢出。在量化矩阵相乘时，我们需要考虑溢出问题。所以在进行量化之前应该输入一个校准数据集，来确定量化参数。"
   ],
   "metadata": {
    "collapsed": false
   }
  },
  {
   "cell_type": "code",
   "execution_count": 60,
   "outputs": [],
   "source": [
    "options=QuantizationOptions(8,is_symmetric=True,is_signed=True)\n",
    "calibration_datasets=inputset@weight\n",
    "quantized_samples = QuantizedArray(8,calibration_datasets,options=options)\n",
    "\n",
    "params = quantized_samples.quantizer.quant_params\n",
    "stats = quantized_samples.quantizer.quant_stats\n"
   ],
   "metadata": {
    "collapsed": false,
    "ExecuteTime": {
     "start_time": "2023-10-06T17:15:07.629039Z",
     "end_time": "2023-10-06T17:15:07.869662Z"
    }
   }
  },
  {
   "cell_type": "code",
   "execution_count": 61,
   "outputs": [
    {
     "name": "stdout",
     "output_type": "stream",
     "text": [
      "q_weight: [[0 0 0 ... 0 0 0]\n",
      " [0 0 0 ... 0 0 0]\n",
      " [0 0 0 ... 0 0 0]\n",
      " ...\n",
      " [0 0 0 ... 0 0 0]\n",
      " [0 0 0 ... 0 0 0]\n",
      " [0 0 0 ... 0 0 0]]\n",
      "q_bias: [0 0 0 0 0 0 0 0 0 0]\n"
     ]
    }
   ],
   "source": [
    "q_weight=QuantizedArray(8,weight,options=options,params=params,stats=stats)\n",
    "q_bias=QuantizedArray(8,bias,options=options,params=params,stats=stats)\n",
    "print(\"q_weight:\",q_weight.qvalues)\n",
    "print(\"q_bias:\",q_bias.qvalues)"
   ],
   "metadata": {
    "collapsed": false,
    "ExecuteTime": {
     "start_time": "2023-10-06T17:15:08.502517Z",
     "end_time": "2023-10-06T17:15:08.511534Z"
    }
   }
  },
  {
   "cell_type": "code",
   "execution_count": 23,
   "outputs": [],
   "source": [],
   "metadata": {
    "collapsed": false,
    "ExecuteTime": {
     "start_time": "2023-10-06T14:52:17.373017Z",
     "end_time": "2023-10-06T14:52:17.399089Z"
    }
   }
  }
 ],
 "metadata": {
  "kernelspec": {
   "display_name": "Python 3",
   "language": "python",
   "name": "python3"
  },
  "language_info": {
   "codemirror_mode": {
    "name": "ipython",
    "version": 2
   },
   "file_extension": ".py",
   "mimetype": "text/x-python",
   "name": "python",
   "nbconvert_exporter": "python",
   "pygments_lexer": "ipython2",
   "version": "2.7.6"
  }
 },
 "nbformat": 4,
 "nbformat_minor": 0
}
