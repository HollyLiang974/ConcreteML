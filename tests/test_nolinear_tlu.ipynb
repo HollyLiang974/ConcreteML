{
 "cells": [
  {
   "cell_type": "markdown",
   "source": [
    "# 非线性激活函数量化——查表法"
   ],
   "metadata": {
    "collapsed": false
   }
  },
  {
   "cell_type": "code",
   "execution_count": 26,
   "outputs": [],
   "source": [
    "import matplotlib.pyplot as plt\n",
    "import time\n",
    "import numpy as np\n",
    "def sigmoid(x):\n",
    "    return 1 / (1 + np.exp(-x))"
   ],
   "metadata": {
    "collapsed": false,
    "ExecuteTime": {
     "start_time": "2023-10-10T11:06:33.656028Z",
     "end_time": "2023-10-10T11:06:33.697147Z"
    }
   }
  },
  {
   "cell_type": "code",
   "execution_count": 27,
   "outputs": [],
   "source": [
    "# 量化比特数\n",
    "bit_nums = 8\n",
    "# lut表大小\n",
    "lut_size = 256\n",
    "\n",
    "q_min = 0\n",
    "q_max = 2 ** bit_nums - 1\n",
    "\n",
    "in_scale = (127+128) / (2 ** bit_nums - 1)\n",
    "in_zp = np.clip(np.round(q_max - 127 / in_scale), q_min, q_max)\n",
    "out_scale = 1 / (2 ** bit_nums - 1)\n",
    "out_zp = np.clip(np.round(q_max - 1 / out_scale), q_min, q_max)"
   ],
   "metadata": {
    "collapsed": false,
    "ExecuteTime": {
     "start_time": "2023-10-10T11:06:39.912555Z",
     "end_time": "2023-10-10T11:06:39.923588Z"
    }
   }
  },
  {
   "cell_type": "code",
   "execution_count": 28,
   "outputs": [
    {
     "data": {
      "text/plain": "[<matplotlib.lines.Line2D at 0x7f31cd518b50>]"
     },
     "execution_count": 28,
     "metadata": {},
     "output_type": "execute_result"
    },
    {
     "data": {
      "text/plain": "<Figure size 640x480 with 1 Axes>",
      "image/png": "[encoded data removed]"
     },
     "metadata": {},
     "output_type": "display_data"
    }
   ],
   "source": [
    "# 生成 lut 表的采样点\n",
    "q_x = np.round(np.linspace(0, 2 ** bit_nums - 1, lut_size))\n",
    "# 反量化到 [-10, 10]\n",
    "x = (q_x - in_zp) * in_scale\n",
    "# 计算 sigmoid 函数的值\n",
    "y = sigmoid(x)\n",
    "# 函数值量化到 [0, 255]\n",
    "q_y = np.clip(np.round(y / out_scale) + out_zp, q_min, q_max)\n",
    "plt.plot(x, y, 'ro')"
   ],
   "metadata": {
    "collapsed": false,
    "ExecuteTime": {
     "start_time": "2023-10-10T11:06:48.547866Z",
     "end_time": "2023-10-10T11:06:48.700265Z"
    }
   }
  },
  {
   "cell_type": "code",
   "execution_count": 29,
   "outputs": [
    {
     "data": {
      "text/plain": "[<matplotlib.lines.Line2D at 0x7f31cd4f60a0>]"
     },
     "execution_count": 29,
     "metadata": {},
     "output_type": "execute_result"
    },
    {
     "data": {
      "text/plain": "<Figure size 640x480 with 1 Axes>",
      "image/png": "[encoded data removed]"
     },
     "metadata": {},
     "output_type": "display_data"
    }
   ],
   "source": [
    "plt.plot(q_x, q_y, 'ro')"
   ],
   "metadata": {
    "collapsed": false,
    "ExecuteTime": {
     "start_time": "2023-10-10T11:07:03.066004Z",
     "end_time": "2023-10-10T11:07:03.232996Z"
    }
   }
  },
  {
   "cell_type": "markdown",
   "source": [
    "## 推理阶段"
   ],
   "metadata": {
    "collapsed": false
   }
  },
  {
   "cell_type": "code",
   "execution_count": 30,
   "outputs": [
    {
     "name": "stdout",
     "output_type": "stream",
     "text": [
      "225.0\n",
      "0.8823529411764706\n"
     ]
    }
   ],
   "source": [
    "x=2\n",
    "q_x1=np.round(x/in_scale)+in_zp\n",
    "y=np.interp(q_x1, q_x, q_y)\n",
    "print(y)\n",
    "y=(y-out_zp)*out_scale\n",
    "print(y)"
   ],
   "metadata": {
    "collapsed": false,
    "ExecuteTime": {
     "start_time": "2023-10-10T11:07:11.452308Z",
     "end_time": "2023-10-10T11:07:11.455317Z"
    }
   }
  },
  {
   "cell_type": "code",
   "execution_count": 31,
   "outputs": [
    {
     "name": "stdout",
     "output_type": "stream",
     "text": [
      "0.8807970779778823\n"
     ]
    }
   ],
   "source": [
    "print(sigmoid(2))"
   ],
   "metadata": {
    "collapsed": false,
    "ExecuteTime": {
     "start_time": "2023-10-10T11:07:17.006888Z",
     "end_time": "2023-10-10T11:07:17.013904Z"
    }
   }
  },
  {
   "cell_type": "markdown",
   "source": [
    "## 非线性函数电路"
   ],
   "metadata": {
    "collapsed": false
   }
  },
  {
   "cell_type": "code",
   "execution_count": 32,
   "outputs": [
    {
     "name": "stdout",
     "output_type": "stream",
     "text": [
      "%0 = q_x                                             # EncryptedScalar<uint8>        ∈ [0, 255]\n",
      "%1 = tlu(%0, table=[  0   0   ... 5 255 255])        # EncryptedScalar<uint8>        ∈ [0, 255]\n",
      "return %1\n"
     ]
    }
   ],
   "source": [
    "from concrete import fhe\n",
    "table = fhe.LookupTable(q_y.astype(np.int32))\n",
    "\n",
    "@fhe.compiler({\"q_x\": \"encrypted\"})\n",
    "def q_sigmoid(q_x):\n",
    "    return table[q_x]\n",
    "\n",
    "inputset = range(0,256)\n",
    "circuit = q_sigmoid.compile(inputset)\n",
    "\n",
    "print(circuit)"
   ],
   "metadata": {
    "collapsed": false,
    "ExecuteTime": {
     "start_time": "2023-10-10T11:07:46.210373Z",
     "end_time": "2023-10-10T11:07:46.295626Z"
    }
   }
  },
  {
   "cell_type": "code",
   "execution_count": 34,
   "outputs": [
    {
     "name": "stdout",
     "output_type": "stream",
     "text": [
      "140.0\n",
      "255.0\n",
      "1.0\n"
     ]
    }
   ],
   "source": [
    "x=12\n",
    "q_x1=np.round(x/in_scale)+in_zp\n",
    "print(q_x1)\n",
    "y=np.interp(q_x1, q_x, q_y)\n",
    "print(y)\n",
    "y=(y-out_zp)*out_scale\n",
    "print(y)"
   ],
   "metadata": {
    "collapsed": false,
    "ExecuteTime": {
     "start_time": "2023-10-10T11:08:18.082511Z",
     "end_time": "2023-10-10T11:08:18.122657Z"
    }
   }
  },
  {
   "cell_type": "code",
   "execution_count": 35,
   "outputs": [
    {
     "name": "stdout",
     "output_type": "stream",
     "text": [
      "keygen_time: 115.37499594688416\n"
     ]
    }
   ],
   "source": [
    "#生成密钥时间\n",
    "start=time.time()\n",
    "circuit.keygen()\n",
    "end=time.time()\n",
    "print(\"keygen_time:\",end-start)"
   ],
   "metadata": {
    "collapsed": false,
    "ExecuteTime": {
     "start_time": "2023-10-10T11:10:37.836453Z",
     "end_time": "2023-10-10T11:10:37.880677Z"
    }
   }
  },
  {
   "cell_type": "code",
   "execution_count": 47,
   "outputs": [
    {
     "name": "stdout",
     "output_type": "stream",
     "text": [
      "140\n",
      "encrypt_time: 0.0009417533874511719\n"
     ]
    }
   ],
   "source": [
    "#加密时间\n",
    "x=12\n",
    "q_x1=(np.round(x/in_scale)+in_zp).astype(np.int32)\n",
    "print(q_x1)\n",
    "start=time.time()\n",
    "enc_q_x1=circuit.encrypt(q_x1)\n",
    "end=time.time()\n",
    "print(\"encrypt_time:\",end-start)"
   ],
   "metadata": {
    "collapsed": false,
    "ExecuteTime": {
     "start_time": "2023-10-10T11:13:56.045377Z",
     "end_time": "2023-10-10T11:13:56.065422Z"
    }
   }
  },
  {
   "cell_type": "code",
   "execution_count": 48,
   "outputs": [
    {
     "name": "stdout",
     "output_type": "stream",
     "text": [
      "run_time: 1.1920018196105957\n"
     ]
    }
   ],
   "source": [
    "#运行时间\n",
    "start=time.time()\n",
    "enc_q_x1=circuit.run(enc_q_x1)\n",
    "end=time.time()\n",
    "print(\"run_time:\",end-start)"
   ],
   "metadata": {
    "collapsed": false,
    "ExecuteTime": {
     "start_time": "2023-10-10T11:13:58.284942Z",
     "end_time": "2023-10-10T11:13:59.487137Z"
    }
   }
  },
  {
   "cell_type": "code",
   "execution_count": 49,
   "outputs": [
    {
     "name": "stdout",
     "output_type": "stream",
     "text": [
      "decrypt_time: 0.0001697540283203125\n",
      "q_result: 255\n",
      "result: 1.0\n",
      "sigmoid_result: 0.9999938558253978\n"
     ]
    }
   ],
   "source": [
    "# 解密时间\n",
    "start=time.time()\n",
    "q_result=circuit.decrypt(enc_q_x1)\n",
    "end=time.time()\n",
    "print(\"decrypt_time:\",end-start)\n",
    "print(\"q_result:\",q_result)\n",
    "print(\"result:\",(q_result-out_zp)*out_scale)\n",
    "print(\"sigmoid_result:\",sigmoid(x))"
   ],
   "metadata": {
    "collapsed": false,
    "ExecuteTime": {
     "start_time": "2023-10-10T11:14:02.381548Z",
     "end_time": "2023-10-10T11:14:02.421654Z"
    }
   }
  },
  {
   "cell_type": "code",
   "execution_count": 50,
   "outputs": [
    {
     "name": "stdout",
     "output_type": "stream",
     "text": [
      "[  0.   1.   2.   3.   4.   5.   6.   7.   8.   9.  10.  11.  12.  13.\n",
      "  14.  15.  16.  17.  18.  19.  20.  21.  22.  23.  24.  25.  26.  27.\n",
      "  28.  29.  30.  31.  32.  33.  34.  35.  36.  37.  38.  39.  40.  41.\n",
      "  42.  43.  44.  45.  46.  47.  48.  49.  50.  51.  52.  53.  54.  55.\n",
      "  56.  57.  58.  59.  60.  61.  62.  63.  64.  65.  66.  67.  68.  69.\n",
      "  70.  71.  72.  73.  74.  75.  76.  77.  78.  79.  80.  81.  82.  83.\n",
      "  84.  85.  86.  87.  88.  89.  90.  91.  92.  93.  94.  95.  96.  97.\n",
      "  98.  99. 100. 101. 102. 103. 104. 105. 106. 107. 108. 109. 110. 111.\n",
      " 112. 113. 114. 115. 116. 117. 118. 119. 120. 121. 122. 123. 124. 125.\n",
      " 126. 127. 128. 129. 130. 131. 132. 133. 134. 135. 136. 137. 138. 139.\n",
      " 140. 141. 142. 143. 144. 145. 146. 147. 148. 149. 150. 151. 152. 153.\n",
      " 154. 155. 156. 157. 158. 159. 160. 161. 162. 163. 164. 165. 166. 167.\n",
      " 168. 169. 170. 171. 172. 173. 174. 175. 176. 177. 178. 179. 180. 181.\n",
      " 182. 183. 184. 185. 186. 187. 188. 189. 190. 191. 192. 193. 194. 195.\n",
      " 196. 197. 198. 199. 200. 201. 202. 203. 204. 205. 206. 207. 208. 209.\n",
      " 210. 211. 212. 213. 214. 215. 216. 217. 218. 219. 220. 221. 222. 223.\n",
      " 224. 225. 226. 227. 228. 229. 230. 231. 232. 233. 234. 235. 236. 237.\n",
      " 238. 239. 240. 241. 242. 243. 244. 245. 246. 247. 248. 249. 250. 251.\n",
      " 252. 253. 254. 255.]\n"
     ]
    }
   ],
   "source": [
    "print(q_x)"
   ],
   "metadata": {
    "collapsed": false,
    "ExecuteTime": {
     "start_time": "2023-10-10T11:14:11.962484Z",
     "end_time": "2023-10-10T11:14:11.970475Z"
    }
   }
  },
  {
   "cell_type": "code",
   "execution_count": 51,
   "outputs": [
    {
     "name": "stdout",
     "output_type": "stream",
     "text": [
      "[  0.   0.   0.   0.   0.   0.   0.   0.   0.   0.   0.   0.   0.   0.\n",
      "   0.   0.   0.   0.   0.   0.   0.   0.   0.   0.   0.   0.   0.   0.\n",
      "   0.   0.   0.   0.   0.   0.   0.   0.   0.   0.   0.   0.   0.   0.\n",
      "   0.   0.   0.   0.   0.   0.   0.   0.   0.   0.   0.   0.   0.   0.\n",
      "   0.   0.   0.   0.   0.   0.   0.   0.   0.   0.   0.   0.   0.   0.\n",
      "   0.   0.   0.   0.   0.   0.   0.   0.   0.   0.   0.   0.   0.   0.\n",
      "   0.   0.   0.   0.   0.   0.   0.   0.   0.   0.   0.   0.   0.   0.\n",
      "   0.   0.   0.   0.   0.   0.   0.   0.   0.   0.   0.   0.   0.   0.\n",
      "   0.   0.   0.   0.   0.   0.   0.   0.   0.   0.   1.   2.   5.  12.\n",
      "  30.  69. 128. 186. 225. 243. 250. 253. 254. 255. 255. 255. 255. 255.\n",
      " 255. 255. 255. 255. 255. 255. 255. 255. 255. 255. 255. 255. 255. 255.\n",
      " 255. 255. 255. 255. 255. 255. 255. 255. 255. 255. 255. 255. 255. 255.\n",
      " 255. 255. 255. 255. 255. 255. 255. 255. 255. 255. 255. 255. 255. 255.\n",
      " 255. 255. 255. 255. 255. 255. 255. 255. 255. 255. 255. 255. 255. 255.\n",
      " 255. 255. 255. 255. 255. 255. 255. 255. 255. 255. 255. 255. 255. 255.\n",
      " 255. 255. 255. 255. 255. 255. 255. 255. 255. 255. 255. 255. 255. 255.\n",
      " 255. 255. 255. 255. 255. 255. 255. 255. 255. 255. 255. 255. 255. 255.\n",
      " 255. 255. 255. 255. 255. 255. 255. 255. 255. 255. 255. 255. 255. 255.\n",
      " 255. 255. 255. 255.]\n"
     ]
    }
   ],
   "source": [
    "print(q_y)"
   ],
   "metadata": {
    "collapsed": false,
    "ExecuteTime": {
     "start_time": "2023-10-10T11:14:14.092466Z",
     "end_time": "2023-10-10T11:14:14.101533Z"
    }
   }
  },
  {
   "cell_type": "markdown",
   "source": [
    "## 测试非线性函数的运行时间"
   ],
   "metadata": {
    "collapsed": false
   }
  },
  {
   "cell_type": "markdown",
   "source": [
    "### 量化比特数为8"
   ],
   "metadata": {
    "collapsed": false
   }
  },
  {
   "cell_type": "code",
   "execution_count": 52,
   "outputs": [],
   "source": [
    "# 量化比特数\n",
    "bit_nums = 8\n",
    "# lut表大小\n",
    "lut_size = 2**bit_nums\n",
    "\n",
    "q_min = 0\n",
    "q_max = 2 ** bit_nums - 1\n",
    "r_max=2**(bit_nums-1)-1\n",
    "r_min=-2**(bit_nums-1)\n",
    "\n",
    "in_scale = (r_max-r_min) / (2 ** bit_nums - 1)\n",
    "in_zp = np.clip(np.round(q_max - r_max / in_scale), q_min, q_max)\n",
    "out_scale = 1 / (2 ** bit_nums - 1)\n",
    "out_zp = np.clip(np.round(q_max - 1 / out_scale), q_min, q_max)\n",
    "\n",
    "# 生成 lut 表的采样点\n",
    "q_x = np.round(np.linspace(0, 2 ** bit_nums - 1, lut_size))\n",
    "# 反量化到 [-128, 127]\n",
    "x = (q_x - in_zp) * in_scale\n",
    "# 计算 sigmoid 函数的值\n",
    "y = sigmoid(x)\n",
    "# 函数值量化到 [0, 255]\n",
    "q_y = np.clip(np.round(y / out_scale) + out_zp, q_min, q_max)\n",
    "\n",
    "table_8 = fhe.LookupTable(q_y.astype(np.int32))\n",
    "def q_sigmoid(n_bits: int, inputs:np.ndarray):\n",
    "\n",
    "    @fhe.compiler({\"q_x\": \"encrypted\"})\n",
    "    def q_sigmoid(q_x):\n",
    "        return table_8[q_x]\n",
    "\n",
    "    inputset = [np.random.randint(0, 2 ** n_bits - 1, size=inputs.shape)\n",
    "              for i in range(10000)]\n",
    "    circuit = q_sigmoid.compile(inputset)\n",
    "\n",
    "    return circuit"
   ],
   "metadata": {
    "collapsed": false,
    "ExecuteTime": {
     "start_time": "2023-10-10T11:15:17.471398Z",
     "end_time": "2023-10-10T11:15:17.515855Z"
    }
   }
  },
  {
   "cell_type": "code",
   "execution_count": 53,
   "outputs": [],
   "source": [
    "inputs=np.array([2]).astype(np.float32)\n",
    "circuit=q_sigmoid(8,inputs)"
   ],
   "metadata": {
    "collapsed": false,
    "ExecuteTime": {
     "start_time": "2023-10-10T11:15:20.078759Z",
     "end_time": "2023-10-10T11:15:21.093501Z"
    }
   }
  },
  {
   "cell_type": "code",
   "execution_count": 54,
   "outputs": [
    {
     "name": "stdout",
     "output_type": "stream",
     "text": [
      "keygen_time: 123.89326024055481\n"
     ]
    }
   ],
   "source": [
    "#生成密钥时间\n",
    "start=time.time()\n",
    "circuit.keygen()\n",
    "end=time.time()\n",
    "print(\"keygen_time:\",end-start)"
   ],
   "metadata": {
    "collapsed": false,
    "ExecuteTime": {
     "start_time": "2023-10-10T11:15:24.973386Z",
     "end_time": "2023-10-10T11:17:28.920754Z"
    }
   }
  },
  {
   "cell_type": "code",
   "execution_count": 62,
   "outputs": [
    {
     "name": "stdout",
     "output_type": "stream",
     "text": [
      "[140]\n",
      "encrypt_time: 0.0010941028594970703\n"
     ]
    }
   ],
   "source": [
    "x1=np.array([12])\n",
    "q_x1=(np.round(x1/in_scale)+in_zp).astype(np.int32)\n",
    "print(q_x1)\n",
    "#加密时间\n",
    "start=time.time()\n",
    "enc_q_x1=circuit.encrypt(q_x1)\n",
    "end=time.time()\n",
    "print(\"encrypt_time:\",end-start)"
   ],
   "metadata": {
    "collapsed": false,
    "ExecuteTime": {
     "start_time": "2023-10-10T11:20:39.058824Z",
     "end_time": "2023-10-10T11:20:39.100947Z"
    }
   }
  },
  {
   "cell_type": "code",
   "execution_count": 63,
   "outputs": [
    {
     "name": "stdout",
     "output_type": "stream",
     "text": [
      "run_time: 1.2688989639282227\n"
     ]
    }
   ],
   "source": [
    "#运行时间\n",
    "start=time.time()\n",
    "enc_q_x1=circuit.run(enc_q_x1)\n",
    "end=time.time()\n",
    "print(\"run_time:\",end-start)"
   ],
   "metadata": {
    "collapsed": false,
    "ExecuteTime": {
     "start_time": "2023-10-10T11:20:41.513993Z",
     "end_time": "2023-10-10T11:20:42.783367Z"
    }
   }
  },
  {
   "cell_type": "code",
   "execution_count": 65,
   "outputs": [
    {
     "name": "stdout",
     "output_type": "stream",
     "text": [
      "decrypt_time: 0.0001690387725830078\n",
      "q_result: [255]\n",
      "result: [1.]\n",
      "sigmoid_result: [0.99999386]\n"
     ]
    }
   ],
   "source": [
    "# 解密时间\n",
    "start=time.time()\n",
    "q_result=circuit.decrypt(enc_q_x1)\n",
    "end=time.time()\n",
    "print(\"decrypt_time:\",end-start)\n",
    "print(\"q_result:\",q_result)\n",
    "print(\"result:\",(q_result-out_zp)*out_scale)\n",
    "print(\"sigmoid_result:\",sigmoid(x1))"
   ],
   "metadata": {
    "collapsed": false,
    "ExecuteTime": {
     "start_time": "2023-10-10T11:20:53.579060Z",
     "end_time": "2023-10-10T11:20:53.590081Z"
    }
   }
  },
  {
   "cell_type": "markdown",
   "source": [
    "### 量化比特数为4"
   ],
   "metadata": {
    "collapsed": false
   }
  },
  {
   "cell_type": "code",
   "execution_count": 66,
   "outputs": [],
   "source": [
    "# 量化比特数\n",
    "bit_nums = 4\n",
    "# lut表大小\n",
    "lut_size = 2**bit_nums\n",
    "\n",
    "q_min = 0\n",
    "q_max = 2 ** bit_nums - 1\n",
    "r_max=2**(bit_nums-1)-1\n",
    "r_min=-2**(bit_nums-1)\n",
    "\n",
    "in_scale = (r_max-r_min) / (2 ** bit_nums - 1)\n",
    "in_zp = np.clip(np.round(q_max - r_max / in_scale), q_min, q_max)\n",
    "out_scale = 1 / (2 ** bit_nums - 1)\n",
    "out_zp = np.clip(np.round(q_max - 1 / out_scale), q_min, q_max)\n",
    "\n",
    "# 生成 lut 表的采样点\n",
    "q_x = np.round(np.linspace(0, 2 ** bit_nums - 1, lut_size))\n",
    "# 反量化到 [-128, 127]\n",
    "x = (q_x - in_zp) * in_scale\n",
    "# 计算 sigmoid 函数的值\n",
    "y = sigmoid(x)\n",
    "# 函数值量化到 [0, 255]\n",
    "q_y = np.clip(np.round(y / out_scale) + out_zp, q_min, q_max)\n",
    "\n",
    "table_4 = fhe.LookupTable(q_y.astype(np.int32))\n",
    "def q_sigmoid(n_bits: int, inputs:np.ndarray):\n",
    "\n",
    "    @fhe.compiler({\"q_x\": \"encrypted\"})\n",
    "    def q_sigmoid(q_x):\n",
    "        return table_4[q_x]\n",
    "\n",
    "    inputset = [np.random.randint(0, 2 ** n_bits - 1, size=inputs.shape)\n",
    "              for i in range(10000)]\n",
    "    circuit = q_sigmoid.compile(inputset)\n",
    "\n",
    "    return circuit"
   ],
   "metadata": {
    "collapsed": false,
    "ExecuteTime": {
     "start_time": "2023-10-10T11:22:28.126302Z",
     "end_time": "2023-10-10T11:22:28.167468Z"
    }
   }
  },
  {
   "cell_type": "code",
   "execution_count": 72,
   "outputs": [],
   "source": [
    "inputs=np.array([2]).astype(np.float32)\n",
    "circuit=q_sigmoid(4,inputs)"
   ],
   "metadata": {
    "collapsed": false,
    "ExecuteTime": {
     "start_time": "2023-10-10T11:34:03.297845Z",
     "end_time": "2023-10-10T11:34:04.456959Z"
    }
   }
  },
  {
   "cell_type": "code",
   "execution_count": 73,
   "outputs": [
    {
     "name": "stdout",
     "output_type": "stream",
     "text": [
      "keygen_time: 1.565321445465088\n"
     ]
    }
   ],
   "source": [
    "#生成密钥时间\n",
    "start=time.time()\n",
    "circuit.keygen()\n",
    "end=time.time()\n",
    "print(\"keygen_time:\",end-start)"
   ],
   "metadata": {
    "collapsed": false,
    "ExecuteTime": {
     "start_time": "2023-10-10T11:34:12.593969Z",
     "end_time": "2023-10-10T11:34:12.616058Z"
    }
   }
  },
  {
   "cell_type": "code",
   "execution_count": 77,
   "outputs": [
    {
     "name": "stdout",
     "output_type": "stream",
     "text": [
      "[10]\n",
      "encrypt_time: 0.0005156993865966797\n"
     ]
    }
   ],
   "source": [
    "x1=np.array([2])\n",
    "q_x1=(np.round(x1/in_scale)+in_zp).astype(np.int32)\n",
    "print(q_x1)\n",
    "#加密时间\n",
    "start=time.time()\n",
    "enc_q_x1=circuit.encrypt(q_x1)\n",
    "end=time.time()\n",
    "print(\"encrypt_time:\",end-start)"
   ],
   "metadata": {
    "collapsed": false,
    "ExecuteTime": {
     "start_time": "2023-10-10T11:36:19.849356Z",
     "end_time": "2023-10-10T11:36:19.862383Z"
    }
   }
  },
  {
   "cell_type": "code",
   "execution_count": 78,
   "outputs": [
    {
     "name": "stdout",
     "output_type": "stream",
     "text": [
      "run_time: 0.1835041046142578\n"
     ]
    }
   ],
   "source": [
    "#运行时间\n",
    "start = time.time()\n",
    "enc_q_x1 = circuit.run(enc_q_x1)\n",
    "end = time.time()\n",
    "print(\"run_time:\", end - start)"
   ],
   "metadata": {
    "collapsed": false,
    "ExecuteTime": {
     "start_time": "2023-10-10T11:36:25.939639Z",
     "end_time": "2023-10-10T11:36:26.123124Z"
    }
   }
  },
  {
   "cell_type": "code",
   "execution_count": 80,
   "outputs": [
    {
     "name": "stdout",
     "output_type": "stream",
     "text": [
      "decrypt_time: 0.00016617774963378906\n",
      "q_result: [13]\n",
      "result: [0.86666667]\n",
      "sigmoid_result: 0.8807970779778823\n"
     ]
    }
   ],
   "source": [
    "# 解密时间\n",
    "start=time.time()\n",
    "q_result=circuit.decrypt(enc_q_x1)\n",
    "end=time.time()\n",
    "print(\"decrypt_time:\",end-start)\n",
    "print(\"q_result:\",q_result)\n",
    "print(\"result:\",(q_result-out_zp)*out_scale)\n",
    "print(\"sigmoid_result:\",sigmoid(2))"
   ],
   "metadata": {
    "collapsed": false,
    "ExecuteTime": {
     "start_time": "2023-10-10T11:36:43.520248Z",
     "end_time": "2023-10-10T11:36:43.564363Z"
    }
   }
  },
  {
   "cell_type": "markdown",
   "source": [
    "## PTQSigmoid"
   ],
   "metadata": {
    "collapsed": false
   }
  },
  {
   "cell_type": "code",
   "execution_count": 81,
   "outputs": [],
   "source": [
    "import time\n",
    "\n",
    "import torch\n",
    "import torch.nn as nn\n",
    "from concrete.ml.torch.compile import compile_torch_model\n",
    "\n",
    "\n",
    "class net(nn.Module):\n",
    "    def __init__(self):\n",
    "        super().__init__()\n",
    "        self.sigmoid = nn.Sigmoid()\n",
    "\n",
    "    def forward(self, x):\n",
    "        x = self.sigmoid(x)\n",
    "        return x\n",
    "\n",
    "\n",
    "input = torch.randn(10, 1)\n",
    "model = net()\n",
    "\n",
    "\n",
    "def testSigmoidPTQ(n_bits):\n",
    "    # 模型编译时间\n",
    "    start_time = time.time()\n",
    "    quantized_module = compile_torch_model(\n",
    "        model,  # our model\n",
    "        input,  # a representative input-set to be used for both quantization and compilation\n",
    "        n_bits=n_bits,\n",
    "    )\n",
    "    end_time = time.time()\n",
    "    print(\"编译时间\", end_time - start_time)\n",
    "    print(\"量化位数：\", n_bits, \"最大量化位数\", quantized_module.fhe_circuit.graph.maximum_integer_bit_width())\n",
    "\n",
    "    return quantized_module\n",
    "\n"
   ],
   "metadata": {
    "collapsed": false,
    "ExecuteTime": {
     "start_time": "2023-10-10T11:40:17.677402Z",
     "end_time": "2023-10-10T11:40:18.805140Z"
    }
   }
  },
  {
   "cell_type": "code",
   "execution_count": 82,
   "outputs": [
    {
     "name": "stdout",
     "output_type": "stream",
     "text": [
      "编译时间 0.23333096504211426\n",
      "量化位数： 8 最大量化位数 8\n"
     ]
    }
   ],
   "source": [
    "quantized_module=testSigmoidPTQ(8)"
   ],
   "metadata": {
    "collapsed": false,
    "ExecuteTime": {
     "start_time": "2023-10-10T11:40:22.593335Z",
     "end_time": "2023-10-10T11:40:22.832244Z"
    }
   }
  },
  {
   "cell_type": "code",
   "execution_count": 84,
   "outputs": [
    {
     "name": "stdout",
     "output_type": "stream",
     "text": [
      "推理时间 1.6794917583465576\n",
      "输入值： [[-1.1643094]] 输出值: [[0.23658166]]\n",
      "**************************************************\n"
     ]
    }
   ],
   "source": [
    "x_test = torch.randn(1, 1).numpy()\n",
    "# 推理时间\n",
    "start_time = time.time()\n",
    "y_pred = quantized_module.forward(x_test, fhe=\"execute\")\n",
    "end_time = time.time()\n",
    "print(\"推理时间\", end_time - start_time)\n",
    "print(\"输入值：\", x_test, \"输出值:\", y_pred)\n",
    "print(\"*\" * 50)\n",
    "#推理时间 11.45483922958374\n",
    "# 输入值： [[1.4710562]] 输出值: [[0.71551525]]"
   ],
   "metadata": {
    "collapsed": false,
    "ExecuteTime": {
     "start_time": "2023-10-10T11:53:42.808341Z",
     "end_time": "2023-10-10T11:53:44.487196Z"
    }
   }
  },
  {
   "cell_type": "code",
   "execution_count": 85,
   "outputs": [
    {
     "name": "stdout",
     "output_type": "stream",
     "text": [
      "编译时间 0.10292196273803711\n",
      "量化位数： 4 最大量化位数 5\n"
     ]
    }
   ],
   "source": [
    "quantized_module=testSigmoidPTQ(4)"
   ],
   "metadata": {
    "collapsed": false,
    "ExecuteTime": {
     "start_time": "2023-10-10T11:53:48.498092Z",
     "end_time": "2023-10-10T11:53:48.633475Z"
    }
   }
  },
  {
   "cell_type": "code",
   "execution_count": 87,
   "outputs": [
    {
     "name": "stdout",
     "output_type": "stream",
     "text": [
      "推理时间 0.1715831756591797\n",
      "输入值： [[-1.3038222]] 输出值: [[0.22150446]]\n",
      "**************************************************\n"
     ]
    }
   ],
   "source": [
    "x_test = torch.randn(1, 1).numpy()\n",
    "# 推理时间\n",
    "start_time = time.time()\n",
    "y_pred = quantized_module.forward(x_test, fhe=\"execute\")\n",
    "end_time = time.time()\n",
    "print(\"推理时间\", end_time - start_time)\n",
    "print(\"输入值：\", x_test, \"输出值:\", y_pred)\n",
    "print(\"*\" * 50)\n",
    "# 推理时间 6.931081771850586\n",
    "# 输入值： [[-2.08333]] 输出值: [[0.22150446]]\n",
    "# **************************************************"
   ],
   "metadata": {
    "collapsed": false,
    "ExecuteTime": {
     "start_time": "2023-10-10T11:56:13.820371Z",
     "end_time": "2023-10-10T11:56:13.995859Z"
    }
   }
  },
  {
   "cell_type": "code",
   "execution_count": 88,
   "outputs": [
    {
     "name": "stdout",
     "output_type": "stream",
     "text": [
      "编译时间 0.08968544006347656\n",
      "量化位数： 2 最大量化位数 5\n"
     ]
    }
   ],
   "source": [
    "quantized_module=testSigmoidPTQ(2)"
   ],
   "metadata": {
    "collapsed": false,
    "ExecuteTime": {
     "start_time": "2023-10-10T11:58:08.970355Z",
     "end_time": "2023-10-10T11:58:09.075653Z"
    }
   }
  },
  {
   "cell_type": "code",
   "execution_count": 90,
   "outputs": [
    {
     "name": "stdout",
     "output_type": "stream",
     "text": [
      "推理时间 0.16655898094177246\n",
      "输入值： [[-0.4201897]] 输出值: [[0.39554368]]\n",
      "**************************************************\n"
     ]
    }
   ],
   "source": [
    "x_test = torch.randn(1, 1).numpy()\n",
    "# 推理时间\n",
    "start_time = time.time()\n",
    "y_pred = quantized_module.forward(x_test, fhe=\"execute\")\n",
    "end_time = time.time()\n",
    "print(\"推理时间\", end_time - start_time)\n",
    "print(\"输入值：\", x_test, \"输出值:\", y_pred)\n",
    "print(\"*\" * 50)\n",
    "# 推理时间 6.468837022781372\n",
    "# 输入值： [[0.6526345]] 输出值: [[0.64869164]]\n",
    "# **************************************************"
   ],
   "metadata": {
    "collapsed": false,
    "ExecuteTime": {
     "start_time": "2023-10-10T11:58:54.703371Z",
     "end_time": "2023-10-10T11:58:54.884106Z"
    }
   }
  },
  {
   "cell_type": "code",
   "execution_count": 91,
   "outputs": [
    {
     "name": "stdout",
     "output_type": "stream",
     "text": [
      "编译时间 25.62351155281067\n",
      "量化位数： 16 最大量化位数 16\n"
     ]
    }
   ],
   "source": [
    "quantized_module=testSigmoidPTQ(16)"
   ],
   "metadata": {
    "collapsed": false,
    "ExecuteTime": {
     "start_time": "2023-10-10T11:58:58.303775Z",
     "end_time": "2023-10-10T11:59:24.007640Z"
    }
   }
  },
  {
   "cell_type": "code",
   "execution_count": 93,
   "outputs": [
    {
     "name": "stdout",
     "output_type": "stream",
     "text": [
      "推理时间 3.400249719619751\n",
      "输入值： [[-1.6689055]] 输出值: [[0.22551259]]\n",
      "**************************************************\n"
     ]
    }
   ],
   "source": [
    "x_test = torch.randn(1, 1).numpy()\n",
    "# 推理时间\n",
    "start_time = time.time()\n",
    "y_pred = quantized_module.forward(x_test, fhe=\"execute\")\n",
    "end_time = time.time()\n",
    "print(\"推理时间\", end_time - start_time)\n",
    "print(\"输入值：\", x_test, \"输出值:\", y_pred)\n",
    "print(\"*\" * 50)\n",
    "# 推理时间 17.66500973701477\n",
    "# 输入值： [[1.2665664]] 输出值: [[0.71598675]]\n",
    "# **************************************************\n"
   ],
   "metadata": {
    "collapsed": false,
    "ExecuteTime": {
     "start_time": "2023-10-10T12:00:37.042175Z",
     "end_time": "2023-10-10T12:00:40.449230Z"
    }
   }
  },
  {
   "cell_type": "code",
   "execution_count": null,
   "outputs": [],
   "source": [],
   "metadata": {
    "collapsed": false,
    "ExecuteTime": {
     "start_time": "2023-10-10T09:39:22.333830Z",
     "end_time": "2023-10-10T09:39:22.335839Z"
    }
   }
  }
 ],
 "metadata": {
  "kernelspec": {
   "display_name": "Python 3",
   "language": "python",
   "name": "python3"
  },
  "language_info": {
   "codemirror_mode": {
    "name": "ipython",
    "version": 2
   },
   "file_extension": ".py",
   "mimetype": "text/x-python",
   "name": "python",
   "nbconvert_exporter": "python",
   "pygments_lexer": "ipython2",
   "version": "2.7.6"
  }
 },
 "nbformat": 4,
 "nbformat_minor": 0
}
