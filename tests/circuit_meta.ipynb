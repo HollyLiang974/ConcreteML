{
 "cells": [
  {
   "cell_type": "markdown",
   "source": [
    "# 单例模式创建电路"
   ],
   "metadata": {
    "collapsed": false
   }
  },
  {
   "cell_type": "markdown",
   "source": [
    "## 测试单例模式"
   ],
   "metadata": {
    "collapsed": false
   }
  },
  {
   "cell_type": "code",
   "execution_count": 19,
   "outputs": [
    {
     "name": "stdout",
     "output_type": "stream",
     "text": [
      "True\n"
     ]
    }
   ],
   "source": [
    "import numpy as np\n",
    "from concrete import fhe\n",
    "\n",
    "class q_mul_meta(type):\n",
    "    _instances = {}\n",
    "\n",
    "    def __call__(cls, *args, **kwargs):\n",
    "        if cls not in cls._instances:\n",
    "            cls._instances[cls] = super(q_mul_meta, cls).__call__( *args, **kwargs)\n",
    "        return cls._instances[cls]\n",
    "@fhe.compiler({\"q_inputs_0\": \"encrypted\", \"q_inputs_1\": \"encrypted\"})\n",
    "def compile_circuit(q_inputs_0, q_inputs_1):\n",
    "    return q_inputs_0 * q_inputs_1\n",
    "\n",
    "class q_mul(metaclass=q_mul_meta):\n",
    "\n",
    "    def __init__(self, input_0: np.ndarray, input_1: np.ndarray):\n",
    "        self.input_0 = input_0\n",
    "        self.input_1 = input_1\n",
    "        self.circuit = None\n",
    "\n",
    "    def build_circuit(self):\n",
    "        inputset = [(np.random.randint(-128, 128, size=self.input_0.size), np.random.randint(-128, 128, size=self.input_1.size)) for i in range(10000)]\n",
    "        self.circuit = compile_circuit.compile(inputset)\n",
    "\n",
    "circuit1 = q_mul(np.random.randint(-128, 128, size=100), np.random.randint(-128, 128, size=100))\n",
    "circuit2 = q_mul(np.random.randint(-128, 128, size=100), np.random.randint(-128, 128, size=100))\n",
    "\n",
    "print(circuit1 is circuit2)"
   ],
   "metadata": {
    "collapsed": false,
    "ExecuteTime": {
     "start_time": "2023-10-14T21:51:16.122796Z",
     "end_time": "2023-10-14T21:51:16.167918Z"
    }
   }
  }
 ],
 "metadata": {
  "kernelspec": {
   "display_name": "Python 3",
   "language": "python",
   "name": "python3"
  },
  "language_info": {
   "codemirror_mode": {
    "name": "ipython",
    "version": 2
   },
   "file_extension": ".py",
   "mimetype": "text/x-python",
   "name": "python",
   "nbconvert_exporter": "python",
   "pygments_lexer": "ipython2",
   "version": "2.7.6"
  }
 },
 "nbformat": 4,
 "nbformat_minor": 0
}
