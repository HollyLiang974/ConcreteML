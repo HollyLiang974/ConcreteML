{
 "cells": [
  {
   "cell_type": "markdown",
   "source": [
    "## 二进制乘法"
   ],
   "metadata": {
    "collapsed": false
   }
  },
  {
   "cell_type": "code",
   "execution_count": 1,
   "outputs": [
    {
     "name": "stdout",
     "output_type": "stream",
     "text": [
      "[0 0 0 1 0 0 1 1]\n",
      "[0 1 1 1 1 0 1 1]\n"
     ]
    }
   ],
   "source": [
    "import numpy as np\n",
    "\n",
    "input1 = 200\n",
    "input2 = 222\n",
    "\n",
    "binary_input1 = np.unpackbits(np.array([input1], dtype=np.uint8))\n",
    "binary_input2 = np.unpackbits(np.array([input2], dtype=np.uint8))\n",
    "\n",
    "binary_input1=binary_input1[::-1]\n",
    "binary_input2=binary_input2[::-1]\n",
    "\n",
    "print(binary_input1)\n",
    "print(binary_input2)\n"
   ],
   "metadata": {
    "collapsed": false
   }
  },
  {
   "cell_type": "code",
   "execution_count": 2,
   "outputs": [
    {
     "name": "stdout",
     "output_type": "stream",
     "text": [
      "[[0 0 0 0 0 0 0 0 0 0 0 0 0 0 0 0]\n",
      " [0 0 0 0 0 0 0 0 0 0 0 0 0 0 0 0]\n",
      " [0 0 0 0 0 0 0 0 0 0 0 0 0 0 0 0]\n",
      " [0 0 0 0 0 0 0 0 0 0 0 0 0 0 0 0]\n",
      " [0 0 0 0 0 0 0 0 0 0 0 0 0 0 0 0]\n",
      " [0 0 0 0 0 0 0 0 0 0 0 0 0 0 0 0]\n",
      " [0 0 0 0 0 0 0 0 0 0 0 0 0 0 0 0]\n",
      " [0 0 0 0 0 0 0 0 0 0 0 0 0 0 0 0]]\n"
     ]
    }
   ],
   "source": [
    "# 创建一个n*2n的矩阵\n",
    "n = 8\n",
    "matrix = np.zeros((n, 2*n), dtype=np.uint8)\n",
    "print(matrix)"
   ],
   "metadata": {
    "collapsed": false,
    "ExecuteTime": {
     "start_time": "2023-11-17T14:39:51.779788Z",
     "end_time": "2023-11-17T14:39:51.785804Z"
    }
   }
  },
  {
   "cell_type": "code",
   "execution_count": 3,
   "outputs": [
    {
     "name": "stdout",
     "output_type": "stream",
     "text": [
      "[[0 0 0 0 0 0 0 0 0 0 0 0 0 0 0 0]\n",
      " [0 0 0 0 1 0 0 1 1 0 0 0 0 0 0 0]\n",
      " [0 0 0 0 0 1 0 0 1 1 0 0 0 0 0 0]\n",
      " [0 0 0 0 0 0 1 0 0 1 1 0 0 0 0 0]\n",
      " [0 0 0 0 0 0 0 1 0 0 1 1 0 0 0 0]\n",
      " [0 0 0 0 0 0 0 0 0 0 0 0 0 0 0 0]\n",
      " [0 0 0 0 0 0 0 0 0 1 0 0 1 1 0 0]\n",
      " [0 0 0 0 0 0 0 0 0 0 1 0 0 1 1 0]]\n"
     ]
    }
   ],
   "source": [
    "#计算乘法\n",
    "for i in range(n):\n",
    "    for j in range(n):\n",
    "        matrix[i,i+j] = binary_input1[j] & binary_input2[i]\n",
    "print(matrix)"
   ],
   "metadata": {
    "collapsed": false,
    "ExecuteTime": {
     "start_time": "2023-11-17T14:39:51.786833Z",
     "end_time": "2023-11-17T14:39:51.865594Z"
    }
   }
  },
  {
   "cell_type": "code",
   "execution_count": 4,
   "outputs": [
    {
     "name": "stdout",
     "output_type": "stream",
     "text": [
      "[1, 0, 1, 0, 1, 1, 0, 1, 0, 1, 1, 1, 0, 0, 0, 0]\n"
     ]
    }
   ],
   "source": [
    "#reduce_add\n",
    "def reduce_add(a, b, size):\n",
    "    sum = [0] * size\n",
    "    sum[0]=np.bitwise_xor(a[0],b[0])\n",
    "    carry = np.bitwise_and(a[0],b[0])\n",
    "    for i in range(1,size):\n",
    "       tmp_s=np.bitwise_xor(a[i],b[i])\n",
    "       tmp_c=np.bitwise_and(a[i],b[i])\n",
    "       sum[i]=np.bitwise_xor(tmp_s,carry)\n",
    "       carry=np.bitwise_or(np.bitwise_and(tmp_s,carry),tmp_c)\n",
    "    return sum\n",
    "\n",
    "result=[0]*2*n\n",
    "for i in range(n):\n",
    "    result=reduce_add(result,matrix[i],2*n)\n",
    "\n",
    "result=result[::-1]\n",
    "print(result)"
   ],
   "metadata": {
    "collapsed": false,
    "ExecuteTime": {
     "start_time": "2023-11-17T14:39:51.818444Z",
     "end_time": "2023-11-17T14:39:51.922748Z"
    }
   }
  },
  {
   "cell_type": "markdown",
   "source": [
    "## 编译成concrete电路"
   ],
   "metadata": {
    "collapsed": false
   }
  },
  {
   "cell_type": "code",
   "execution_count": 21,
   "outputs": [
    {
     "name": "stdout",
     "output_type": "stream",
     "text": [
      "密钥生成时间： 0.6922135353088379\n",
      "加密时间： 0.6933736801147461\n",
      "计算时间： 8.589805841445923\n",
      "解密时间： 0.00011444091796875\n",
      "[1 0 1 0 1 1 0 1 0 1 1 1 0 0 0 0]\n"
     ]
    }
   ],
   "source": [
    "from concrete import fhe\n",
    "@fhe.circuit({\"binary_input1\": \"encrypted\",\"binary_input2\": \"encrypted\"})\n",
    "def circuit2(binary_input1: fhe.tensor[fhe.uint2, 8, ],binary_input2: fhe.tensor[fhe.uint2, 8, ]):\n",
    "    n = 8\n",
    "    matrix =fhe.zeros((n, 2*n))\n",
    "    result=[0]*2*n\n",
    "    for i in range(n):\n",
    "        for j in range(n):\n",
    "            matrix[i,i+j] = np.bitwise_and(binary_input1[j],binary_input2[i])\n",
    "    for i in range(n):\n",
    "        result=reduce_add(result,matrix[i],2*n)\n",
    "    return fhe.array(result)\n",
    "import time\n",
    "start=time.time()\n",
    "circuit2.keygen()\n",
    "end=time.time()\n",
    "print(\"密钥生成时间：\",end-start)\n",
    "enc=circuit2.encrypt(binary_input1,binary_input2)\n",
    "end=time.time()\n",
    "print(\"加密时间：\",end-start)\n",
    "start=time.time()\n",
    "res_enc=circuit2.run(enc)\n",
    "end=time.time()\n",
    "print(\"计算时间：\",end-start)\n",
    "start=time.time()\n",
    "result=circuit2.decrypt(res_enc)\n",
    "end=time.time()\n",
    "print(\"解密时间：\",end-start)\n",
    "result=result[::-1]\n",
    "print(result)\n"
   ],
   "metadata": {
    "collapsed": false,
    "ExecuteTime": {
     "start_time": "2023-11-17T15:21:13.285487Z",
     "end_time": "2023-11-17T15:21:30.720302Z"
    }
   }
  },
  {
   "cell_type": "code",
   "execution_count": 22,
   "outputs": [
    {
     "name": "stdout",
     "output_type": "stream",
     "text": [
      "密钥生成时间： 0.6841239929199219\n",
      "加密时间： 0.6849334239959717\n",
      "计算时间： 5.951915264129639\n",
      "解密时间： 0.00011920928955078125\n",
      "[1 0 1 0 1 1 0 1 0 1 1 1 0 0 0 0]\n"
     ]
    }
   ],
   "source": [
    "from concrete import fhe\n",
    "@fhe.circuit({\"binary_input1\": \"encrypted\"})\n",
    "def circuit2(binary_input1: fhe.tensor[fhe.uint2, 8, ]):\n",
    "    n = 8\n",
    "    matrix =fhe.zeros((n, 2*n))\n",
    "    result=[0]*2*n\n",
    "    for i in range(n):\n",
    "        for j in range(n):\n",
    "            matrix[i,i+j] = np.bitwise_and(binary_input1[j],binary_input2[i])\n",
    "    for i in range(n):\n",
    "        result=reduce_add(result,matrix[i],2*n)\n",
    "    return fhe.array(result)\n",
    "import time\n",
    "start=time.time()\n",
    "circuit2.keygen()\n",
    "end=time.time()\n",
    "print(\"密钥生成时间：\",end-start)\n",
    "enc=circuit2.encrypt(binary_input1)\n",
    "end=time.time()\n",
    "print(\"加密时间：\",end-start)\n",
    "start=time.time()\n",
    "res_enc=circuit2.run(enc)\n",
    "end=time.time()\n",
    "print(\"计算时间：\",end-start)\n",
    "start=time.time()\n",
    "result=circuit2.decrypt(res_enc)\n",
    "end=time.time()\n",
    "print(\"解密时间：\",end-start)\n",
    "result=result[::-1]\n",
    "print(result)"
   ],
   "metadata": {
    "collapsed": false,
    "ExecuteTime": {
     "start_time": "2023-11-17T15:22:36.516681Z",
     "end_time": "2023-11-17T15:22:49.622661Z"
    }
   }
  },
  {
   "cell_type": "markdown",
   "source": [
    "## 将整数转换为二进制数组"
   ],
   "metadata": {
    "collapsed": false
   }
  },
  {
   "cell_type": "code",
   "execution_count": 2,
   "outputs": [
    {
     "name": "stdout",
     "output_type": "stream",
     "text": [
      "[1, 0, 1, 0, 0, 1, 0, 1]\n"
     ]
    }
   ],
   "source": [
    "def extract_bits_with_shift(num: int) -> list:\n",
    "  \"\"\"\n",
    "  使用移位提取数字的二进制位，并存储到一个数组中。\n",
    "\n",
    "  Args:\n",
    "    num: 要提取二进制位的数字。\n",
    "\n",
    "  Returns:\n",
    "    二进制位数组。\n",
    "  \"\"\"\n",
    "\n",
    "  bits = []\n",
    "  for i in range(num.bit_length()):\n",
    "    bits.append(num >> i & 1)\n",
    "\n",
    "  return bits\n",
    "\n",
    "\n",
    "if __name__ == \"__main__\":\n",
    "  num = 165\n",
    "  bits = extract_bits_with_shift(num)\n",
    "  print(bits)"
   ],
   "metadata": {
    "collapsed": false,
    "ExecuteTime": {
     "start_time": "2023-11-17T15:36:23.460878Z",
     "end_time": "2023-11-17T15:36:23.469920Z"
    }
   }
  },
  {
   "cell_type": "markdown",
   "source": [
    "## 将二进制数组转换为整数"
   ],
   "metadata": {
    "collapsed": false
   }
  },
  {
   "cell_type": "code",
   "execution_count": 3,
   "outputs": [
    {
     "name": "stdout",
     "output_type": "stream",
     "text": [
      "165\n"
     ]
    }
   ],
   "source": [
    "def binary_to_decimal(binary: list) -> int:\n",
    "  \"\"\"\n",
    "  将二进制数组转换为十进制。\n",
    "\n",
    "  Args:\n",
    "    binary: 二进制数组。\n",
    "\n",
    "  Returns:\n",
    "    十进制数。\n",
    "  \"\"\"\n",
    "\n",
    "  length = len(binary)\n",
    "  decimal = 0\n",
    "  for i in range(length):\n",
    "    decimal |= binary[i] << i\n",
    "  return decimal\n",
    "\n",
    "\n",
    "if __name__ == \"__main__\":\n",
    "  binary = [1, 0, 1, 0, 0, 1, 0, 1]\n",
    "  decimal = binary_to_decimal(binary)\n",
    "  print(decimal)"
   ],
   "metadata": {
    "collapsed": false,
    "ExecuteTime": {
     "start_time": "2023-11-17T15:36:40.051812Z",
     "end_time": "2023-11-17T15:36:40.096131Z"
    }
   }
  },
  {
   "cell_type": "markdown",
   "source": [
    "## 浮点数与定点数转换"
   ],
   "metadata": {
    "collapsed": false
   }
  },
  {
   "cell_type": "code",
   "execution_count": 7,
   "outputs": [],
   "source": [
    "#浮点数转定点数\n",
    "import math\n",
    "\n",
    "def float_to_fixed(flt: float, maxbits: int, factor: int, clip: bool = True) -> int:\n",
    "  \"\"\"\n",
    "  将浮点数转换为定点数。\n",
    "\n",
    "  Args:\n",
    "    flt: 要转换的浮点数。\n",
    "    maxbits: 定点数的最大位数。\n",
    "    factor: 定点数的因子。\n",
    "    clip: 是否裁剪定点数的值。如果 `clip` 为 `true`，则定点数的值将被限制在 `min` 和 `max` 之间。\n",
    "\n",
    "  Returns:\n",
    "    定点数的值。\n",
    "  \"\"\"\n",
    "\n",
    "  max = math.pow(2, maxbits - 1) - 1\n",
    "  min = -max\n",
    "  fixed = flt * factor\n",
    "\n",
    "  if clip:\n",
    "    if fixed > max:\n",
    "      fixed = max\n",
    "    elif fixed < min:\n",
    "      fixed = min\n",
    "\n",
    "  return int(fixed)\n",
    "\n",
    "def fixed_to_float(fixed: int, factor: int) -> float:\n",
    "  \"\"\"\n",
    "  将定点数转换为浮点数。\n",
    "\n",
    "  Args:\n",
    "    fixed: 要转换的定点数。\n",
    "    factor: 定点数的因子。\n",
    "\n",
    "  Returns:\n",
    "    浮点数的值。\n",
    "  \"\"\"\n",
    "\n",
    "  return fixed / factor\n",
    "\n",
    "def float_to_fixed_vector(flt: list[float], maxbits: int, factor: int, clip: bool = True) -> list[int]:\n",
    "  \"\"\"\n",
    "  将浮点数数组转换为定点数数组。\n",
    "\n",
    "  Args:\n",
    "    flt: 要转换的浮点数数组。\n",
    "    maxbits: 定点数的最大位数。\n",
    "    factor: 定点数的因子。\n",
    "    clip: 是否裁剪定点数的值。如果 `clip` 为 `true`，则定点数的值将被限制在 `min` 和 `max` 之间。\n",
    "\n",
    "  Returns:\n",
    "    定点数数组。\n",
    "  \"\"\"\n",
    "\n",
    "  fixed_vector = []\n",
    "  for f in flt:\n",
    "    fixed_vector.append(float_to_fixed(f, maxbits, factor, clip))\n",
    "\n",
    "  return fixed_vector\n",
    "\n",
    "def fixed_to_float_vector(fixed: list[int], factor: int) -> list[float]:\n",
    "  \"\"\"\n",
    "  将定点数数组转换为浮点数数组。\n",
    "\n",
    "  Args:\n",
    "    fixed: 要转换的定点数数组。\n",
    "    factor: 定点数的因子。\n",
    "\n",
    "  Returns:\n",
    "    浮点数数组。\n",
    "  \"\"\"\n",
    "\n",
    "  flt_vector = []\n",
    "  for f in fixed:\n",
    "    flt_vector.append(fixed_to_float(f, factor))\n",
    "\n",
    "  return flt_vector\n"
   ],
   "metadata": {
    "collapsed": false,
    "ExecuteTime": {
     "start_time": "2023-11-17T15:39:03.683880Z",
     "end_time": "2023-11-17T15:39:03.728943Z"
    }
   }
  },
  {
   "cell_type": "code",
   "execution_count": 9,
   "outputs": [
    {
     "name": "stdout",
     "output_type": "stream",
     "text": [
      "127\n",
      "12.7\n",
      "[127, 127]\n",
      "[12.7, 12.7]\n"
     ]
    }
   ],
   "source": [
    "# 将浮点数转换为定点数\n",
    "flt = 123.456\n",
    "maxbits = 8\n",
    "factor = 10\n",
    "\n",
    "fixed = float_to_fixed(flt, maxbits, factor)\n",
    "print(fixed)\n",
    "# 将定点数转换为浮点数\n",
    "flt = fixed_to_float(fixed, factor)\n",
    "print(flt)\n",
    "# 将浮点数数组转换为定点数数组\n",
    "flt_vector = [123.456, 789.012]\n",
    "\n",
    "fixed_vector = float_to_fixed_vector(flt_vector, maxbits, factor)\n",
    "print(fixed_vector)\n",
    "# 将定点数数组转换为浮点数数组\n",
    "flt_vector = fixed_to_float_vector(fixed_vector, factor)\n",
    "print(flt_vector)"
   ],
   "metadata": {
    "collapsed": false,
    "ExecuteTime": {
     "start_time": "2023-11-17T15:41:36.950247Z",
     "end_time": "2023-11-17T15:41:37.015594Z"
    }
   }
  },
  {
   "cell_type": "markdown",
   "source": [],
   "metadata": {
    "collapsed": false
   }
  }
 ],
 "metadata": {
  "kernelspec": {
   "display_name": "Python 3",
   "language": "python",
   "name": "python3"
  },
  "language_info": {
   "codemirror_mode": {
    "name": "ipython",
    "version": 2
   },
   "file_extension": ".py",
   "mimetype": "text/x-python",
   "name": "python",
   "nbconvert_exporter": "python",
   "pygments_lexer": "ipython2",
   "version": "2.7.6"
  }
 },
 "nbformat": 4,
 "nbformat_minor": 0
}
