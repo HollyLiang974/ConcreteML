{
 "cells": [
  {
   "cell_type": "markdown",
   "source": [
    "## 测试线性函数"
   ],
   "metadata": {
    "collapsed": false
   }
  },
  {
   "cell_type": "code",
   "execution_count": 2,
   "outputs": [],
   "source": [
    "import time\n",
    "\n",
    "import torch\n",
    "import torch.nn as nn\n",
    "from concrete.ml.torch.compile import compile_torch_model\n",
    "\n",
    "\n",
    "class net(nn.Module):\n",
    "    def __init__(self):\n",
    "        super().__init__()\n",
    "        self.linear=nn.Linear(2,1)\n",
    "\n",
    "    def forward(self, x):\n",
    "        x = self.linear(x)\n",
    "        return x\n",
    "\n",
    "\n",
    "input = torch.randn(10, 2)\n",
    "model = net()\n",
    "\n",
    "\n",
    "def testLinearPTQ(n_bits):\n",
    "    # 模型编译时间\n",
    "    start_time = time.time()\n",
    "    quantized_module = compile_torch_model(\n",
    "        model,  # our model\n",
    "        input,  # a representative input-set to be used for both quantization and compilation\n",
    "        n_bits=n_bits,\n",
    "    )\n",
    "    end_time = time.time()\n",
    "    print(\"编译时间\", end_time - start_time)\n",
    "    print(\"量化位数：\", n_bits, \"最大量化位数\", quantized_module.fhe_circuit.graph.maximum_integer_bit_width())\n",
    "    return quantized_module\n"
   ],
   "metadata": {
    "collapsed": false,
    "ExecuteTime": {
     "start_time": "2023-10-09T21:07:32.362776Z",
     "end_time": "2023-10-09T21:07:32.403358Z"
    }
   }
  },
  {
   "cell_type": "code",
   "execution_count": 3,
   "outputs": [
    {
     "name": "stdout",
     "output_type": "stream",
     "text": [
      "编译时间 2.291680335998535\n",
      "量化位数： 2 最大量化位数 4\n"
     ]
    }
   ],
   "source": [
    "quantized_module=testLinearPTQ(2)"
   ],
   "metadata": {
    "collapsed": false,
    "ExecuteTime": {
     "start_time": "2023-10-09T21:07:33.614885Z",
     "end_time": "2023-10-09T21:07:35.910917Z"
    }
   }
  },
  {
   "cell_type": "code",
   "execution_count": 8,
   "outputs": [
    {
     "name": "stdout",
     "output_type": "stream",
     "text": [
      "推理时间 0.0014700889587402344\n",
      "输入值： [[ 0.6295729  -0.45202574]] 输出值: [[0.5585148]]\n",
      "**************************************************\n"
     ]
    }
   ],
   "source": [
    "x_test = torch.randn(1, 2).numpy()\n",
    "start_time = time.time()\n",
    "y_pred = quantized_module.forward(x_test, fhe=\"execute\")\n",
    "end_time = time.time()\n",
    "print(\"推理时间\", end_time - start_time)\n",
    "print(\"输入值：\", x_test, \"输出值:\", y_pred)\n",
    "print(\"*\" * 50)"
   ],
   "metadata": {
    "collapsed": false,
    "ExecuteTime": {
     "start_time": "2023-10-09T21:07:49.104025Z",
     "end_time": "2023-10-09T21:07:49.148381Z"
    }
   }
  },
  {
   "cell_type": "code",
   "execution_count": null,
   "outputs": [],
   "source": [
    "quantized_module=testLinearPTQ(4)"
   ],
   "metadata": {
    "collapsed": false
   }
  },
  {
   "cell_type": "code",
   "execution_count": 11,
   "outputs": [
    {
     "name": "stdout",
     "output_type": "stream",
     "text": [
      "推理时间 0.0017387866973876953\n",
      "输入值： [[ 1.1110474  -0.68203074]] 输出值: [[-0.28984889]]\n",
      "**************************************************\n"
     ]
    }
   ],
   "source": [
    "x_test = torch.randn(1, 2).numpy()\n",
    "start_time = time.time()\n",
    "y_pred = quantized_module.forward(x_test, fhe=\"execute\")\n",
    "end_time = time.time()\n",
    "print(\"推理时间\", end_time - start_time)\n",
    "print(\"输入值：\", x_test, \"输出值:\", y_pred)\n",
    "print(\"*\" * 50)"
   ],
   "metadata": {
    "collapsed": false,
    "ExecuteTime": {
     "start_time": "2023-10-09T21:09:17.666960Z",
     "end_time": "2023-10-09T21:09:17.708884Z"
    }
   }
  },
  {
   "cell_type": "code",
   "execution_count": 12,
   "outputs": [
    {
     "name": "stdout",
     "output_type": "stream",
     "text": [
      "编译时间 0.10822343826293945\n",
      "量化位数： 8 最大量化位数 17\n"
     ]
    }
   ],
   "source": [
    "quantized_module=testLinearPTQ(8)"
   ],
   "metadata": {
    "collapsed": false,
    "ExecuteTime": {
     "start_time": "2023-10-09T21:11:40.000013Z",
     "end_time": "2023-10-09T21:11:40.108221Z"
    }
   }
  },
  {
   "cell_type": "code",
   "execution_count": 15,
   "outputs": [
    {
     "name": "stdout",
     "output_type": "stream",
     "text": [
      "推理时间 0.0014085769653320312\n",
      "输入值： [[0.93165773 0.41563472]] 输出值: [[0.06652258]]\n",
      "**************************************************\n"
     ]
    }
   ],
   "source": [
    "x_test = torch.randn(1, 2).numpy()\n",
    "start_time = time.time()\n",
    "y_pred = quantized_module.forward(x_test, fhe=\"execute\")\n",
    "end_time = time.time()\n",
    "print(\"推理时间\", end_time - start_time)\n",
    "print(\"输入值：\", x_test, \"输出值:\", y_pred)\n",
    "print(\"*\" * 50)"
   ],
   "metadata": {
    "collapsed": false,
    "ExecuteTime": {
     "start_time": "2023-10-09T21:36:51.989208Z",
     "end_time": "2023-10-09T21:36:52.034269Z"
    }
   }
  },
  {
   "cell_type": "code",
   "execution_count": null,
   "outputs": [],
   "source": [],
   "metadata": {
    "collapsed": false
   }
  }
 ],
 "metadata": {
  "kernelspec": {
   "display_name": "Python 3",
   "language": "python",
   "name": "python3"
  },
  "language_info": {
   "codemirror_mode": {
    "name": "ipython",
    "version": 2
   },
   "file_extension": ".py",
   "mimetype": "text/x-python",
   "name": "python",
   "nbconvert_exporter": "python",
   "pygments_lexer": "ipython2",
   "version": "2.7.6"
  }
 },
 "nbformat": 4,
 "nbformat_minor": 0
}
