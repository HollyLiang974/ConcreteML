{
 "cells": [
  {
   "cell_type": "markdown",
   "source": [
    "# 使用整数训练加密前馈神经网络\n",
    "Iris是一个非常著名的数据集，它包含了150个样本，分为3类，每类50个样本，每个样本包含4个属性，分别是花萼长度、花萼宽度、花瓣长度、花瓣宽度，目标是根据这4个属性预测鸢尾花的类别。"
   ],
   "metadata": {
    "collapsed": false
   }
  },
  {
   "cell_type": "markdown",
   "source": [
    "## 导入依赖库"
   ],
   "metadata": {
    "collapsed": false
   }
  },
  {
   "cell_type": "code",
   "execution_count": 1,
   "outputs": [],
   "source": [
    "import numpy\n",
    "from concrete import fhe\n",
    "from concrete.ml.quantization import QuantizedArray\n",
    "from concrete.ml.quantization.quantizers import(\n",
    "    QuantizedArray,\n",
    "    MinMaxQuantizationStats,\n",
    "    QuantizationOptions,\n",
    "    UniformQuantizationParameters\n",
    ")\n",
    "from concrete.ml.quantization.quantized_ops import (\n",
    "    QuantizedGemm,\n",
    "    QuantizedSigmoid,\n",
    "    QuantizedSub,\n",
    "    QuantizedMul,\n",
    "    QuantizedDiv,\n",
    "    QuantizationOptions,\n",
    ")\n",
    "import numpy as np\n",
    "from sklearn import datasets\n",
    "from sklearn.model_selection import train_test_split\n",
    "from sklearn.preprocessing import StandardScaler\n",
    "from sklearn.preprocessing import OneHotEncoder"
   ],
   "metadata": {
    "collapsed": false,
    "ExecuteTime": {
     "start_time": "2023-10-06T22:34:31.256902Z",
     "end_time": "2023-10-06T22:34:33.586156Z"
    }
   }
  },
  {
   "cell_type": "markdown",
   "source": [
    "## 加载数据集"
   ],
   "metadata": {
    "collapsed": false
   }
  },
  {
   "cell_type": "code",
   "execution_count": 2,
   "outputs": [],
   "source": [
    "# 加载Iris数据集\n",
    "iris = datasets.load_iris()\n",
    "X = iris.data\n",
    "y = iris.target\n",
    "\n",
    "# 将输出标签进行独热编码\n",
    "encoder = OneHotEncoder(sparse=False)\n",
    "y_one_hot = encoder.fit_transform(y.reshape(-1, 1))\n",
    "\n",
    "# 数据标准化\n",
    "scaler = StandardScaler()\n",
    "X = scaler.fit_transform(X)\n",
    "\n",
    "# 划分训练集和测试集\n",
    "X_train, X_test, y_train, y_test = train_test_split(X, y_one_hot, test_size=0.2, random_state=42)\n"
   ],
   "metadata": {
    "collapsed": false,
    "ExecuteTime": {
     "start_time": "2023-10-06T22:34:33.592173Z",
     "end_time": "2023-10-06T22:34:33.598492Z"
    }
   }
  },
  {
   "cell_type": "markdown",
   "source": [
    "## 定义NumPy版的FFNN模型"
   ],
   "metadata": {
    "collapsed": false
   }
  },
  {
   "cell_type": "code",
   "execution_count": 3,
   "outputs": [],
   "source": [
    "# 定义一个类来表示NumPy版的FFNN模型\n",
    "class NumPyFFNN:\n",
    "    def __init__(self, input_dim, hidden_dim, output_dim):\n",
    "        self.input_dim = input_dim\n",
    "        self.hidden_dim = hidden_dim\n",
    "        self.output_dim = output_dim\n",
    "        self.weights1 = np.random.randn(input_dim, hidden_dim)\n",
    "        self.bias1 = np.zeros(hidden_dim)\n",
    "        self.weights2 = np.random.randn(hidden_dim, output_dim)\n",
    "        self.bias2 = np.zeros(output_dim)\n",
    "\n",
    "    def sigmoid(self, x):\n",
    "        return 1 / (1 + np.exp(-x))\n",
    "\n",
    "\n",
    "    def q_sub(self, n_bits:int,input_0 :numpy.ndarray, input_1:numpy.ndarray):\n",
    "\n",
    "        options=QuantizationOptions(n_bits,is_symmetric=True,is_signed=True)\n",
    "        stats=MinMaxQuantizationStats(n_bits)\n",
    "        stats.compute_quantization_stats(np.hstack((input_0, input_1)))\n",
    "        # Quantize the inputs with n_bits\n",
    "        q_inputs_0 = QuantizedArray(n_bits, input_0,options=options,stats=stats)\n",
    "        q_inputs_1 = QuantizedArray(n_bits, input_1,options=options,stats=stats)\n",
    "        @fhe.compiler({\"q_inputs_0\":\"encrypted\",\"q_inputs_1\":\"encrypted\"})\n",
    "        def q_sub_impl(q_inputs_0,q_inputs_1):\n",
    "            return q_inputs_0-q_inputs_1\n",
    "        inputset=[(np.random.randint(-128, 128, size=input_0.size),np.random.randint(-128, 128, size=input_1.size))\n",
    "                  for i in range(10000)]\n",
    "        circuit=q_sub_impl.compile(inputset)\n",
    "        q_result=circuit.encrypt_run_decrypt(q_inputs_0.qvalues,q_inputs_1.qvalues)\n",
    "        return q_result*q_inputs_0.quantizer.scale\n",
    "\n",
    "    def q_add(self, n_bits:int,input_0 :numpy.ndarray, input_1:numpy.ndarray):\n",
    "\n",
    "        options=QuantizationOptions(n_bits,is_symmetric=True,is_signed=True)\n",
    "        stats=MinMaxQuantizationStats(n_bits)\n",
    "        stats.compute_quantization_stats(np.hstack((input_0, input_1)))\n",
    "        # Quantize the inputs with n_bits\n",
    "        q_inputs_0 = QuantizedArray(n_bits, input_0,options=options,stats=stats)\n",
    "        q_inputs_1 = QuantizedArray(n_bits, input_1,options=options,stats=stats)\n",
    "        @fhe.compiler({\"q_inputs_0\":\"encrypted\",\"q_inputs_1\":\"encrypted\"})\n",
    "        def q_add_impl(q_inputs_0,q_inputs_1):\n",
    "            return q_inputs_0+q_inputs_1\n",
    "        inputset=[(np.random.randint(-128, 128, size=input_0.size),np.random.randint(-128, 128, size=input_1.size))\n",
    "                  for i in range(10000)]\n",
    "        circuit=q_add_impl.compile(inputset)\n",
    "        q_result=circuit.encrypt_run_decrypt(q_inputs_0.qvalues,q_inputs_1.qvalues)\n",
    "        return q_result*q_inputs_0.quantizer.scale\n",
    "\n",
    "    def q_mul(self, n_bits:int,input_0 :numpy.ndarray, input_1:numpy.ndarray):\n",
    "        options=QuantizationOptions(n_bits,is_symmetric=True,is_signed=True)\n",
    "        q_inputs_0 = QuantizedArray(n_bits, input_0, is_signed=True,options=options)\n",
    "        q_inputs_1 = QuantizedArray(n_bits, input_1, is_signed=True,options=options)\n",
    "        @fhe.compiler({\"q_inputs_0\":\"encrypted\",\"q_inputs_1\":\"encrypted\"})\n",
    "        def q_mul_impl(q_inputs_0,q_inputs_1):\n",
    "            return q_inputs_0*q_inputs_1\n",
    "        inputset=[(np.random.randint(-128, 128, size=input_0.size),np.random.randint(-128, 128, size=input_1.size))\n",
    "                  for i in range(10000)]\n",
    "        circuit=q_mul_impl.compile(inputset)\n",
    "        q_result=circuit.encrypt_run_decrypt(q_inputs_0.qvalues,q_inputs_1.qvalues)\n",
    "        return q_result*q_inputs_0.quantizer.scale*q_inputs_1.quantizer.scale\n",
    "\n",
    "    def q_div(self, n_bits:int,input_0 :numpy.ndarray, input_1:numpy.ndarray):\n",
    "        options=QuantizationOptions(n_bits,is_symmetric=True,is_signed=True)\n",
    "        q_inputs_0 = QuantizedArray(n_bits, input_0, is_signed=True,options=options)\n",
    "        q_inputs_1 = QuantizedArray(n_bits, input_1, is_signed=True,options=options)\n",
    "        @fhe.compiler({\"q_inputs_0\":\"encrypted\"})\n",
    "        def q_div_impl(q_inputs_0):\n",
    "            return numpy.floor_divide(q_inputs_0,q_inputs_1.qvalues)\n",
    "        inputset=[np.random.randint(-128, 128, size=input_0.size)\n",
    "                  for i in range(10000)]\n",
    "        circuit=q_div_impl.compile(inputset)\n",
    "        print(circuit)\n",
    "        q_result=circuit.encrypt_run_decrypt(q_inputs_0.qvalues)\n",
    "        print(q_result)\n",
    "        return q_result*q_inputs_0.quantizer.scale/q_inputs_1.quantizer.scale\n",
    "\n",
    "    def q_matmul_(\n",
    "        self,\n",
    "        n_bits: int,\n",
    "        inputs: numpy.ndarray,\n",
    "        weights: numpy.ndarray,\n",
    "    ):\n",
    "        options=QuantizationOptions(n_bits,is_symmetric=True,is_signed=True)\n",
    "        q_inputs = QuantizedArray(n_bits, inputs,is_signed=True,options=options)\n",
    "        q_weights = QuantizedArray(n_bits, weights,is_signed=True,options=options)\n",
    "\n",
    "        @fhe.compiler({\"q_inputs\":\"encrypted\",\"q_weights\":\"clear\"})\n",
    "        def q_matmul_impl(q_inputs,q_weights):\n",
    "            return q_inputs@q_weights\n",
    "        inputset=[(np.random.randint(-128, 128, size=inputs.shape),np.random.randint(-128, 128, size=weights.shape))\n",
    "                  for i in range(10000)]\n",
    "        circuit=q_matmul_impl.compile(inputset)\n",
    "        q_result=circuit.encrypt_run_decrypt(q_inputs.qvalues,q_weights.qvalues)\n",
    "        return q_result*q_inputs.quantizer.scale*q_weights.quantizer.scale\n",
    "\n",
    "    def q_sigmoid(self,n_bits: int, inputs:numpy.ndarray):\n",
    "        # 量化比特数\n",
    "        bit_nums = n_bits\n",
    "        # lut表大小\n",
    "        lut_size = 256\n",
    "\n",
    "        q_min = 0\n",
    "        q_max = 2 ** bit_nums - 1\n",
    "\n",
    "        in_scale = (127+128) / (2 ** bit_nums - 1)\n",
    "        in_zp = np.clip(np.round(q_max - 127 / in_scale), q_min, q_max)\n",
    "        out_scale = 1 / (2 ** bit_nums - 1)\n",
    "        out_zp = np.clip(np.round(q_max - 1 / out_scale), q_min, q_max)\n",
    "\n",
    "        # 生成 lut 表的采样点\n",
    "        q_x = np.round(np.linspace(0, 2 ** bit_nums - 1, lut_size))\n",
    "        # 反量化到 [-128, 127]\n",
    "        x = (q_x - in_zp) * in_scale\n",
    "        # 计算 sigmoid 函数的值\n",
    "        y = self.sigmoid(x)\n",
    "        # 函数值量化到 [0, 255]\n",
    "        q_y = np.clip(np.round(y / out_scale) + out_zp, q_min, q_max)\n",
    "\n",
    "        table = fhe.LookupTable(q_y.astype(np.int32))\n",
    "\n",
    "        @fhe.compiler({\"q_x\": \"encrypted\"})\n",
    "        def q_sigmoid(q_x):\n",
    "            return table[q_x]\n",
    "\n",
    "        inputset = [np.random.randint(0, 256, size=inputs.shape)\n",
    "                  for i in range(10000)]\n",
    "        circuit = q_sigmoid.compile(inputset)\n",
    "        q_x1=(np.round(inputs/in_scale)+in_zp).astype(np.int32)\n",
    "        y=circuit.encrypt_run_decrypt(q_x1)\n",
    "        return (y-out_zp)*out_scale\n",
    "\n",
    "    def forward(self, x):\n",
    "        out1 = np.dot(x, self.weights1) + self.bias1\n",
    "        out1_sigmoid = self.sigmoid(out1)  # 使用Sigmoid激活函数\n",
    "        out2 = np.dot(out1_sigmoid, self.weights2) + self.bias2\n",
    "        return out2\n",
    "\n",
    "    def q_forward(self, x):\n",
    "        n_bits=4\n",
    "        # 线性层\n",
    "        out1 = self.q_gemm_(n_bits,x,self.weights1,self.bias1)\n",
    "        # 激活层\n",
    "        out1_sigmoid = self.q_sigmoid(n_bits,out1)  # 使用Sigmoid激活函数\n",
    "        out2=self.q_gemm_(n_bits,out1_sigmoid, self.weights2, self.bias2)\n",
    "        return out2\n",
    "\n",
    "    def backward(self, x, y, learning_rate):\n",
    "        # 前向传播\n",
    "        out1 = np.dot(x, self.weights1) + self.bias1\n",
    "        out1_sigmoid = self.sigmoid(out1)  # 使用Sigmoid激活函数\n",
    "        out2 = np.dot(out1_sigmoid, self.weights2) + self.bias2\n",
    "        loss = np.mean((out2 - y) ** 2)  # 均方误差损失\n",
    "\n",
    "        # 反向传播\n",
    "        delta_out2 = 2 * (out2 - y) / len(x)\n",
    "        delta_weights2 = np.dot(out1_sigmoid.T, delta_out2)\n",
    "        delta_bias2 = np.sum(delta_out2, axis=0)\n",
    "        delta_out1 = np.dot(delta_out2, self.weights2.T)\n",
    "        delta_out1_sigmoid = delta_out1 * out1_sigmoid * (1 - out1_sigmoid)  # Sigmoid的导数\n",
    "        delta_weights1 = np.dot(x.T, delta_out1_sigmoid)\n",
    "        delta_bias1 = np.sum(delta_out1_sigmoid, axis=0)\n",
    "\n",
    "        # 更新参数\n",
    "        self.weights2 -= learning_rate * delta_weights2\n",
    "        self.bias2 -= learning_rate * delta_bias2\n",
    "        self.weights1 -= learning_rate * delta_weights1\n",
    "        self.bias1 -= learning_rate * delta_bias1\n",
    "\n",
    "        return loss\n",
    "\n",
    "    def q_backward(self, x, y, learning_rate):\n",
    "        n_bits = 8\n",
    "        # 前向传播\n",
    "        out1 = self.q_matmul_(n_bits, x, self.weights1)+self.bias1\n",
    "        out1_sigmoid = self.q_sigmoid(n_bits, out1)  # 使用Sigmoid激活函数\n",
    "        out2 = self.q_matmul_(n_bits, out1_sigmoid, self.weights2)+ self.bias2\n",
    "        loss = np.mean((out2 - y) ** 2)  # 均方误差损失\n",
    "\n",
    "        # 反向传播\n",
    "        delta_out2=self.q_div(n_bits,self.q_mul(n_bits,self.q_sub(n_bits,out2,y),2),len(x))\n",
    "        delta_weights2=self.q_matmul_(n_bits,out1_sigmoid.T,delta_out2)  # 密文和密文矩阵乘法不能超过16位\n",
    "        delta_bias2 = np.sum(delta_out2, axis=0) #delta_out2是密文，所以delta_bias2是密文\n",
    "        delta_out1=self.q_matmul_(n_bits,delta_out2,self.weights2.T)\n",
    "        delta_out1_sigmoid=self.q_mul(n_bits,self.q_mul(n_bits,delta_out1,out1_sigmoid),self.q_sub(n_bits,1,out1_sigmoid))\n",
    "        delta_weights1=self.q_mul(n_bits,x.T,delta_out1_sigmoid)\n",
    "        delta_bias1 = np.sum(delta_out1_sigmoid, axis=0)\n",
    "\n",
    "        # 更新参数\n",
    "        self.weights2 -= learning_rate * delta_weights2\n",
    "        self.bias2 -= learning_rate * delta_bias2\n",
    "        self.weights1 -= learning_rate * delta_weights1\n",
    "        self.bias1 -= learning_rate * delta_bias1\n",
    "\n",
    "        return loss\n",
    "\n",
    "\n",
    "# 模型参数\n",
    "input_dim = X_train.shape[1]\n",
    "hidden_dim = 64\n",
    "output_dim = y_train.shape[1]"
   ],
   "metadata": {
    "collapsed": false,
    "ExecuteTime": {
     "start_time": "2023-10-06T22:34:33.606521Z",
     "end_time": "2023-10-06T22:34:33.630581Z"
    }
   }
  },
  {
   "cell_type": "markdown",
   "source": [
    "## 前向传播过程\n",
    "```python\n",
    "out1 = self.q_matmul_(n_bits, x, self.weights1)+self.bias1 # 线性层1\n",
    "out1_sigmoid = self.q_sigmoid(n_bits, out1)  # 使用Sigmoid激活函数\n",
    "out2 = self.q_matmul_(n_bits, out1_sigmoid, self.weights2)+ self.bias2 # 线性层2\n",
    "loss = np.mean((out2 - y) ** 2)  # 均方误差损失\n",
    "```\n",
    "$\n",
    "[out1]=[q_x]\\cdot q_w_1+q_b_1\\\\\n",
    "[out1\\_sigmoid]=sigmoid([out1])\\\\\n",
    "[out2]=[out1\\_sigmoid]\\cdot q_w_2+q_b_2\\\\\n",
    "[loss]=\\frac{1}{n}\\sum_{i=1}^{n}([out2]-[y])^2\n",
    "$"
   ],
   "metadata": {
    "collapsed": false
   }
  },
  {
   "cell_type": "markdown",
   "source": [
    "## 反向传播过程\n",
    "```python\n",
    "delta_out2=self.q_div(n_bits,self.q_mul(n_bits,self.q_sub(n_bits,out2,y),2),len(x))\n",
    "delta_weights2=self.q_matmul_(n_bits,out1_sigmoid.T,delta_out2)  # 密文和密文矩阵乘法不能超过16位\n",
    "delta_bias2 = np.sum(delta_out2, axis=0) #delta_out2是密文，所以delta_bias2是密文\n",
    "delta_out1=self.q_matmul_(n_bits,delta_out2,self.weights2.T)\n",
    "delta_out1_sigmoid=self.q_mul(n_bits,self.q_mul(n_bits,delta_out1,out1_sigmoid),self.q_sub(n_bits,1,out1_sigmoid))\n",
    "delta_weights1=self.q_mul(n_bits,x.T,delta_out1_sigmoid)\n",
    "delta_bias1 = np.sum(delta_out1_sigmoid, axis=0)\n",
    "```\n",
    "\n",
    "$$\n",
    "[\\delta_{out2}]=2*\\frac{[out2]-[y]}{len(x)}\\\\\n",
    "[\\delta_{weights2}]=[out1\\_sigmoid]^T\\cdot [\\delta_{out2}]\\\\\n",
    "[\\delta_{bias2}]=\\sum_{i=1}^{n}[\\delta_{out2}]\\\\\n",
    "[\\delta_{out1}]=[\\delta_{out2}]\\cdot {q_w_2^T}\\\\\n",
    "[\\delta_{out1\\_sigmoid}]=[\\delta_{out1}]\\cdot [out1\\_sigmoid]\\cdot(1-[out1\\_sigmoid])\\\\\n",
    "[\\delta_{weights1}]=[{x^T}]\\cdot [\\delta_{out1\\_sigmoid}]\\\\\n",
    "[\\delta_{bias1}]=\\sum_{i=1}^{n}[\\delta_{out1\\_sigmoid}]\n",
    "$$"
   ],
   "metadata": {
    "collapsed": false
   }
  },
  {
   "cell_type": "markdown",
   "source": [
    " ## 更新参数过程\n",
    "```python\n",
    "self.weights2 -= learning_rate * delta_weights2\n",
    "self.bias2 -= learning_rate * delta_bias2\n",
    "self.weights1 -= learning_rate * delta_weights1\n",
    "self.bias1 -= learning_rate * delta_bias1\n",
    "```\n",
    "$$\n",
    "$\\boldsymbol{w}_2 = \\boldsymbol{w}_2 - \\text{learning\\_rate} \\cdot [\\boldsymbol{\\delta}_{\\text{weights2}}]$\\\\\n",
    "$\\boldsymbol{b}_2 = \\boldsymbol{b}_2 - \\text{learning\\_rate} \\cdot [\\boldsymbol{\\delta}_{\\text{bias2}}]$\\\\\n",
    "$\\boldsymbol{w}_1 = \\boldsymbol{w}_1 - \\text{learning\\_rate} \\cdot [\\boldsymbol{\\delta}_{\\text{weights1}}]$\\\\\n",
    "$\\boldsymbol{b}_1 = \\boldsymbol{b}_1 - \\text{learning\\_rate} \\cdot [\\boldsymbol{\\delta}_{\\text{bias1}}]$\\\\\n",
    "\n",
    "\n",
    "$$\n",
    "\n"
   ],
   "metadata": {
    "collapsed": false
   }
  },
  {
   "cell_type": "markdown",
   "source": [
    "## 创建NumPy模型实例"
   ],
   "metadata": {
    "collapsed": false
   }
  },
  {
   "cell_type": "code",
   "execution_count": 4,
   "outputs": [],
   "source": [
    "numpy_model = NumPyFFNN(input_dim, hidden_dim, output_dim)"
   ],
   "metadata": {
    "collapsed": false,
    "ExecuteTime": {
     "start_time": "2023-10-06T22:34:33.633564Z",
     "end_time": "2023-10-06T22:34:33.645085Z"
    }
   }
  },
  {
   "cell_type": "markdown",
   "source": [
    "### 测试减法"
   ],
   "metadata": {
    "collapsed": false
   }
  },
  {
   "cell_type": "code",
   "execution_count": 5,
   "outputs": [],
   "source": [
    "# result=numpy_model.q_sub(8,np.array([-1,5,6]).astype(np.float32),np.array([1,2,3]).astype(np.float32))\n",
    "# print(\"result:\",result)\n",
    "# print(\"real_result\",np.array([-1,5,6])-np.array([1,2,3]))"
   ],
   "metadata": {
    "collapsed": false,
    "ExecuteTime": {
     "start_time": "2023-10-06T22:34:33.692256Z",
     "end_time": "2023-10-06T22:34:33.693690Z"
    }
   }
  },
  {
   "cell_type": "markdown",
   "source": [
    "### 测试加法"
   ],
   "metadata": {
    "collapsed": false
   }
  },
  {
   "cell_type": "code",
   "execution_count": 6,
   "outputs": [],
   "source": [
    "# result=numpy_model.q_add(8,np.array([-1,5,6]).astype(np.float32),np.array([1,2,3]).astype(np.float32))\n",
    "# print(\"result:\",result)\n",
    "# print(\"real_result\",np.array([-1,5,6])+np.array([1,2,3]))"
   ],
   "metadata": {
    "collapsed": false,
    "ExecuteTime": {
     "start_time": "2023-10-06T22:34:33.693690Z",
     "end_time": "2023-10-06T22:34:33.693690Z"
    }
   }
  },
  {
   "cell_type": "markdown",
   "source": [
    "### 测试乘法"
   ],
   "metadata": {
    "collapsed": false
   }
  },
  {
   "cell_type": "code",
   "execution_count": 7,
   "outputs": [],
   "source": [
    "# result=numpy_model.q_mul(8,np.array([-1,5,6]).astype(np.float32),np.array([1,2,3]).astype(np.float32))\n",
    "# print(\"result:\",result)\n",
    "# print(\"real_result\",np.array([-1,5,6])*np.array([1,2,3]))"
   ],
   "metadata": {
    "collapsed": false,
    "ExecuteTime": {
     "start_time": "2023-10-06T22:34:33.693690Z",
     "end_time": "2023-10-06T22:34:33.693690Z"
    }
   }
  },
  {
   "cell_type": "markdown",
   "source": [
    "### 测试除法"
   ],
   "metadata": {
    "collapsed": false
   }
  },
  {
   "cell_type": "code",
   "execution_count": 8,
   "outputs": [],
   "source": [
    "# result=numpy_model.q_div(8,np.array([2,4,6]).astype(np.float32),np.array([1,2,3]).astype(np.float32))\n",
    "# print(\"result:\",result)\n",
    "# print(\"real_result\",np.array([2,4,6])/np.array([1,2,3]))"
   ],
   "metadata": {
    "collapsed": false,
    "ExecuteTime": {
     "start_time": "2023-10-06T22:34:33.693690Z",
     "end_time": "2023-10-06T22:34:33.693690Z"
    }
   }
  },
  {
   "cell_type": "markdown",
   "source": [
    "### 测试矩阵相乘"
   ],
   "metadata": {
    "collapsed": false
   }
  },
  {
   "cell_type": "code",
   "execution_count": 9,
   "outputs": [],
   "source": [
    "# matrix1 = np.array([[1.0, 2.0], [3.0, 4.0]], dtype=np.float64)\n",
    "# matrix2 = np.array([[5.0, 6.0], [7.0, 8.0]], dtype=np.float64)\n",
    "# result=numpy_model.q_matmul_(8,matrix1,matrix2)\n",
    "# print(\"result:\\n\", result)\n",
    "# real_result = matrix1 @ matrix2\n",
    "# print(\"real_result:\\n\", real_result)"
   ],
   "metadata": {
    "collapsed": false,
    "ExecuteTime": {
     "start_time": "2023-10-06T22:34:33.693690Z",
     "end_time": "2023-10-06T22:34:33.693690Z"
    }
   }
  },
  {
   "cell_type": "markdown",
   "source": [
    "### 测试q_sigmoid"
   ],
   "metadata": {
    "collapsed": false
   }
  },
  {
   "cell_type": "code",
   "execution_count": 10,
   "outputs": [
    {
     "name": "stdout",
     "output_type": "stream",
     "text": [
      "result: [0.88235294 0.95294118]\n",
      "real_result: [0.88079708 0.95257413]\n"
     ]
    }
   ],
   "source": [
    "print(\"result:\",numpy_model.q_sigmoid(8,np.array([2,3]).astype(np.float32)))\n",
    "print(\"real_result:\",numpy_model.sigmoid(np.array([2,3])))"
   ],
   "metadata": {
    "collapsed": false,
    "ExecuteTime": {
     "start_time": "2023-10-06T22:34:33.693690Z",
     "end_time": "2023-10-06T22:36:49.073192Z"
    }
   }
  },
  {
   "cell_type": "markdown",
   "source": [
    "### 测试q_np.sum"
   ],
   "metadata": {
    "collapsed": false
   }
  },
  {
   "cell_type": "markdown",
   "source": [
    "## 训练模型"
   ],
   "metadata": {
    "collapsed": false
   }
  },
  {
   "cell_type": "code",
   "execution_count": null,
   "outputs": [],
   "source": [
    "learning_rate = 0.01\n",
    "num_epochs = 1000\n",
    "\n",
    "for epoch in range(num_epochs):\n",
    "    # 随机选择一批训练数据\n",
    "    batch_indices = np.random.choice(len(X_train), 32, replace=False)\n",
    "    x_batch = X_train[batch_indices]\n",
    "    y_batch = y_train[batch_indices]\n",
    "\n",
    "    # 执行一次前向传播和反向传播，并获得损失\n",
    "    loss = numpy_model.q_backward(x_batch, y_batch, learning_rate)\n",
    "\n",
    "    # 打印损失\n",
    "    if (epoch + 1) % 100 == 0:\n",
    "        print(f'Epoch [{epoch + 1}/{num_epochs}], Loss: {loss}')"
   ],
   "metadata": {
    "collapsed": false,
    "ExecuteTime": {
     "start_time": "2023-10-06T18:31:21.448867Z",
     "end_time": "2023-10-06T18:32:06.561027Z"
    },
    "pycharm": {
     "is_executing": true
    }
   }
  },
  {
   "cell_type": "markdown",
   "source": [
    "## 测试模型"
   ],
   "metadata": {
    "collapsed": false
   }
  },
  {
   "cell_type": "code",
   "execution_count": null,
   "outputs": [],
   "source": [
    "# 前向传播\n",
    "predictions = numpy_model.forward(X_test)\n",
    "\n",
    "# 计算准确率\n",
    "correct = (np.argmax(predictions, axis=1) == np.argmax(y_test, axis=1)).sum()\n",
    "total = len(X_test)\n",
    "accuracy = correct / total * 100\n",
    "\n",
    "print(f'Test Accuracy: {accuracy:.2f}%')\n"
   ],
   "metadata": {
    "collapsed": false,
    "ExecuteTime": {
     "start_time": "2023-10-06T20:48:04.556092Z",
     "end_time": "2023-10-06T20:48:04.556092Z"
    },
    "pycharm": {
     "is_executing": true
    }
   }
  }
 ],
 "metadata": {
  "kernelspec": {
   "display_name": "Python 3",
   "language": "python",
   "name": "python3"
  },
  "language_info": {
   "codemirror_mode": {
    "name": "ipython",
    "version": 2
   },
   "file_extension": ".py",
   "mimetype": "text/x-python",
   "name": "python",
   "nbconvert_exporter": "python",
   "pygments_lexer": "ipython2",
   "version": "2.7.6"
  }
 },
 "nbformat": 4,
 "nbformat_minor": 0
}
