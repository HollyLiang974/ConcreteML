{
 "cells": [
  {
   "cell_type": "markdown",
   "source": [
    "# ALU"
   ],
   "metadata": {
    "collapsed": false
   }
  },
  {
   "cell_type": "markdown",
   "source": [
    "## 1. 编码\n",
    "### 1.1 浮点数与定点数之间转换"
   ],
   "metadata": {
    "collapsed": false
   }
  },
  {
   "cell_type": "code",
   "execution_count": null,
   "outputs": [],
   "source": [
    "#浮点数转定点数\n",
    "import math\n",
    "\n",
    "def float_to_fixed(flt: float, maxbits: int, factor: int, clip: bool = True) -> int:\n",
    "  \"\"\"\n",
    "  将浮点数转换为定点数。\n",
    "\n",
    "  Args:\n",
    "    flt: 要转换的浮点数。\n",
    "    maxbits: 定点数的最大位数。\n",
    "    factor: 定点数的因子。\n",
    "    clip: 是否裁剪定点数的值。如果 `clip` 为 `true`，则定点数的值将被限制在 `min` 和 `max` 之间。\n",
    "\n",
    "  Returns:\n",
    "    定点数的值。\n",
    "  \"\"\"\n",
    "\n",
    "  max = math.pow(2, maxbits - 1) - 1\n",
    "  min = -max\n",
    "  fixed = flt * factor\n",
    "\n",
    "  if clip:\n",
    "    if fixed > max:\n",
    "      fixed = max\n",
    "    elif fixed < min:\n",
    "      fixed = min\n",
    "\n",
    "  return int(fixed)\n",
    "\n",
    "def fixed_to_float(fixed: int, factor: int) -> float:\n",
    "  \"\"\"\n",
    "  将定点数转换为浮点数。\n",
    "\n",
    "  Args:\n",
    "    fixed: 要转换的定点数。\n",
    "    factor: 定点数的因子。\n",
    "\n",
    "  Returns:\n",
    "    浮点数的值。\n",
    "  \"\"\"\n",
    "\n",
    "  return fixed / factor\n",
    "\n",
    "def float_to_fixed_vector(flt: list[float], maxbits: int, factor: int, clip: bool = True) -> list[int]:\n",
    "  \"\"\"\n",
    "  将浮点数数组转换为定点数数组。\n",
    "\n",
    "  Args:\n",
    "    flt: 要转换的浮点数数组。\n",
    "    maxbits: 定点数的最大位数。\n",
    "    factor: 定点数的因子。\n",
    "    clip: 是否裁剪定点数的值。如果 `clip` 为 `true`，则定点数的值将被限制在 `min` 和 `max` 之间。\n",
    "\n",
    "  Returns:\n",
    "    定点数数组。\n",
    "  \"\"\"\n",
    "\n",
    "  fixed_vector = []\n",
    "  for f in flt:\n",
    "    fixed_vector.append(float_to_fixed(f, maxbits, factor, clip))\n",
    "\n",
    "  return fixed_vector\n",
    "\n",
    "def fixed_to_float_vector(fixed: list[int], factor: int) -> list[float]:\n",
    "  \"\"\"\n",
    "  将定点数数组转换为浮点数数组。\n",
    "\n",
    "  Args:\n",
    "    fixed: 要转换的定点数数组。\n",
    "    factor: 定点数的因子。\n",
    "\n",
    "  Returns:\n",
    "    浮点数数组。\n",
    "  \"\"\"\n",
    "\n",
    "  flt_vector = []\n",
    "  for f in fixed:\n",
    "    flt_vector.append(fixed_to_float(f, factor))\n",
    "\n",
    "  return flt_vector"
   ],
   "metadata": {
    "collapsed": false
   }
  },
  {
   "cell_type": "code",
   "execution_count": 149,
   "outputs": [
    {
     "name": "stdout",
     "output_type": "stream",
     "text": [
      "123\n",
      "123.0\n",
      "[123, 127]\n",
      "[123.0, 127.0]\n"
     ]
    }
   ],
   "source": [
    "#test\n",
    "flt = 123.456\n",
    "maxbits = 8\n",
    "factor = 1\n",
    "\n",
    "fixed = float_to_fixed(flt, maxbits, factor)\n",
    "print(fixed)\n",
    "# 将定点数转换为浮点数\n",
    "flt = fixed_to_float(fixed, factor)\n",
    "print(flt)\n",
    "# 将浮点数数组转换为定点数数组\n",
    "flt_vector = [123.456, 789.012]\n",
    "\n",
    "fixed_vector = float_to_fixed_vector(flt_vector, maxbits, factor)\n",
    "print(fixed_vector)\n",
    "# 将定点数数组转换为浮点数数组\n",
    "flt_vector = fixed_to_float_vector(fixed_vector, factor)\n",
    "print(flt_vector)"
   ],
   "metadata": {
    "collapsed": false,
    "ExecuteTime": {
     "start_time": "2023-11-19T19:56:17.266333Z",
     "end_time": "2023-11-19T19:56:17.266333Z"
    }
   }
  },
  {
   "cell_type": "markdown",
   "source": [
    "### 1.2 将整数转换为二进制数组"
   ],
   "metadata": {
    "collapsed": false
   }
  },
  {
   "cell_type": "code",
   "execution_count": 153,
   "outputs": [
    {
     "name": "stdout",
     "output_type": "stream",
     "text": [
      "[0, 1, 1, 0, 1, 1, 1, 1]\n",
      "[0, 1, 0, 0, 0, 0, 0, 0]\n"
     ]
    }
   ],
   "source": [
    "def extract_bits_with_shift(num: int) -> list:\n",
    "  \"\"\"\n",
    "  使用移位提取数字的二进制位，并存储到一个数组中。\n",
    "\n",
    "  Args:\n",
    "    num: 要提取二进制位的数字。\n",
    "\n",
    "  Returns:\n",
    "    二进制位数组。\n",
    "  \"\"\"\n",
    "\n",
    "  bits = []\n",
    "  for i in range(8):\n",
    "    bits.append(num >> i & 1)\n",
    "\n",
    "  return bits\n",
    "\n",
    "\n",
    "if __name__ == \"__main__\":\n",
    "  num1 = -10\n",
    "  bits1 = extract_bits_with_shift(num1)\n",
    "  print(bits1)\n",
    "  num2 = 2\n",
    "  bits2 = extract_bits_with_shift(num2)\n",
    "  print(bits2)"
   ],
   "metadata": {
    "collapsed": false,
    "ExecuteTime": {
     "start_time": "2023-11-19T20:04:27.904254Z",
     "end_time": "2023-11-19T20:04:27.904254Z"
    }
   }
  },
  {
   "cell_type": "markdown",
   "source": [
    "### 1.3 将二进制数组转换为整数"
   ],
   "metadata": {
    "collapsed": false
   }
  },
  {
   "cell_type": "code",
   "execution_count": 154,
   "outputs": [
    {
     "name": "stdout",
     "output_type": "stream",
     "text": [
      "44400\n"
     ]
    }
   ],
   "source": [
    "def binary_to_decimal(binary: list) -> int:\n",
    "  \"\"\"\n",
    "  将二进制数组转换为十进制。\n",
    "\n",
    "  Args:\n",
    "    binary: 二进制数组。\n",
    "\n",
    "  Returns:\n",
    "    十进制数。\n",
    "  \"\"\"\n",
    "\n",
    "  length = len(binary)\n",
    "  decimal = 0\n",
    "  for i in range(length):\n",
    "    decimal |= binary[i] << i\n",
    "  return decimal\n",
    "\n",
    "\n",
    "if __name__ == \"__main__\":\n",
    "  binary = [0, 0, 0, 0, 1, 1, 1, 0, 1, 0, 1, 1, 0, 1, 0, 1]\n",
    "  decimal = binary_to_decimal(binary)\n",
    "  print(decimal)"
   ],
   "metadata": {
    "collapsed": false,
    "ExecuteTime": {
     "start_time": "2023-11-19T20:08:40.967451Z",
     "end_time": "2023-11-19T20:08:40.967451Z"
    }
   }
  },
  {
   "cell_type": "markdown",
   "source": [
    "### 1.4 二进制补码转十进制"
   ],
   "metadata": {
    "collapsed": false
   }
  },
  {
   "cell_type": "code",
   "execution_count": 155,
   "outputs": [
    {
     "name": "stdout",
     "output_type": "stream",
     "text": [
      "Decimal result: -128\n"
     ]
    }
   ],
   "source": [
    "def to_complement(num):\n",
    "    nb_samples = len(num)\n",
    "    sum_result = 0\n",
    "\n",
    "    for i in range(nb_samples - 1):\n",
    "        sum_result += num[i] << i\n",
    "\n",
    "    if num[nb_samples - 1]:\n",
    "        sum_result -= 1 << (nb_samples - 1)\n",
    "\n",
    "    return sum_result\n",
    "\n",
    "# 示例用法\n",
    "binary_array =[0, 0, 0, 0, 0, 0, 0, 1]  # 二进制补码表示\n",
    "decimal_result = to_complement(binary_array)\n",
    "print(\"Decimal result:\", decimal_result)\n"
   ],
   "metadata": {
    "collapsed": false,
    "ExecuteTime": {
     "start_time": "2023-11-19T20:09:27.024975Z",
     "end_time": "2023-11-19T20:09:27.024975Z"
    }
   }
  },
  {
   "cell_type": "markdown",
   "source": [
    "## 2. 二进制乘法"
   ],
   "metadata": {
    "collapsed": false
   }
  },
  {
   "cell_type": "code",
   "execution_count": 156,
   "outputs": [],
   "source": [
    "binary_input1=extract_bits_with_shift(10)\n",
    "binary_input2=extract_bits_with_shift(2)"
   ],
   "metadata": {
    "collapsed": false,
    "ExecuteTime": {
     "start_time": "2023-11-19T20:13:26.892436Z",
     "end_time": "2023-11-19T20:13:26.892436Z"
    }
   }
  },
  {
   "cell_type": "code",
   "execution_count": 157,
   "outputs": [
    {
     "name": "stdout",
     "output_type": "stream",
     "text": [
      "[[0 0 0 0 0 0 0 0]\n",
      " [0 0 0 0 0 0 0 0]\n",
      " [0 0 0 0 0 0 0 0]\n",
      " [0 0 0 0 0 0 0 0]\n",
      " [0 0 0 0 0 0 0 0]\n",
      " [0 0 0 0 0 0 0 0]\n",
      " [0 0 0 0 0 0 0 0]\n",
      " [0 0 0 0 0 0 0 0]]\n"
     ]
    }
   ],
   "source": [
    "import numpy as np\n",
    "# 创建一个n*2n的矩阵\n",
    "n = 8\n",
    "matrix = np.zeros((n, n), dtype=np.uint8)\n",
    "print(matrix)"
   ],
   "metadata": {
    "collapsed": false,
    "ExecuteTime": {
     "start_time": "2023-11-19T20:13:28.059853Z",
     "end_time": "2023-11-19T20:13:28.059853Z"
    }
   }
  },
  {
   "cell_type": "code",
   "execution_count": 158,
   "outputs": [
    {
     "name": "stdout",
     "output_type": "stream",
     "text": [
      "[[0 0 0 0 0 0 0 0]\n",
      " [0 0 1 0 1 0 0 0]\n",
      " [0 0 0 0 0 0 0 0]\n",
      " [0 0 0 0 0 0 0 0]\n",
      " [0 0 0 0 0 0 0 0]\n",
      " [0 0 0 0 0 0 0 0]\n",
      " [0 0 0 0 0 0 0 0]\n",
      " [0 0 0 0 0 0 0 0]]\n"
     ]
    }
   ],
   "source": [
    "#计算乘法\n",
    "for i in range(n):\n",
    "    for j in range(n-i):\n",
    "        matrix[i,i+j] = binary_input1[j] & binary_input2[i]\n",
    "print(matrix)"
   ],
   "metadata": {
    "collapsed": false,
    "ExecuteTime": {
     "start_time": "2023-11-19T20:13:31.484958Z",
     "end_time": "2023-11-19T20:13:31.484958Z"
    }
   }
  },
  {
   "cell_type": "code",
   "execution_count": 160,
   "outputs": [
    {
     "name": "stdout",
     "output_type": "stream",
     "text": [
      "[0, 0, 1, 0, 1, 0, 0, 0]\n"
     ]
    }
   ],
   "source": [
    "# add\n",
    "def add(a, b, size):\n",
    "    sum = [0] * size\n",
    "    sum[0]=np.bitwise_xor(a[0],b[0])\n",
    "    carry = np.bitwise_and(a[0],b[0])\n",
    "    for i in range(1,size):\n",
    "       tmp_s=np.bitwise_xor(a[i],b[i])\n",
    "       tmp_c=np.bitwise_and(a[i],b[i])\n",
    "       sum[i]=np.bitwise_xor(tmp_s,carry)\n",
    "       carry=np.bitwise_or(np.bitwise_and(tmp_s,carry),tmp_c)\n",
    "    return sum\n"
   ],
   "metadata": {
    "collapsed": false,
    "ExecuteTime": {
     "start_time": "2023-11-19T20:14:03.117534Z",
     "end_time": "2023-11-19T20:14:03.117534Z"
    }
   }
  },
  {
   "cell_type": "code",
   "execution_count": 161,
   "outputs": [
    {
     "name": "stdout",
     "output_type": "stream",
     "text": [
      "20\n"
     ]
    }
   ],
   "source": [
    "result=[0]*n\n",
    "for i in range(n):\n",
    "    result=add(result,matrix[i],n)\n",
    "result=to_complement(result)\n",
    "\n",
    "print(result)"
   ],
   "metadata": {
    "collapsed": false,
    "ExecuteTime": {
     "start_time": "2023-11-19T20:15:06.153279Z",
     "end_time": "2023-11-19T20:15:06.153279Z"
    }
   }
  },
  {
   "cell_type": "markdown",
   "source": [
    "## 3. 编译成concrete电路"
   ],
   "metadata": {
    "collapsed": false
   }
  },
  {
   "cell_type": "code",
   "execution_count": 162,
   "outputs": [
    {
     "name": "stdout",
     "output_type": "stream",
     "text": [
      "密钥生成时间： 1.5846076011657715\n",
      "加密时间： 1.585780143737793\n",
      "计算时间： 10.324278354644775\n",
      "解密时间： 0.007961273193359375\n",
      "[0 0 0 0 0 0 0 0 0 0 0 1 0 1 0 0]\n"
     ]
    }
   ],
   "source": [
    "from concrete import fhe\n",
    "@fhe.circuit({\"binary_input1\": \"encrypted\",\"binary_input2\": \"encrypted\"})\n",
    "def circuit2(binary_input1: fhe.tensor[fhe.uint2, 8, ],binary_input2: fhe.tensor[fhe.uint2, 8, ]):\n",
    "    n = 8\n",
    "    matrix =fhe.zeros((n, 2*n))\n",
    "    result=[0]*2*n\n",
    "    for i in range(n):\n",
    "        for j in range(n):\n",
    "            matrix[i,i+j] = np.bitwise_and(binary_input1[j],binary_input2[i])\n",
    "    for i in range(n):\n",
    "        result=add(result,matrix[i],2*n)\n",
    "    return fhe.array(result)\n",
    "import time\n",
    "start=time.time()\n",
    "circuit2.keygen()\n",
    "end=time.time()\n",
    "print(\"密钥生成时间：\",end-start)\n",
    "enc=circuit2.encrypt(binary_input1,binary_input2)\n",
    "end=time.time()\n",
    "print(\"加密时间：\",end-start)\n",
    "start=time.time()\n",
    "res_enc=circuit2.run(enc)\n",
    "end=time.time()\n",
    "print(\"计算时间：\",end-start)\n",
    "start=time.time()\n",
    "result=circuit2.decrypt(res_enc)\n",
    "end=time.time()\n",
    "print(\"解密时间：\",end-start)\n",
    "result=result[::-1]\n",
    "print(result)\n"
   ],
   "metadata": {
    "collapsed": false,
    "ExecuteTime": {
     "start_time": "2023-11-19T20:16:14.013553Z",
     "end_time": "2023-11-19T20:16:14.013553Z"
    }
   }
  },
  {
   "cell_type": "code",
   "execution_count": 163,
   "outputs": [
    {
     "name": "stdout",
     "output_type": "stream",
     "text": [
      "密钥生成时间： 0.7216644287109375\n",
      "加密时间： 0.7226812839508057\n",
      "计算时间： 6.218215703964233\n",
      "解密时间： 0.00014138221740722656\n",
      "[0 0 0 0 0 0 0 0 0 0 0 1 0 1 0 0]\n"
     ]
    }
   ],
   "source": [
    "from concrete import fhe\n",
    "@fhe.circuit({\"binary_input1\": \"encrypted\"})\n",
    "def circuit2(binary_input1: fhe.tensor[fhe.uint2, 8, ]):\n",
    "    n = 8\n",
    "    matrix =fhe.zeros((n, 2*n))\n",
    "    result=[0]*2*n\n",
    "    for i in range(n):\n",
    "        for j in range(n):\n",
    "            matrix[i,i+j] = np.bitwise_and(binary_input1[j],binary_input2[i])\n",
    "    for i in range(n):\n",
    "        result=add(result,matrix[i],2*n)\n",
    "    return fhe.array(result)\n",
    "import time\n",
    "start=time.time()\n",
    "circuit2.keygen()\n",
    "end=time.time()\n",
    "print(\"密钥生成时间：\",end-start)\n",
    "enc=circuit2.encrypt(binary_input1)\n",
    "end=time.time()\n",
    "print(\"加密时间：\",end-start)\n",
    "start=time.time()\n",
    "res_enc=circuit2.run(enc)\n",
    "end=time.time()\n",
    "print(\"计算时间：\",end-start)\n",
    "start=time.time()\n",
    "result=circuit2.decrypt(res_enc)\n",
    "end=time.time()\n",
    "print(\"解密时间：\",end-start)\n",
    "result=result[::-1]\n",
    "print(result)"
   ],
   "metadata": {
    "collapsed": false,
    "ExecuteTime": {
     "start_time": "2023-11-19T20:16:50.754619Z",
     "end_time": "2023-11-19T20:17:04.256634Z"
    }
   }
  },
  {
   "cell_type": "markdown",
   "source": [
    "## 4. 二进制移位\n",
    "将权重量化为2的幂"
   ],
   "metadata": {
    "collapsed": false
   }
  },
  {
   "cell_type": "code",
   "execution_count": 9,
   "outputs": [
    {
     "name": "stdout",
     "output_type": "stream",
     "text": [
      "Result: 12\n"
     ]
    }
   ],
   "source": [
    "def shift_dot_product(inputs, We, cols):\n",
    "    result = 0\n",
    "\n",
    "    for i in range(cols):\n",
    "        if We[i] < 0:\n",
    "            for j in range(-We[i]):\n",
    "                inputs[i] >>= 1\n",
    "        elif We[i] > 0:\n",
    "            for j in range(We[i]):\n",
    "                inputs[i] <<= 1\n",
    "\n",
    "        result += inputs[i]\n",
    "\n",
    "    return result\n",
    "\n",
    "# 示例用法\n",
    "inputs_array = [1, 2, 3, 4, 5]\n",
    "weights_array = [0, 0, 0, 0, -1]\n",
    "cols_value = len(inputs_array)\n",
    "\n",
    "result_value = shift_dot_product(inputs_array, weights_array, cols_value)\n",
    "print(\"Result:\", result_value)\n"
   ],
   "metadata": {
    "collapsed": false,
    "ExecuteTime": {
     "start_time": "2023-11-19T21:31:25.243943Z",
     "end_time": "2023-11-19T21:31:25.253970Z"
    }
   }
  }
 ],
 "metadata": {
  "kernelspec": {
   "display_name": "Python 3",
   "language": "python",
   "name": "python3"
  },
  "language_info": {
   "codemirror_mode": {
    "name": "ipython",
    "version": 2
   },
   "file_extension": ".py",
   "mimetype": "text/x-python",
   "name": "python",
   "nbconvert_exporter": "python",
   "pygments_lexer": "ipython2",
   "version": "2.7.6"
  }
 },
 "nbformat": 4,
 "nbformat_minor": 0
}
