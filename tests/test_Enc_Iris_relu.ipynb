{
 "cells": [
  {
   "cell_type": "markdown",
   "source": [
    "# 使用整数训练加密前馈神经网络\n",
    "Iris是一个非常著名的数据集，它包含了150个样本，分为3类，每类50个样本，每个样本包含4个属性，分别是花萼长度、花萼宽度、花瓣长度、花瓣宽度，目标是根据这4个属性预测鸢尾花的类别。"
   ],
   "metadata": {
    "collapsed": false
   }
  },
  {
   "cell_type": "markdown",
   "source": [
    "## 导入依赖库"
   ],
   "metadata": {
    "collapsed": false
   }
  },
  {
   "cell_type": "code",
   "execution_count": 50,
   "outputs": [],
   "source": [
    "import numpy\n",
    "from concrete import fhe\n",
    "from concrete.ml.quantization import QuantizedArray\n",
    "from concrete.ml.quantization.quantizers import(\n",
    "    QuantizedArray,\n",
    "    MinMaxQuantizationStats,\n",
    ")\n",
    "from concrete.ml.quantization.quantized_ops import (\n",
    "    QuantizationOptions,\n",
    ")\n",
    "import numpy as np\n",
    "from sklearn import datasets\n",
    "from sklearn.model_selection import train_test_split\n",
    "from sklearn.preprocessing import StandardScaler\n",
    "from sklearn.preprocessing import OneHotEncoder"
   ],
   "metadata": {
    "collapsed": false,
    "ExecuteTime": {
     "start_time": "2023-10-15T13:22:31.137481Z",
     "end_time": "2023-10-15T13:22:31.179420Z"
    }
   }
  },
  {
   "cell_type": "markdown",
   "source": [
    "## 查找表非线性激活函数"
   ],
   "metadata": {
    "collapsed": false
   }
  },
  {
   "cell_type": "markdown",
   "source": [
    "## 加载数据集"
   ],
   "metadata": {
    "collapsed": false
   }
  },
  {
   "cell_type": "code",
   "execution_count": 51,
   "outputs": [],
   "source": [
    "# 加载Iris数据集\n",
    "iris = datasets.load_iris()\n",
    "X = iris.data\n",
    "y = iris.target\n",
    "\n",
    "# 将输出标签进行独热编码\n",
    "encoder = OneHotEncoder(sparse=False)\n",
    "y_one_hot = encoder.fit_transform(y.reshape(-1, 1))\n",
    "\n",
    "# 数据标准化\n",
    "scaler = StandardScaler()\n",
    "X = scaler.fit_transform(X)\n",
    "\n",
    "# 划分训练集和测试集\n",
    "X_train, X_test, y_train, y_test = train_test_split(X, y_one_hot, test_size=0.2, random_state=42)\n"
   ],
   "metadata": {
    "collapsed": false,
    "ExecuteTime": {
     "start_time": "2023-10-15T13:22:33.422294Z",
     "end_time": "2023-10-15T13:22:33.436355Z"
    }
   }
  },
  {
   "cell_type": "markdown",
   "source": [
    "## 定义NumPy版的FFNN模型"
   ],
   "metadata": {
    "collapsed": false
   }
  },
  {
   "cell_type": "code",
   "execution_count": 74,
   "outputs": [],
   "source": [
    "# 定义一个类来表示NumPy版的FFNN模型\n",
    "class NumPyFFNN:\n",
    "    def __init__(self, input_dim, hidden_dim, output_dim):\n",
    "        self.input_dim = input_dim\n",
    "        self.hidden_dim = hidden_dim\n",
    "        self.output_dim = output_dim\n",
    "        self.weights1 = np.random.randn(input_dim, hidden_dim)\n",
    "        self.bias1 = np.zeros(hidden_dim)\n",
    "        self.weights2 = np.random.randn(hidden_dim, output_dim)\n",
    "        self.bias2 = np.zeros(output_dim)\n",
    "        self.relu_circuit=None\n",
    "\n",
    "    def q_relu(self, n_bits:int,input:numpy.ndarray):\n",
    "        options=QuantizationOptions(n_bits,is_symmetric=True,is_signed=True)\n",
    "        stats=MinMaxQuantizationStats(n_bits)\n",
    "        stats.compute_quantization_stats(input)\n",
    "        # Quantize the inputs with n_bits\n",
    "        q_inputs = QuantizedArray(n_bits, input,options=options,stats=stats)\n",
    "        @fhe.compiler({\"q_inputs\":\"encrypted\"})\n",
    "        def q_relu_impl(q_inputs):\n",
    "            return np.maximum(q_inputs, 0)\n",
    "        inputset=[np.random.randint(-128, 128, size=input.size)\n",
    "                  for i in range(10000)]\n",
    "        circuit=q_relu_impl.compile(inputset)\n",
    "        circuit.keygen()\n",
    "        self.relu_circuit=circuit\n",
    "        return circuit\n",
    "\n",
    "    def q_sub(self, n_bits:int,input_0 :numpy.ndarray, input_1:numpy.ndarray):\n",
    "\n",
    "        options=QuantizationOptions(n_bits,is_symmetric=True,is_signed=True)\n",
    "        stats=MinMaxQuantizationStats(n_bits)\n",
    "        stats.compute_quantization_stats(np.hstack((input_0, input_1)))\n",
    "        # Quantize the inputs with n_bits\n",
    "        q_inputs_0 = QuantizedArray(n_bits, input_0,options=options,stats=stats)\n",
    "        q_inputs_1 = QuantizedArray(n_bits, input_1,options=options,stats=stats)\n",
    "        @fhe.compiler({\"q_inputs_0\":\"encrypted\",\"q_inputs_1\":\"encrypted\"})\n",
    "        def q_sub_impl(q_inputs_0,q_inputs_1):\n",
    "            return q_inputs_0-q_inputs_1\n",
    "        inputset=[(np.random.randint(-128, 128, size=input_0.size),np.random.randint(-128, 128, size=input_1.size))\n",
    "                  for i in range(10000)]\n",
    "        circuit=q_sub_impl.compile(inputset)\n",
    "        q_result=circuit.encrypt_run_decrypt(q_inputs_0.qvalues,q_inputs_1.qvalues)\n",
    "        return q_result*q_inputs_0.quantizer.scale\n",
    "\n",
    "    def q_add(self, n_bits:int,input_0 :numpy.ndarray, input_1:numpy.ndarray):\n",
    "\n",
    "        options=QuantizationOptions(n_bits,is_symmetric=True,is_signed=True)\n",
    "        stats=MinMaxQuantizationStats(n_bits)\n",
    "        stats.compute_quantization_stats(np.hstack((input_0, input_1)))\n",
    "        # Quantize the inputs with n_bits\n",
    "        q_inputs_0 = QuantizedArray(n_bits, input_0,options=options,stats=stats)\n",
    "        q_inputs_1 = QuantizedArray(n_bits, input_1,options=options,stats=stats)\n",
    "        @fhe.compiler({\"q_inputs_0\":\"encrypted\",\"q_inputs_1\":\"encrypted\"})\n",
    "        def q_add_impl(q_inputs_0,q_inputs_1):\n",
    "            return q_inputs_0+q_inputs_1\n",
    "        inputset=[(np.random.randint(-128, 128, size=input_0.size),np.random.randint(-128, 128, size=input_1.size))\n",
    "                  for i in range(10000)]\n",
    "        circuit=q_add_impl.compile(inputset)\n",
    "        q_result=circuit.encrypt_run_decrypt(q_inputs_0.qvalues,q_inputs_1.qvalues)\n",
    "        return q_result*q_inputs_0.quantizer.scale\n",
    "\n",
    "    def q_mul(self, n_bits:int,input_0 :numpy.ndarray, input_1:numpy.ndarray):\n",
    "        options=QuantizationOptions(n_bits,is_symmetric=True,is_signed=True)\n",
    "        q_inputs_0 = QuantizedArray(n_bits, input_0, is_signed=True,options=options)\n",
    "        q_inputs_1 = QuantizedArray(n_bits, input_1, is_signed=True,options=options)\n",
    "        @fhe.compiler({\"q_inputs_0\":\"encrypted\",\"q_inputs_1\":\"encrypted\"})\n",
    "        def q_mul_impl(q_inputs_0,q_inputs_1):\n",
    "            return q_inputs_0*q_inputs_1\n",
    "        inputset=[(np.random.randint(-128, 128, size=input_0.size),np.random.randint(-128, 128, size=input_1.size))\n",
    "                  for i in range(10000)]\n",
    "        circuit=q_mul_impl.compile(inputset)\n",
    "        q_result=circuit.encrypt_run_decrypt(q_inputs_0.qvalues,q_inputs_1.qvalues)\n",
    "        return q_result*q_inputs_0.quantizer.scale*q_inputs_1.quantizer.scale\n",
    "\n",
    "    def q_div(self, n_bits:int,input_0 :numpy.ndarray, input_1:numpy.ndarray):\n",
    "        options=QuantizationOptions(n_bits,is_symmetric=True,is_signed=True)\n",
    "        q_inputs_0 = QuantizedArray(n_bits, input_0, is_signed=True,options=options)\n",
    "        q_inputs_1 = QuantizedArray(n_bits, input_1, is_signed=True,options=options)\n",
    "        @fhe.compiler({\"q_inputs_0\":\"encrypted\"})\n",
    "        def q_div_impl(q_inputs_0):\n",
    "            return numpy.floor_divide(q_inputs_0,q_inputs_1.qvalues)\n",
    "        inputset=[np.random.randint(-128, 128, size=input_0.size)\n",
    "                  for i in range(10000)]\n",
    "        circuit=q_div_impl.compile(inputset)\n",
    "        print(circuit)\n",
    "        q_result=circuit.encrypt_run_decrypt(q_inputs_0.qvalues)\n",
    "        print(q_result)\n",
    "        return q_result*q_inputs_0.quantizer.scale/q_inputs_1.quantizer.scale\n",
    "\n",
    "    def q_matmul_(\n",
    "        self,\n",
    "        n_bits: int,\n",
    "        inputs: numpy.ndarray,\n",
    "        weights: numpy.ndarray,\n",
    "    ):\n",
    "        options=QuantizationOptions(n_bits,is_symmetric=True,is_signed=True)\n",
    "        q_inputs = QuantizedArray(n_bits, inputs,is_signed=True,options=options)\n",
    "        q_weights = QuantizedArray(n_bits, weights,is_signed=True,options=options)\n",
    "\n",
    "        @fhe.compiler({\"q_inputs\":\"encrypted\",\"q_weights\":\"clear\"})\n",
    "        def q_matmul_impl(q_inputs,q_weights):\n",
    "            return q_inputs@q_weights\n",
    "        inputset=[(np.random.randint(-128, 128, size=inputs.shape),np.random.randint(-128, 128, size=weights.shape))\n",
    "                  for i in range(10000)]\n",
    "        circuit=q_matmul_impl.compile(inputset)\n",
    "        q_result=circuit.encrypt_run_decrypt(q_inputs.qvalues,q_weights.qvalues)\n",
    "        return q_result*q_inputs.quantizer.scale*q_weights.quantizer.scale\n",
    "\n",
    "\n",
    "\n",
    "    def forward(self, x):\n",
    "        out1 = np.dot(x, self.weights1) + self.bias1\n",
    "        # out1 = np.maximum(out1, 0)  # ReLU activation function\n",
    "        out1[out1 < 0] = 0\n",
    "        out2 = np.dot(out1, self.weights2) + self.bias2\n",
    "        return out2\n",
    "\n",
    "    def q_forward(self, x):\n",
    "        n_bits=8\n",
    "        # 线性层\n",
    "        out1 = self.q_matmul_(n_bits,x,self.weights1)+self.bias1\n",
    "        # 激活层\n",
    "        # 执行激活函数需要判断tlu是否存在\n",
    "        if self.relu_circuit is None:\n",
    "            out1_relu = self.q_relu(n_bits,out1)  # ReLU activation function\n",
    "        else:\n",
    "            out1_relu=self.relu_circuit.encrypt_run_decrypt(out1)\n",
    "\n",
    "        out2=self.q_matmul_(n_bits,out1_relu, self.weights2)\n",
    "        return out2\n",
    "\n",
    "    def backward(self, x, y, learning_rate):\n",
    "        # 前向传播\n",
    "        out1 = np.dot(x, self.weights1) + self.bias1\n",
    "        out_relu = np.maximum(out1, 0)  # ReLU activation function\n",
    "        out2 = np.dot(out_relu, self.weights2) + self.bias2\n",
    "        loss = np.mean((out2 - y) ** 2)  # 均方误差损失\n",
    "\n",
    "        # 反向传播\n",
    "        delta_out2 = 2 * (out2 - y) / len(x)\n",
    "        delta_weights2 = np.dot(out_relu.T, delta_out2)\n",
    "        delta_bias2 = np.sum(delta_out2, axis=0)\n",
    "        delta_relu_out = np.dot(delta_out2, self.weights2.T)\n",
    "        # delta_out1[out1 <= 0] = 0  # ReLU反向传播\n",
    "        delta_out1 = np.where(out_relu <= 0, 0, delta_relu_out) #不使用密文，直接算\n",
    "        delta_weights1 = np.dot(x.T, delta_out1)\n",
    "        delta_bias1 = np.sum(delta_out1, axis=0)\n",
    "\n",
    "        # 更新参数\n",
    "        self.weights2 -= learning_rate * delta_weights2\n",
    "        self.bias2 -= learning_rate * delta_bias2\n",
    "        self.weights1 -= learning_rate * delta_weights1\n",
    "        self.bias1 -= learning_rate * delta_bias1\n",
    "\n",
    "        return loss\n",
    "\n",
    "    def q_backward(self, x, y, learning_rate):\n",
    "        n_bits = 8\n",
    "        # 前向传播\n",
    "        out1 = self.q_matmul_(n_bits, x, self.weights1)+self.bias1\n",
    "        # 执行激活函数需要判断tlu是否存在\n",
    "        if self.relu_circuit is None:\n",
    "            out1_relu = self.q_relu(n_bits,out1)  # ReLU activation function\n",
    "        else:\n",
    "            out1_relu=self.relu_circuit.encrypt_run_decrypt(out1)\n",
    "\n",
    "        out2 = self.q_matmul_(n_bits, out1_relu, self.weights2)+ self.bias2\n",
    "        loss = np.mean((out2 - y) ** 2)  # 均方误差损失\n",
    "\n",
    "        # 反向传播\n",
    "        delta_out2 = 2 * (out2 - y) / len(x)\n",
    "        delta_weights2=self.q_matmul_(n_bits,out1_relu.T,delta_out2)  # 密文和密文矩阵乘法不能超过16位\n",
    "        delta_bias2 = np.sum(delta_out2, axis=0) #delta_out2是密文，所以delta_bias2是密文\n",
    "        # delta_out1=self.q_matmul_(n_bits,delta_out2,self.weights2.T)\n",
    "        delta_out1=delta_out2@self.weights2.T\n",
    "        delta_out1_relu=self.q_mul(n_bits,self.q_mul(n_bits,delta_out1,out1_relu),self.q_sub(n_bits,1,out1_relu))\n",
    "        delta_weights1=self.q_mul(n_bits,x.T,delta_out1_relu)\n",
    "        delta_bias1 = np.sum(delta_out1_relu, axis=0)\n",
    "\n",
    "        # 更新参数\n",
    "        self.weights2 -= learning_rate * delta_weights2\n",
    "        self.bias2 -= learning_rate * delta_bias2\n",
    "        self.weights1 -= learning_rate * delta_weights1\n",
    "        self.bias1 -= learning_rate * delta_bias1\n",
    "\n",
    "        return loss\n",
    "\n",
    "\n",
    "# 模型参数\n",
    "input_dim = X_train.shape[1]\n",
    "hidden_dim = 64\n",
    "output_dim = y_train.shape[1]"
   ],
   "metadata": {
    "collapsed": false,
    "ExecuteTime": {
     "start_time": "2023-10-15T22:47:33.755880Z",
     "end_time": "2023-10-15T22:47:33.797992Z"
    }
   }
  },
  {
   "cell_type": "code",
   "execution_count": 76,
   "outputs": [
    {
     "name": "stdout",
     "output_type": "stream",
     "text": [
      "Epoch [100/1000], Loss: 0.21421576908440051\n",
      "Epoch [200/1000], Loss: 0.11406602364812184\n",
      "Epoch [300/1000], Loss: 0.09065339377997102\n",
      "Epoch [400/1000], Loss: 0.08039673118142834\n",
      "Epoch [500/1000], Loss: 0.059730365248968464\n",
      "Epoch [600/1000], Loss: 0.0575281151748615\n",
      "Epoch [700/1000], Loss: 0.04766828966393224\n",
      "Epoch [800/1000], Loss: 0.031198193394620276\n",
      "Epoch [900/1000], Loss: 0.05187602793540308\n",
      "Epoch [1000/1000], Loss: 0.03550224456771644\n",
      "Test Accuracy: 96.67%\n"
     ]
    }
   ],
   "source": [
    "# 模型参数\n",
    "input_dim = X_train.shape[1]\n",
    "hidden_dim = 64\n",
    "output_dim = y_train.shape[1]\n",
    "\n",
    "# 创建NumPy模型实例\n",
    "numpy_model = NumPyFFNN(input_dim, hidden_dim, output_dim)\n",
    "\n",
    "# 训练模型\n",
    "learning_rate = 0.01\n",
    "num_epochs = 1000\n",
    "\n",
    "for epoch in range(num_epochs):\n",
    "    # 随机选择一批训练数据\n",
    "    batch_indices = np.random.choice(len(X_train), 32, replace=False)\n",
    "    x_batch = X_train[batch_indices]\n",
    "    y_batch = y_train[batch_indices]\n",
    "\n",
    "    # 执行一次前向传播和反向传播，并获得损失\n",
    "    loss = numpy_model.backward(x_batch, y_batch, learning_rate)\n",
    "\n",
    "    # 打印损失\n",
    "    if (epoch + 1) % 100 == 0:\n",
    "        print(f'Epoch [{epoch + 1}/{num_epochs}], Loss: {loss}')\n",
    "\n",
    "# 测试模型\n",
    "    # 前向传播\n",
    "    predictions = numpy_model.forward(X_test)\n",
    "\n",
    "    # 计算准确率\n",
    "    correct = (np.argmax(predictions, axis=1) == np.argmax(y_test, axis=1)).sum()\n",
    "    total = len(X_test)\n",
    "    accuracy = correct / total * 100\n",
    "\n",
    "print(f'Test Accuracy: {accuracy:.2f}%')\n"
   ],
   "metadata": {
    "collapsed": false,
    "ExecuteTime": {
     "start_time": "2023-10-15T22:47:40.329258Z",
     "end_time": "2023-10-15T22:47:40.507738Z"
    }
   }
  },
  {
   "cell_type": "markdown",
   "source": [
    "## 前向传播过程\n",
    "```python\n",
    "out1 = self.q_matmul_(n_bits, x, self.weights1)+self.bias1 # 线性层1\n",
    "out1_sigmoid = self.q_sigmoid(n_bits, out1)  # 使用Sigmoid激活函数\n",
    "out2 = self.q_matmul_(n_bits, out1_sigmoid, self.weights2)+ self.bias2 # 线性层2\n",
    "loss = np.mean((out2 - y) ** 2)  # 均方误差损失\n",
    "```\n",
    "\n",
    "$$[out1]=[q_x]\\cdot q_w_1+q_b_1\\\\$$\n",
    "$$[out1\\_sigmoid]=sigmoid([out1])\\\\$$\n",
    "$$[out2]=[out1\\_sigmoid]\\cdot q_w_2+q_b_2\\\\$$\n",
    "$$[loss]=\\frac{1}{n}\\sum_{i=1}^{n}([out2]-[y])^2$$\n"
   ],
   "metadata": {
    "collapsed": false
   }
  },
  {
   "cell_type": "markdown",
   "source": [
    "## 反向传播过程\n",
    "```python\n",
    "delta_out2=self.q_div(n_bits,self.q_mul(n_bits,self.q_sub(n_bits,out2,y),2),len(x))\n",
    "delta_weights2=self.q_matmul_(n_bits,out1_sigmoid.T,delta_out2)  # 密文和密文矩阵乘法不能超过16位\n",
    "delta_bias2 = np.sum(delta_out2, axis=0) #delta_out2是密文，所以delta_bias2是密文\n",
    "delta_out1=self.q_matmul_(n_bits,delta_out2,self.weights2.T)\n",
    "delta_out1_sigmoid=self.q_mul(n_bits,self.q_mul(n_bits,delta_out1,out1_sigmoid),self.q_sub(n_bits,1,out1_sigmoid))\n",
    "delta_weights1=self.q_mul(n_bits,x.T,delta_out1_sigmoid)\n",
    "delta_bias1 = np.sum(delta_out1_sigmoid, axis=0)\n",
    "```\n",
    "\n",
    "\n",
    "$$[\\delta_{out2}]=2*\\frac{[out2]-[y]}{len(x)}\\\\$$\n",
    "$$[\\delta_{weights2}]=[out1\\_sigmoid]^T\\cdot [\\delta_{out2}]\\\\$$\n",
    "$$[\\delta_{bias2}]=\\sum_{i=1}^{n}[\\delta_{out2}]\\\\$$\n",
    "$$[\\delta_{out1}]=[\\delta_{out2}]\\cdot {q_w_2^T}\\\\$$\n",
    "$$[\\delta_{out1\\_sigmoid}]=[\\delta_{out1}]\\cdot [out1\\_sigmoid]\\cdot(1-[out1\\_sigmoid])\\\\$$\n",
    "$$[\\delta_{weights1}]=[{x^T}]\\cdot [\\delta_{out1\\_sigmoid}]\\\\$$\n",
    "$$[\\delta_{bias1}]=\\sum_{i=1}^{n}[\\delta_{out1\\_sigmoid}]$$\n",
    "\n",
    "```\n",
    "```\n"
   ],
   "metadata": {
    "collapsed": false
   }
  },
  {
   "cell_type": "markdown",
   "source": [
    " ## 更新参数过程\n",
    "```python\n",
    "self.weights2 -= learning_rate * delta_weights2\n",
    "self.bias2 -= learning_rate * delta_bias2\n",
    "self.weights1 -= learning_rate * delta_weights1\n",
    "self.bias1 -= learning_rate * delta_bias1\n",
    "```\n",
    "\n",
    "$$[\\boldsymbol{w}_2] = \\boldsymbol{w}_2 - \\text{learning\\_rate} \\cdot [\\boldsymbol{\\delta}_{\\text{weights2}}]\\\\$$\n",
    "$$[\\boldsymbol{b}_2] = \\boldsymbol{b}_2 - \\text{learning\\_rate} \\cdot [\\boldsymbol{\\delta}_{\\text{bias2}}]\\\\$$\n",
    "$$[\\boldsymbol{w}_1] = \\boldsymbol{w}_1 - \\text{learning\\_rate} \\cdot [\\boldsymbol{\\delta}_{\\text{weights1}}]\\\\$$\n",
    "$$[\\boldsymbol{b}_1] = \\boldsymbol{b}_1 - \\text{learning\\_rate} \\cdot [\\boldsymbol{\\delta}_{\\text{bias1}}]\\\\$$\n",
    "\n",
    "\n",
    "\n",
    "\n"
   ],
   "metadata": {
    "collapsed": false
   }
  },
  {
   "cell_type": "markdown",
   "source": [
    "## 创建NumPy模型实例"
   ],
   "metadata": {
    "collapsed": false
   }
  },
  {
   "cell_type": "code",
   "execution_count": 4,
   "outputs": [],
   "source": [
    "numpy_model = NumPyFFNN(input_dim, hidden_dim, output_dim)"
   ],
   "metadata": {
    "collapsed": false,
    "ExecuteTime": {
     "start_time": "2023-10-08T15:30:05.625456Z",
     "end_time": "2023-10-08T15:30:05.628467Z"
    }
   }
  },
  {
   "cell_type": "markdown",
   "source": [
    "### 测试减法"
   ],
   "metadata": {
    "collapsed": false
   }
  },
  {
   "cell_type": "code",
   "execution_count": 5,
   "outputs": [
    {
     "name": "stdout",
     "output_type": "stream",
     "text": [
      "result: [-1.98425197  3.02362205  2.97637795]\n",
      "real_result [-2  3  3]\n"
     ]
    }
   ],
   "source": [
    "result=numpy_model.q_sub(8,np.array([-1,5,6]).astype(np.float32),np.array([1,2,3]).astype(np.float32))\n",
    "print(\"result:\",result)\n",
    "print(\"real_result\",np.array([-1,5,6])-np.array([1,2,3]))"
   ],
   "metadata": {
    "collapsed": false,
    "ExecuteTime": {
     "start_time": "2023-10-08T15:30:05.632478Z",
     "end_time": "2023-10-08T15:30:06.742425Z"
    }
   }
  },
  {
   "cell_type": "markdown",
   "source": [
    "### 测试加法"
   ],
   "metadata": {
    "collapsed": false
   }
  },
  {
   "cell_type": "code",
   "execution_count": 6,
   "outputs": [],
   "source": [
    "# result=numpy_model.q_add(8,np.array([-1,5,6]).astype(np.float32),np.array([1,2,3]).astype(np.float32))\n",
    "# print(\"result:\",result)\n",
    "# print(\"real_result\",np.array([-1,5,6])+np.array([1,2,3]))"
   ],
   "metadata": {
    "collapsed": false,
    "ExecuteTime": {
     "start_time": "2023-10-08T15:30:06.744436Z",
     "end_time": "2023-10-08T15:30:06.747443Z"
    }
   }
  },
  {
   "cell_type": "markdown",
   "source": [
    "### 测试乘法"
   ],
   "metadata": {
    "collapsed": false
   }
  },
  {
   "cell_type": "code",
   "execution_count": 7,
   "outputs": [],
   "source": [
    "# result=numpy_model.q_mul(8,np.array([-1,5,6]).astype(np.float32),np.array([1,2,3]).astype(np.float32))\n",
    "# print(\"result:\",result)\n",
    "# print(\"real_result\",np.array([-1,5,6])*np.array([1,2,3]))"
   ],
   "metadata": {
    "collapsed": false,
    "ExecuteTime": {
     "start_time": "2023-10-08T15:30:06.750447Z",
     "end_time": "2023-10-08T15:30:06.753455Z"
    }
   }
  },
  {
   "cell_type": "markdown",
   "source": [
    "### 测试除法"
   ],
   "metadata": {
    "collapsed": false
   }
  },
  {
   "cell_type": "code",
   "execution_count": 8,
   "outputs": [],
   "source": [
    "# result=numpy_model.q_div(8,np.array([2,4,6]).astype(np.float32),np.array([1,2,3]).astype(np.float32))\n",
    "# print(\"result:\",result)\n",
    "# print(\"real_result\",np.array([2,4,6])/np.array([1,2,3]))"
   ],
   "metadata": {
    "collapsed": false,
    "ExecuteTime": {
     "start_time": "2023-10-08T15:30:06.756493Z",
     "end_time": "2023-10-08T15:30:06.790556Z"
    }
   }
  },
  {
   "cell_type": "markdown",
   "source": [
    "### 测试矩阵相乘"
   ],
   "metadata": {
    "collapsed": false
   }
  },
  {
   "cell_type": "code",
   "execution_count": 9,
   "outputs": [],
   "source": [
    "# matrix1 = np.array([[1.0, 2.0], [3.0, 4.0]], dtype=np.float64)\n",
    "# matrix2 = np.array([[5.0, 6.0], [7.0, 8.0]], dtype=np.float64)\n",
    "# result=numpy_model.q_matmul_(8,matrix1,matrix2)\n",
    "# print(\"result:\\n\", result)\n",
    "# real_result = matrix1 @ matrix2\n",
    "# print(\"real_result:\\n\", real_result)"
   ],
   "metadata": {
    "collapsed": false,
    "ExecuteTime": {
     "start_time": "2023-10-08T15:30:06.782560Z",
     "end_time": "2023-10-08T15:30:06.828657Z"
    }
   }
  },
  {
   "cell_type": "markdown",
   "source": [
    "### 测试q_sigmoid"
   ],
   "metadata": {
    "collapsed": false
   }
  },
  {
   "cell_type": "code",
   "execution_count": 10,
   "outputs": [
    {
     "name": "stdout",
     "output_type": "stream",
     "text": [
      "result: [0.88235294 0.95294118]\n",
      "real_result: [0.88079708 0.95257413]\n"
     ]
    }
   ],
   "source": [
    "print(\"result:\",numpy_model.q_sigmoid(8,np.array([2,3]).astype(np.float32)))\n",
    "print(\"real_result:\",numpy_model.sigmoid(np.array([2,3])))"
   ],
   "metadata": {
    "collapsed": false,
    "ExecuteTime": {
     "start_time": "2023-10-08T15:30:06.824647Z",
     "end_time": "2023-10-08T15:32:19.489982Z"
    }
   }
  },
  {
   "cell_type": "markdown",
   "source": [
    "### 测试q_np.sum"
   ],
   "metadata": {
    "collapsed": false
   }
  },
  {
   "cell_type": "markdown",
   "source": [
    "## 训练模型"
   ],
   "metadata": {
    "collapsed": false
   }
  },
  {
   "cell_type": "code",
   "execution_count": null,
   "outputs": [],
   "source": [
    "learning_rate = 0.01\n",
    "num_epochs = 1000\n",
    "\n",
    "for epoch in range(num_epochs):\n",
    "    # 随机选择一批训练数据\n",
    "    batch_indices = np.random.choice(len(X_train), 32, replace=False)\n",
    "    x_batch = X_train[batch_indices]\n",
    "    y_batch = y_train[batch_indices]\n",
    "\n",
    "    # 执行一次前向传播和反向传播，并获得损失\n",
    "    loss = numpy_model.q_backward(x_batch, y_batch, learning_rate)\n",
    "\n",
    "    # 打印损失\n",
    "    if (epoch + 1) % 100 == 0:\n",
    "        print(f'Epoch [{epoch + 1}/{num_epochs}], Loss: {loss}')"
   ],
   "metadata": {
    "collapsed": false,
    "ExecuteTime": {
     "start_time": "2023-10-06T18:31:21.448867Z",
     "end_time": "2023-10-06T18:32:06.561027Z"
    },
    "pycharm": {
     "is_executing": true
    }
   }
  },
  {
   "cell_type": "markdown",
   "source": [
    "## 测试模型"
   ],
   "metadata": {
    "collapsed": false
   }
  },
  {
   "cell_type": "code",
   "execution_count": null,
   "outputs": [],
   "source": [
    "# 前向传播\n",
    "predictions = numpy_model.forward(X_test)\n",
    "\n",
    "# 计算准确率\n",
    "correct = (np.argmax(predictions, axis=1) == np.argmax(y_test, axis=1)).sum()\n",
    "total = len(X_test)\n",
    "accuracy = correct / total * 100\n",
    "\n",
    "print(f'Test Accuracy: {accuracy:.2f}%')\n"
   ],
   "metadata": {
    "collapsed": false,
    "ExecuteTime": {
     "start_time": "2023-10-06T20:48:04.556092Z",
     "end_time": "2023-10-06T20:48:04.556092Z"
    },
    "pycharm": {
     "is_executing": true
    }
   }
  }
 ],
 "metadata": {
  "kernelspec": {
   "display_name": "Python 3",
   "language": "python",
   "name": "python3"
  },
  "language_info": {
   "codemirror_mode": {
    "name": "ipython",
    "version": 2
   },
   "file_extension": ".py",
   "mimetype": "text/x-python",
   "name": "python",
   "nbconvert_exporter": "python",
   "pygments_lexer": "ipython2",
   "version": "2.7.6"
  }
 },
 "nbformat": 4,
 "nbformat_minor": 0
}
